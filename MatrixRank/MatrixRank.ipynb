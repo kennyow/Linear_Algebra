{
 "cells": [
  {
   "cell_type": "markdown",
   "id": "49bc1a32-fc04-4e12-b4b9-af579680b913",
   "metadata": {},
   "source": [
    "# Matrix Rank"
   ]
  },
  {
   "cell_type": "markdown",
   "id": "7f4ca8b8-a282-4d01-848a-9d0110bfb0ca",
   "metadata": {},
   "source": [
    "* Terminology: r or rank(A), non negative integer.\n",
    "* Maximum possible ran is min(m,n)\n",
    "* Rank is a property of the matrix, not columns or rows\n",
    "* More terminology: full rank, full column-rank, full row-rank, singular\n",
    "* Rank is the number of dimensions of information\n",
    "* The rank is the number of columns that form a linearly independent set\n",
    "* The maximum rank of a matrix is the smaller of mxn"
   ]
  },
  {
   "cell_type": "code",
   "execution_count": 1,
   "id": "3f31af10-bf6c-4093-9105-2e0381aa12ac",
   "metadata": {},
   "outputs": [],
   "source": [
    "import numpy as np"
   ]
  },
  {
   "cell_type": "code",
   "execution_count": 2,
   "id": "4ba87a47-d9af-428f-be54-62b3cf85c2c4",
   "metadata": {},
   "outputs": [
    {
     "name": "stdout",
     "output_type": "stream",
     "text": [
      "[[-0.29394854 -0.78140199 -0.3633244  -1.59068879  1.36733143  1.09856826]\n",
      " [ 0.37420836  0.0166773  -1.24357443  1.17532332 -0.39557632 -0.19936619]\n",
      " [-0.97738937  0.56809948  0.34032031  0.24426142 -0.3166968   0.07578634]\n",
      " [-0.99324723  0.67248198  0.23172864  0.71572762 -0.38564842 -0.70743656]]\n",
      "Matrix Rank of A is: 4\n",
      "[[-0.29394854 -0.78140199 -0.3633244  -1.59068879  1.36733143  1.36733143]\n",
      " [ 0.37420836  0.0166773  -1.24357443  1.17532332 -0.39557632 -0.39557632]\n",
      " [-0.97738937  0.56809948  0.34032031  0.24426142 -0.3166968  -0.3166968 ]\n",
      " [-0.99324723  0.67248198  0.23172864  0.71572762 -0.38564842 -0.38564842]]\n",
      "rank = 4\n"
     ]
    }
   ],
   "source": [
    "#FOR COLUMNS\n",
    "\n",
    "#make a matrix\n",
    "m = 4\n",
    "n = 6\n",
    "\n",
    "#Create a random matrix\n",
    "A = np.random.randn(m,n)\n",
    "print(A)\n",
    "\n",
    "#What is the largest possible rank?\n",
    "ra = np.linalg.matrix_rank(A)\n",
    "print(f'Matrix Rank of A is: {str(ra)}')\n",
    "\n",
    "#set last column to be repeat of penultimate column\n",
    "B = A\n",
    "B[:,-1] = B[:,-2]\n",
    "print(B)\n",
    "\n",
    "rb = np.linalg.matrix_rank(B)\n",
    "print(f'rank = {str(rb)}')\n"
   ]
  },
  {
   "cell_type": "code",
   "execution_count": 3,
   "id": "0a46e3f1-fc6c-4c7f-bb5f-4b2df45a3231",
   "metadata": {},
   "outputs": [
    {
     "name": "stdout",
     "output_type": "stream",
     "text": [
      "[[-0.04384453  1.51289172 -0.57433914 -0.25441648 -0.69339238 -1.2479896 ]\n",
      " [ 0.0867115   0.60379491  0.96268531 -1.20001524 -0.51887082 -1.66822505]\n",
      " [-0.00940717  0.46041954 -0.42754436  0.65748101  0.58773581 -1.55090969]\n",
      " [ 0.76610472 -1.14213615 -1.74477869  0.02479109  0.55316336 -0.72577724]]\n",
      "Matrix Rank of A is: 4\n",
      "[[-0.04384453  1.51289172 -0.57433914 -0.25441648 -0.69339238 -1.2479896 ]\n",
      " [ 0.0867115   0.60379491  0.96268531 -1.20001524 -0.51887082 -1.66822505]\n",
      " [-0.00940717  0.46041954 -0.42754436  0.65748101  0.58773581 -1.55090969]\n",
      " [-0.00940717  0.46041954 -0.42754436  0.65748101  0.58773581 -1.55090969]]\n",
      "rank = 3\n"
     ]
    }
   ],
   "source": [
    "#FOR ROWS\n",
    "\n",
    "#make a matrix\n",
    "m = 4\n",
    "n = 6\n",
    "\n",
    "#Create a random matrix\n",
    "A = np.random.randn(m,n)\n",
    "print(A)\n",
    "\n",
    "#What is the largest possible rank?\n",
    "ra = np.linalg.matrix_rank(A)\n",
    "print(f'Matrix Rank of A is: {str(ra)}')\n",
    "\n",
    "#set last column to be repeat of penultimate row\n",
    "B = A\n",
    "B[-1,:] = B[-2,:]\n",
    "print(B)\n",
    "\n",
    "rb = np.linalg.matrix_rank(B)\n",
    "print(f'rank = {str(rb)}')"
   ]
  },
  {
   "cell_type": "code",
   "execution_count": 4,
   "id": "967053a5-5ca8-419e-95b2-2d4249cf6162",
   "metadata": {},
   "outputs": [
    {
     "name": "stdout",
     "output_type": "stream",
     "text": [
      "A :\n",
      " [[ 11.   1.  -5. -23.]\n",
      " [ -4.   8.  20.  -1.]\n",
      " [  1.  16.   0. -13.]\n",
      " [  1.   3.  -3.  -8.]]\n",
      "A with the last 2 columns equal:\n",
      " [[11.  1. -5. -5.]\n",
      " [-4.  8. 20. 20.]\n",
      " [ 1. 16.  0.  0.]\n",
      " [ 1.  3. -3. -3.]]\n",
      "Rank with no noise: \n",
      "3\n",
      "Rank with noise: \n",
      "4\n"
     ]
    }
   ],
   "source": [
    "#adding noise to a rank-deficient matrix\n",
    "\n",
    "#square for convenience\n",
    "A = np.round(10*np.random.randn(m,m))\n",
    "print(f'A :\\n {A}')\n",
    "\n",
    "#reduce the rank\n",
    "A[:,-1] = A[:,-2]\n",
    "print(f'A with the last 2 columns equal:\\n {A}')\n",
    "\n",
    "#noise level\n",
    "noiseamp = 0.01\n",
    "\n",
    "#add the noise\n",
    "B = A + noiseamp*np.random.randn(m,m)\n",
    "\n",
    "print(f'Rank with no noise: \\n{str(np.linalg.matrix_rank(A))}')\n",
    "print(f'Rank with noise: \\n{str(np.linalg.matrix_rank(B))}')"
   ]
  },
  {
   "cell_type": "markdown",
   "id": "41da6953-c5d7-4695-8b1f-d7123a4af941",
   "metadata": {},
   "source": [
    "$$ rank(A+B) \\leq rank(A) + rank(B) $$\n",
    "$$\\text{rank}(A+B) \\leq \\min\\{\\text{rank}(A), \\text{rank}(B)\\}$$\n"
   ]
  },
  {
   "cell_type": "markdown",
   "id": "7d901805-4e62-4389-b352-0d5f51ef9b87",
   "metadata": {},
   "source": [
    "Consider the following matrices, all 10x10, and their ranks:\n",
    "\n",
    "A: r=3;  B: r=2;  C: r=1;  D: r=6\n",
    "\n",
    "If these matrices contained randomly generated numbers, what is the maximum possible rank of the matrix product (A+B)(C+D)?\n",
    "The maximum possible rank of (C+D) is 7. The maximum possible rank of (A+B) is 5. And the maximum possible rank of multiplied matrices is the smaller of their two ranks, which is 5. We assume that matrices of randomly generated numbers have maximum possible rank"
   ]
  },
  {
   "cell_type": "markdown",
   "id": "b36cbabe-600f-4421-990e-057d739da31b",
   "metadata": {},
   "source": [
    "## Challenge"
   ]
  },
  {
   "cell_type": "code",
   "execution_count": 5,
   "id": "8bd6e78d-1382-41a3-8094-7cc39d7de7de",
   "metadata": {},
   "outputs": [
    {
     "name": "stdout",
     "output_type": "stream",
     "text": [
      "A :\n",
      " [[ 0.35857868 -0.4064164   0.55663009 -1.76393676]\n",
      " [-1.31067166  0.60435204 -0.81840196  0.20822253]\n",
      " [ 3.33844412 -0.86137752  0.5584113  -1.70626821]\n",
      " [ 0.64428386 -0.56346309 -0.35451296 -0.72852471]\n",
      " [ 0.45855157 -0.03608371  1.30675717  1.14824522]\n",
      " [ 1.10380895  0.12005651 -0.14546178  0.58950434]\n",
      " [ 0.50339819 -1.17754946  0.54263653  0.66931225]\n",
      " [ 0.63994015  0.56702044  1.44976808  0.81030972]\n",
      " [-2.05919258  2.82027049  0.90435868  1.08091621]\n",
      " [-0.05196258  0.37716285  0.04334915  0.48679395]]\n",
      "B :\n",
      " [[-0.49517389  0.39431972 -0.12753002  1.7161536   0.15415628  1.14823498\n",
      "   0.44795149  0.55108374  1.16349255 -0.69520185]\n",
      " [ 0.55930214  2.06466647 -1.75029168 -1.47052341  0.38324982 -0.13074972\n",
      "  -1.20855141 -0.60474578  0.80062193 -0.66615888]\n",
      " [ 0.07815497  0.49063338  0.2737816  -0.27113746  0.87055479 -1.26038482\n",
      "   1.07110835 -0.21921194  0.62238074 -0.79798177]\n",
      " [-0.96166529  1.88573884 -0.87646916 -1.1677083  -0.50138821 -1.87570781\n",
      "  -1.37447135 -0.89000129  0.42342358 -1.2119834 ]]\n",
      "C :\n",
      " [[ 1.33495179 -3.75094242  2.36404894  3.12186124  1.26851223  3.07193325\n",
      "   3.67249264  1.89127151 -0.30863882  1.71513474]\n",
      " [ 0.72282322  0.72207969 -1.29720638 -3.15927145 -0.78729452 -0.94304111\n",
      "  -2.4803009  -1.09368401 -1.46229051  0.9092945 ]\n",
      " [-0.45037913 -3.40564396  2.73028427  8.83697603  1.52614973  6.44259066\n",
      "   5.47981581  3.75684716  2.81968739 -0.12471155]\n",
      " [ 0.03871131 -2.45705275  1.44552954  2.88110183 -0.05997598  2.62678414\n",
      "   1.59119658  1.42190768 -0.230618    1.09330334]\n",
      " [-1.24934247  2.9127444  -0.64395753 -0.85511942  0.61874663 -3.26954654\n",
      "   0.07046623 -1.03387471  1.80412652 -2.72917098]\n",
      " [-1.05770393  1.7234131  -0.90740981  1.06883083 -0.20603226  0.32933461\n",
      "  -0.61670375  0.04291483  1.53947079 -1.44574036]\n",
      " [-1.50912019 -0.70436333  1.55878899  1.6668321  -0.23688406 -1.2073814\n",
      "   1.30989903  0.27489144  0.26405725 -0.80973774]\n",
      " [-0.66568606  3.66238624 -1.3873544  -1.07487305  1.17178408 -2.68650605\n",
      "   0.04049999 -1.02922577  2.44394657 -2.96158372]\n",
      " [ 1.62824224  7.4929719  -5.37348006 -9.18856488  1.00876582 -5.90050945\n",
      "  -4.8478825  -4.00059725  0.88265598 -2.47890797]\n",
      " [-0.22806639  1.69746041 -1.06830989 -1.22398947 -0.0697977  -1.076699\n",
      "  -1.10175011 -0.69947326  0.47460648 -0.83970392]]\n",
      "Shape of C :(10, 10)\n",
      "Matrix Rank of C :4\n",
      " \n",
      "Shape of A :(8, 47)\n",
      "Matrix Rank of A :3\n"
     ]
    }
   ],
   "source": [
    "#create reduced-rank matrices using matrix multiplication\n",
    "\n",
    "#create a 10x10 matrix with rank 4 (use matrix multiplication)\n",
    "\n",
    "A = np.random.randn(10,4)\n",
    "B = np.random.randn(4,10)\n",
    "C = A@B\n",
    "print(f'A :\\n {A}')\n",
    "\n",
    "print(f'B :\\n {B}')\n",
    "\n",
    "print(f'C :\\n {C}')\n",
    "print(f'Shape of C :{np.shape(C)}')\n",
    "rc = np.linalg.matrix_rank(C)\n",
    "print(f'Matrix Rank of C :{rc}'), print(' ')\n",
    "\n",
    "\n",
    "#generalize the produce to create any MxN matrix with rank r\n",
    "m = 8\n",
    "n = 47\n",
    "r = 3\n",
    "\n",
    "A = np.random.randn(m,r) @ np.random.randn(r,n) #min of (8x3)(3x47) = 3\n",
    "print(f'Shape of A :{np.shape(A)}')\n",
    "ra = np.linalg.matrix_rank(A)\n",
    "print(f'Matrix Rank of A :{ra}')"
   ]
  },
  {
   "cell_type": "markdown",
   "id": "3b9abe41-36d6-4acc-9249-769dab878638",
   "metadata": {},
   "source": [
    "## Challenge"
   ]
  },
  {
   "cell_type": "code",
   "execution_count": 17,
   "id": "6f1340b6-0cd2-47a0-a68c-aa38f2f31b81",
   "metadata": {
    "scrolled": true
   },
   "outputs": [
    {
     "name": "stdout",
     "output_type": "stream",
     "text": [
      "Rank of Full: 5\n",
      "Rank of Reduced: 4\n",
      "Rank of Full with scalar: 5\n",
      "Rank of Reduced with scalar: 4\n",
      "5\n",
      "6.117\n",
      "Ok, Computer! They are different\n"
     ]
    }
   ],
   "source": [
    "# test whether the matrix rank is invariant to scalar multiplication\n",
    "    # rank(A) != rank(lambda.A)\n",
    "\n",
    "#create two matrices: full rank and recuded rank(random)\n",
    "\n",
    "F = np.random.randn(5,5)\n",
    "R = np.random.randn(5,4)\n",
    "\n",
    "rf = np.linalg.matrix_rank(F)\n",
    "rr = np.linalg.matrix_rank(R)\n",
    "\n",
    "#create the scalar :\n",
    "lamb = 1.2234\n",
    "\n",
    "FwS = np.multiply(F,lamb)\n",
    "RwS = np.multiply(R,lamb)\n",
    "\n",
    "rFwS = np.linalg.matrix_rank(FwS)\n",
    "rRwS = np.linalg.matrix_rank(RwS)\n",
    "\n",
    "# Print ranks of F, R, l*F, l* R\n",
    "print(f'Rank of Full: {rf}')\n",
    "print(f'Rank of Reduced: {rr}')\n",
    "print(f'Rank of Full with scalar: {rFwS}')\n",
    "print(f'Rank of Reduced with scalar: {rRwS}')\n",
    "\n",
    "#check wether rank (l*F) ==l*rank(F)\n",
    "\n",
    "rank_l_F = rFwS\n",
    "print(rank_l_F)\n",
    "l_rank_F = lamb*rf\n",
    "print(l_rank_F)\n",
    "if rank_l_F != l_rank_F:\n",
    "    print(\"Ok, Computer! They are different\")\n",
    "else:\n",
    "    print(\"Equals\")"
   ]
  },
  {
   "cell_type": "markdown",
   "id": "d447d4d5-b682-409e-9526-309f47aeed8e",
   "metadata": {},
   "source": [
    "# Rank of AtA and AAt\n",
    "\n",
    "## $$ rank(A) = rank(A^TA)= rank(A)= rank(AA^T)$$"
   ]
  },
  {
   "cell_type": "markdown",
   "id": "d59bb136-b703-48ef-bc40-571bdcbf8743",
   "metadata": {},
   "source": [
    "## Challenge"
   ]
  },
  {
   "cell_type": "code",
   "execution_count": 29,
   "id": "27e691e5-d27a-4984-a3db-0751e9001597",
   "metadata": {},
   "outputs": [
    {
     "name": "stdout",
     "output_type": "stream",
     "text": [
      "Rank of A: 2\n",
      "Rank of B: 2\n",
      "AtA: [[ 3.07289129  0.15876883  1.44968017  2.73324124 -1.34721869]\n",
      " [ 0.15876883  0.02124973  0.09947226  0.23959583 -0.05128049]\n",
      " [ 1.44968017  0.09947226  0.73018196  1.4747188  -0.6010539 ]\n",
      " [ 2.73324124  0.23959583  1.4747188   3.17292517 -1.06011629]\n",
      " [-1.34721869 -0.05128049 -0.6010539  -1.06011629  0.61639312]]\n",
      "BtB: [[ 1.08247715 -0.05577557  1.50276471  0.58583801 -1.66797041]\n",
      " [-0.05577557  0.17766291 -0.46637372  0.20447951  0.72210458]\n",
      " [ 1.50276471 -0.46637372  2.95171416  0.29111832 -3.7311767 ]\n",
      " [ 0.58583801  0.20447951  0.29111832  0.6321093  -0.04862142]\n",
      " [-1.66797041  0.72210458 -3.7311767  -0.04862142  4.88551406]]\n",
      "Rank of Ata: 2\n",
      "Rank of Btb: 2\n",
      "Rank of Sum: 4\n",
      "Rank of Multiplication: 2\n"
     ]
    }
   ],
   "source": [
    "#rules: rank of AB <=min(rank(A), rank(B))\n",
    "    #rank of A+B <=rank(A) + rank(B)\n",
    "\n",
    "#generate two matrices (A and B), 2x5\n",
    "m = 2\n",
    "n = 5\n",
    "\n",
    "A = np.random.randn(m,n)\n",
    "B = np.random.randn(m,n)\n",
    "\n",
    "ra = np.linalg.matrix_rank(A)\n",
    "rb = np.linalg.matrix_rank(B)\n",
    "print(f'Rank of A: {ra}')\n",
    "print(f'Rank of B: {rb}')\n",
    "\n",
    "#compute Ata and BtB\n",
    "AtA = A.T@A\n",
    "BtB = B.T@B\n",
    "\n",
    "print(f'AtA: {AtA}')\n",
    "print(f'BtB: {BtB}')\n",
    "\n",
    "#find ranks of AtA and BtB\n",
    "rAtA = np.linalg.matrix_rank(AtA)\n",
    "rBtB = np.linalg.matrix_rank(BtB)\n",
    "\n",
    "print(f'Rank of Ata: {rAtA}')\n",
    "print(f'Rank of Btb: {rBtB}')\n",
    "\n",
    "sum_rank = np.linalg.matrix_rank(AtA+BtB)\n",
    "mult_rank = np.linalg.matrix_rank(AtA@BtB)\n",
    "\n",
    "print(f'Rank of Sum: {sum_rank}') # should be 4, not 2\n",
    "print(f'Rank of Multiplication: {mult_rank}')"
   ]
  },
  {
   "cell_type": "markdown",
   "id": "cf18dcf9-653e-460f-8698-a90a7ccce7e0",
   "metadata": {},
   "source": [
    "# Making a Matrix Full-Rank by shifting\n",
    "\n",
    "## $$ Ã = A + \\lambda I $$ "
   ]
  },
  {
   "cell_type": "code",
   "execution_count": 37,
   "id": "2b3eb84f-a9a7-42a2-9a7a-620316bc8ff4",
   "metadata": {},
   "outputs": [
    {
     "name": "stdout",
     "output_type": "stream",
     "text": [
      "Matrix A: \n",
      " [[   1.    1.  105.    6.   -5.  -43.    7.  -27.   52. -152.  122.   87.\n",
      "    61.   28.   64.   49.  -11.  -21. -118.  -62.   52.   89.   47.   23.\n",
      "   -15.   52.   52.   36.   -3.  -62.]\n",
      " [ 199.  199.    3.  -36.  -23.   52.  -11.   -5.  -27.  -11.  -27.   35.\n",
      "    17.   11.   28.   26.  -37.   13.   35.   19.  -23.   83.   22.  -63.\n",
      "   -72.   29.  -20.   71.  -53.   37.]\n",
      " [   3.    3.  238.  -25.   36.  -93.  -84.  -17.   12. -106.   37.  -35.\n",
      "   -36.  -30.  -74.   24.   35.  -71.   -7.  -74.  -21.   27.   56.  -19.\n",
      "   -84.   -4.   58.   20.  -13.  -28.]\n",
      " [ -36.  -36.  -25.  169.   47.  -42.   15.  -22.   24.  -36.    9.  -77.\n",
      "   -11.   43.  -27.  -43.   14.  -67.  -12.   58.  -28.  -46.  -34.  -11.\n",
      "   -19.   18.  -28.  -23.    9.  -27.]\n",
      " [ -23.  -23.   36.   47.  191.  -75.  -25.  -33.  -42.   -1.  -14.    3.\n",
      "    37.   18.   28.  -40.   21. -105.  -23.   65.   19.   52.  -19.  -11.\n",
      "   -10.   39.   30.   15.   20.   33.]\n",
      " [  52.   52.  -93.  -42.  -75.  315.   39.   15.   27.    2.  -81.   24.\n",
      "    -8.   80.   51.   35.  -25.   31.   13.  -82.   30.  -25.   39.  -15.\n",
      "    88.   23.  -74.   55.   39.   11.]\n",
      " [ -11.  -11.  -84.   15.  -25.   39.  200.   33.   -0.   37.   13.   -6.\n",
      "    18.  -34.   61.   21.    6.   44.   59.  -37.   -1.   62.   10.   87.\n",
      "    39.   28.    7.   -7.   22.   16.]\n",
      " [  -5.   -5.  -17.  -22.  -33.   15.   33.  198.    7.  -17.    1.  -57.\n",
      "    25.   10.  -20.  -46.  -26.  -46.  -51.  -14.   -6.  -34.  -78.   29.\n",
      "    42.    1.  -59.  -15.  -16.   35.]\n",
      " [ -27.  -27.   12.   24.  -42.   27.   -0.    7.  428.  -11.   27.  -49.\n",
      "    -6.  -76. -154.   79.    6.  -14. -106.   13.   66.  -14.   80.  136.\n",
      "    18.   51.   -7.   44.   14.   -0.]\n",
      " [ -11.  -11. -106.  -36.   -1.    2.   37.  -17.  -11.  327. -117.  110.\n",
      "    56.    1.   44.   78.   30.  120.    8.  -28.   18.   -1.  -38.   74.\n",
      "    25.  -63.   -8.   22.  -13.   35.]\n",
      " [ -27.  -27.   37.    9.  -14.  -81.   13.    1.   27. -117.  273.   49.\n",
      "     1.   -4.  -15.  -22.  -35.  -75.  -34.  -12.   24.   71.  -66.  -23.\n",
      "   -41.  -36.    1.  -59.  -63.  -59.]\n",
      " [  35.   35.  -35.  -77.    3.   24.   -6.  -57.  -49.  110.   49.  340.\n",
      "    87.  125.  157.   45.  -79.   78.  -20.  -46.   32.   76.  -20.  -39.\n",
      "   -18.  -33.  -86.   62.   28.  -26.]\n",
      " [  17.   17.  -36.  -11.   37.   -8.   18.   25.   -6.   56.    1.   87.\n",
      "   323.  -54.   -1.  -70.  -80. -105.    6.  -18.   49.  164.  -58.   55.\n",
      "     6.   40.   63.  107.   -0.    2.]\n",
      " [  11.   11.  -30.   43.   18.   80.  -34.   10.  -76.    1.   -4.  125.\n",
      "   -54.  371.   89.   21.    0.  -48.   29.    2.   19.  -45.  -33.  -73.\n",
      "    28.  -88. -138.  -76.   43.  -23.]\n",
      " [  28.   28.  -74.  -27.   28.   51.   61.  -20. -154.   44.  -15.  157.\n",
      "    -1.   89.  324.  -15.  -37.   86.   29.   43.  -24.   38.   -8.  -53.\n",
      "    39.    8.  -84.   86.  -41.   15.]\n",
      " [  26.   26.   24.  -43.  -40.   35.   21.  -46.   79.   78.  -22.   45.\n",
      "   -70.   21.  -15.  206.   48.   98.  -45. -104.   13.    9.   84.   64.\n",
      "    13.   18.    1.  -28.   33.  -77.]\n",
      " [ -37.  -37.   35.   14.   21.  -25.    6.  -26.    6.   30.  -35.  -79.\n",
      "   -80.    0.  -37.   48.  197.  -48.    3.  -70.  -81.  -99.   15.   52.\n",
      "    -3.   17.  -11.  -96.  -14.  -39.]\n",
      " [  13.   13.  -71.  -67. -105.   31.   44.  -46.  -14.  120.  -75.   78.\n",
      "  -105.  -48.   86.   98.  -48.  377.   38.  -29.   -0.  -16.   95.   49.\n",
      "   -20.   -3.  -27.    9.   92.   28.]\n",
      " [  35.   35.   -7.  -12.  -23.   13.   59.  -51. -106.    8.  -34.  -20.\n",
      "     6.   29.   29.  -45.    3.   38.  354.   24.  -54.   49.   48.  -44.\n",
      "    32.  -38.    2.   41.   72.   41.]\n",
      " [  19.   19.  -74.   58.   65.  -82.  -37.  -14.   13.  -28.  -12.  -46.\n",
      "   -18.    2.   43. -104.  -70.  -29.   24.  350.   29.  -14.   -9.  -97.\n",
      "    23.  -80.  -37.   11.   51.   82.]\n",
      " [ -23.  -23.  -21.  -28.   19.   30.   -1.   -6.   66.   18.   24.   32.\n",
      "    49.   19.  -24.   13.  -81.   -0.  -54.   29.  218.   77.   30.   25.\n",
      "    38.  -57.   78.   11.   31.   62.]\n",
      " [  83.   83.   27.  -46.   52.  -25.   62.  -34.  -14.   -1.   71.   76.\n",
      "   164.  -45.   38.    9.  -99.  -16.   49.  -14.   77.  416.   59.   59.\n",
      "    -3.   71.   71.  149.  -50.   67.]\n",
      " [  22.   22.   56.  -34.  -19.   39.   10.  -78.   80.  -38.  -66.  -20.\n",
      "   -58.  -33.   -8.   84.   15.   95.   48.   -9.   30.   59.  286.   47.\n",
      "    45.   24.  -80.   67.   43.   45.]\n",
      " [ -63.  -63.  -19.  -11.  -11.  -15.   87.   29.  136.   74.  -23.  -39.\n",
      "    55.  -73.  -53.   64.   52.   49.  -44.  -97.   25.   59.   47.  224.\n",
      "     1.   61.   29.   -7.   14.   40.]\n",
      " [ -72.  -72.  -84.  -19.  -10.   88.   39.   42.   18.   25.  -41.  -18.\n",
      "     6.   28.   39.   13.   -3.  -20.   32.   23.   38.   -3.   45.    1.\n",
      "   280.    8.    1.   22.   42.   19.]\n",
      " [  29.   29.   -4.   18.   39.   23.   28.    1.   51.  -63.  -36.  -33.\n",
      "    40.  -88.    8.   18.   17.   -3.  -38.  -80.  -57.   71.   24.   61.\n",
      "     8.  229.   -7.   99.  -24.  -17.]\n",
      " [ -20.  -20.   58.  -28.   30.  -74.    7.  -59.   -7.   -8.    1.  -86.\n",
      "    63. -138.  -84.    1.  -11.  -27.    2.  -37.   78.   71.  -80.   29.\n",
      "     1.   -7.  387.  -35.  -20.  -24.]\n",
      " [  71.   71.   20.  -23.   15.   55.   -7.  -15.   44.   22.  -59.   62.\n",
      "   107.  -76.   86.  -28.  -96.    9.   41.   11.   11.  149.   67.   -7.\n",
      "    22.   99.  -35.  405.  -28.   45.]\n",
      " [ -53.  -53.  -13.    9.   20.   39.   22.  -16.   14.  -13.  -63.   28.\n",
      "    -0.   43.  -41.   33.  -14.   92.   72.   51.   31.  -50.   43.   14.\n",
      "    42.  -24.  -20.  -28.  324.  -19.]\n",
      " [  37.   37.  -28.  -27.   33.   11.   16.   35.   -0.   35.  -59.  -26.\n",
      "     2.  -23.   15.  -77.  -39.   28.   41.   82.   62.   67.   45.   40.\n",
      "    19.  -17.  -24.   45.  -19.  228.]]\n",
      "rank(w/o shift) = 29\n",
      "rank(with shift) = 30\n"
     ]
    }
   ],
   "source": [
    "# size of matrix\n",
    "m = 30\n",
    "\n",
    "#create the square symmetric matrix\n",
    "A = np.random.randn(m,m)\n",
    "#print(f'Matrix A: \\n {A}')\n",
    "A = np.round(10*A.T@A) \n",
    "\n",
    "#print(f'Matrix A: \\n {A}')\n",
    "\n",
    "#reduce the rank\n",
    "A[:,0] = A[:,1] #reduces the rank to 29\n",
    "print(f'Matrix A: \\n {A}')\n",
    "\n",
    "#shift the amount (l = lambda)\n",
    "l = 0.01\n",
    "\n",
    "#new matrix\n",
    "B = A + l*np.eye(m,m)\n",
    "\n",
    "#print information\n",
    "print(f'rank(without shift) = {np.linalg.matrix_rank(A)}')\n",
    "print(f'rank(with shift) = {np.linalg.matrix_rank(B)}')"
   ]
  },
  {
   "cell_type": "markdown",
   "id": "47e32d50-ee5c-4746-aec3-39cb29db2377",
   "metadata": {},
   "source": [
    "## Challenge"
   ]
  },
  {
   "cell_type": "code",
   "execution_count": 46,
   "id": "023f8d27-74ff-4898-b775-c2854c8cc9a8",
   "metadata": {},
   "outputs": [
    {
     "name": "stdout",
     "output_type": "stream",
     "text": [
      "[[1]\n",
      " [2]\n",
      " [3]\n",
      " [4]]\n",
      "[[4 0]\n",
      " [3 4]\n",
      " [6 0]\n",
      " [2 1]]\n",
      "[[1 0]\n",
      " [2 0]\n",
      " [2 1]\n",
      " [2 2]]\n",
      "[[4 0 1]\n",
      " [3 4 2]\n",
      " [6 0 3]\n",
      " [2 1 4]]\n",
      "[[1 0 1]\n",
      " [2 0 2]\n",
      " [2 1 3]\n",
      " [2 2 4]]\n",
      " \n",
      "3\n",
      "2\n"
     ]
    }
   ],
   "source": [
    "# Determine wheter this vector\n",
    "v = np.array([[1, 2, 3, 4]]).T\n",
    "print(v)\n",
    "\n",
    "#is in the span of these sets\n",
    "S = np.vstack(([4, 3, 6, 2], [0,4,0,1])).T\n",
    "T = np.vstack(([1, 2, 2, 2], [0,0,1,2])).T\n",
    "print(S)\n",
    "print(T)\n",
    "\n",
    "Sv = np.concatenate((S,v),axis=1)\n",
    "Tv = np.concatenate((T,v),axis=1)\n",
    "\n",
    "print(Sv)\n",
    "print(Tv)\n",
    "\n",
    "print(' ')\n",
    "print(np.linalg.matrix_rank(Sv))\n",
    "print(np.linalg.matrix_rank(Tv))"
   ]
  },
  {
   "cell_type": "code",
   "execution_count": null,
   "id": "7fc7d9e4-9cb2-456a-b402-71e7802d9edf",
   "metadata": {},
   "outputs": [],
   "source": []
  }
 ],
 "metadata": {
  "kernelspec": {
   "display_name": "Python 3 (ipykernel)",
   "language": "python",
   "name": "python3"
  },
  "language_info": {
   "codemirror_mode": {
    "name": "ipython",
    "version": 3
   },
   "file_extension": ".py",
   "mimetype": "text/x-python",
   "name": "python",
   "nbconvert_exporter": "python",
   "pygments_lexer": "ipython3",
   "version": "3.9.21"
  }
 },
 "nbformat": 4,
 "nbformat_minor": 5
}
