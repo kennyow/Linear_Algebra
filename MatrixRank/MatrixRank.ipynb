{
 "cells": [
  {
   "cell_type": "markdown",
   "id": "49bc1a32-fc04-4e12-b4b9-af579680b913",
   "metadata": {},
   "source": [
    "# Matrix Rank"
   ]
  },
  {
   "cell_type": "markdown",
   "id": "7f4ca8b8-a282-4d01-848a-9d0110bfb0ca",
   "metadata": {},
   "source": [
    "* Terminology: r or rank(A), non negative integer.\n",
    "* Maximum possible ran is min(m,n)\n",
    "* Rank is a property of the matrix, not columns or rows\n",
    "* More terminology: full rank, full column-rank, full row-rank, singular\n",
    "* Rank is the number of dimensions of information\n",
    "* The rank is the number of columns that form a linearly independent set\n",
    "* The maximum rank of a matrix is the smaller of mxn"
   ]
  },
  {
   "cell_type": "code",
   "execution_count": 2,
   "id": "3f31af10-bf6c-4093-9105-2e0381aa12ac",
   "metadata": {},
   "outputs": [],
   "source": [
    "import numpy as np"
   ]
  },
  {
   "cell_type": "code",
   "execution_count": 6,
   "id": "4ba87a47-d9af-428f-be54-62b3cf85c2c4",
   "metadata": {},
   "outputs": [
    {
     "name": "stdout",
     "output_type": "stream",
     "text": [
      "[[ 1.877178   -1.64697892 -0.82245847 -0.29305673  0.42799691  0.28490759]\n",
      " [-1.41836624 -0.15835601 -1.22249043  0.56654793  0.75376234 -2.41319284]\n",
      " [ 0.08400314 -1.34248617 -0.12332643 -0.4528198  -1.03288494  0.64202689]\n",
      " [-0.48122275 -0.74403001  2.25786511  0.22507214  0.31071664 -0.16448357]]\n",
      "Matrix Rank of A is: 4\n",
      "[[ 1.877178   -1.64697892 -0.82245847 -0.29305673  0.42799691  0.42799691]\n",
      " [-1.41836624 -0.15835601 -1.22249043  0.56654793  0.75376234  0.75376234]\n",
      " [ 0.08400314 -1.34248617 -0.12332643 -0.4528198  -1.03288494 -1.03288494]\n",
      " [-0.48122275 -0.74403001  2.25786511  0.22507214  0.31071664  0.31071664]]\n",
      "rank = 4\n"
     ]
    }
   ],
   "source": [
    "#FOR COLUMNS\n",
    "\n",
    "#make a matrix\n",
    "m = 4\n",
    "n = 6\n",
    "\n",
    "#Create a random matrix\n",
    "A = np.random.randn(m,n)\n",
    "print(A)\n",
    "\n",
    "#What is the largest possible rank?\n",
    "ra = np.linalg.matrix_rank(A)\n",
    "print(f'Matrix Rank of A is: {str(ra)}')\n",
    "\n",
    "#set last column to be repeat of penultimate column\n",
    "B = A\n",
    "B[:,-1] = B[:,-2]\n",
    "print(B)\n",
    "\n",
    "rb = np.linalg.matrix_rank(B)\n",
    "print(f'rank = {str(rb)}')\n"
   ]
  },
  {
   "cell_type": "code",
   "execution_count": 7,
   "id": "0a46e3f1-fc6c-4c7f-bb5f-4b2df45a3231",
   "metadata": {},
   "outputs": [
    {
     "name": "stdout",
     "output_type": "stream",
     "text": [
      "[[-1.09435244 -0.74146349  0.29305621  0.10371933  0.36358061 -0.37818367]\n",
      " [ 0.64190922 -2.72445135  0.58519713 -0.07956601 -0.5116523  -0.41316593]\n",
      " [-0.79643817 -0.30572857  0.69658339  2.63265184 -0.00638201  0.7141664 ]\n",
      " [ 0.60460535 -2.26984297  0.36664555  0.30937949 -1.28219384 -0.65338515]]\n",
      "Matrix Rank of A is: 4\n",
      "[[-1.09435244 -0.74146349  0.29305621  0.10371933  0.36358061 -0.37818367]\n",
      " [ 0.64190922 -2.72445135  0.58519713 -0.07956601 -0.5116523  -0.41316593]\n",
      " [-0.79643817 -0.30572857  0.69658339  2.63265184 -0.00638201  0.7141664 ]\n",
      " [-0.79643817 -0.30572857  0.69658339  2.63265184 -0.00638201  0.7141664 ]]\n",
      "rank = 3\n"
     ]
    }
   ],
   "source": [
    "#FOR ROWS\n",
    "\n",
    "#make a matrix\n",
    "m = 4\n",
    "n = 6\n",
    "\n",
    "#Create a random matrix\n",
    "A = np.random.randn(m,n)\n",
    "print(A)\n",
    "\n",
    "#What is the largest possible rank?\n",
    "ra = np.linalg.matrix_rank(A)\n",
    "print(f'Matrix Rank of A is: {str(ra)}')\n",
    "\n",
    "#set last column to be repeat of penultimate row\n",
    "B = A\n",
    "B[-1,:] = B[-2,:]\n",
    "print(B)\n",
    "\n",
    "rb = np.linalg.matrix_rank(B)\n",
    "print(f'rank = {str(rb)}')"
   ]
  },
  {
   "cell_type": "code",
   "execution_count": 14,
   "id": "967053a5-5ca8-419e-95b2-2d4249cf6162",
   "metadata": {},
   "outputs": [
    {
     "name": "stdout",
     "output_type": "stream",
     "text": [
      "A :\n",
      " [[  7.   0. -12.  16.]\n",
      " [ -1.   5. -20.   0.]\n",
      " [  9.  -1.   4.  12.]\n",
      " [-17.  -1.  -2.  -8.]]\n",
      "A with the last 2 columns equal:\n",
      " [[  7.   0. -12. -12.]\n",
      " [ -1.   5. -20. -20.]\n",
      " [  9.  -1.   4.   4.]\n",
      " [-17.  -1.  -2.  -2.]]\n",
      "Rank with no noise: \n",
      "3\n",
      "Rank with noise: \n",
      "4\n"
     ]
    }
   ],
   "source": [
    "#adding noise to a rank-deficient matrix\n",
    "\n",
    "#square for convenience\n",
    "A = np.round(10*np.random.randn(m,m))\n",
    "print(f'A :\\n {A}')\n",
    "\n",
    "#reduce the rank\n",
    "A[:,-1] = A[:,-2]\n",
    "print(f'A with the last 2 columns equal:\\n {A}')\n",
    "\n",
    "#noise level\n",
    "noiseamp = 0.01\n",
    "\n",
    "#add the noise\n",
    "B = A + noiseamp*np.random.randn(m,m)\n",
    "\n",
    "print(f'Rank with no noise: \\n{str(np.linalg.matrix_rank(A))}')\n",
    "print(f'Rank with noise: \\n{str(np.linalg.matrix_rank(B))}')"
   ]
  },
  {
   "cell_type": "markdown",
   "id": "41da6953-c5d7-4695-8b1f-d7123a4af941",
   "metadata": {},
   "source": [
    "$$ rank(A+B) \\leq rank(A) + rank(B) $$\n",
    "$$\\text{rank}(A+B) \\leq \\min\\{\\text{rank}(A), \\text{rank}(B)\\}$$\n"
   ]
  },
  {
   "cell_type": "markdown",
   "id": "7d901805-4e62-4389-b352-0d5f51ef9b87",
   "metadata": {},
   "source": [
    "Consider the following matrices, all 10x10, and their ranks:\n",
    "\n",
    "A: r=3;  B: r=2;  C: r=1;  D: r=6\n",
    "\n",
    "If these matrices contained randomly generated numbers, what is the maximum possible rank of the matrix product (A+B)(C+D)?\n",
    "The maximum possible rank of (C+D) is 7. The maximum possible rank of (A+B) is 5. And the maximum possible rank of multiplied matrices is the smaller of their two ranks, which is 5. We assume that matrices of randomly generated numbers have maximum possible rank"
   ]
  },
  {
   "cell_type": "code",
   "execution_count": null,
   "id": "1bca01bd-ebe0-4a62-9b49-1e9430f8bffb",
   "metadata": {},
   "outputs": [],
   "source": []
  }
 ],
 "metadata": {
  "kernelspec": {
   "display_name": "Python 3 (ipykernel)",
   "language": "python",
   "name": "python3"
  },
  "language_info": {
   "codemirror_mode": {
    "name": "ipython",
    "version": 3
   },
   "file_extension": ".py",
   "mimetype": "text/x-python",
   "name": "python",
   "nbconvert_exporter": "python",
   "pygments_lexer": "ipython3",
   "version": "3.9.21"
  }
 },
 "nbformat": 4,
 "nbformat_minor": 5
}
