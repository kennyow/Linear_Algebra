{
 "cells": [
  {
   "cell_type": "markdown",
   "id": "49bc1a32-fc04-4e12-b4b9-af579680b913",
   "metadata": {},
   "source": [
    "# Matrix Rank"
   ]
  },
  {
   "cell_type": "markdown",
   "id": "7f4ca8b8-a282-4d01-848a-9d0110bfb0ca",
   "metadata": {},
   "source": [
    "* Terminology: r or rank(A), non negative integer.\n",
    "* Maximum possible ran is min(m,n)\n",
    "* Rank is a property of the matrix, not columns or rows\n",
    "* More terminology: full rank, full column-rank, full row-rank, singular\n",
    "* Rank is the number of dimensions of information\n",
    "* The rank is the number of columns that form a linearly independent set\n",
    "* The maximum rank of a matrix is the smaller of mxn"
   ]
  },
  {
   "cell_type": "code",
   "execution_count": 1,
   "id": "3f31af10-bf6c-4093-9105-2e0381aa12ac",
   "metadata": {},
   "outputs": [],
   "source": [
    "import numpy as np"
   ]
  },
  {
   "cell_type": "code",
   "execution_count": 2,
   "id": "4ba87a47-d9af-428f-be54-62b3cf85c2c4",
   "metadata": {},
   "outputs": [
    {
     "name": "stdout",
     "output_type": "stream",
     "text": [
      "[[-0.29394854 -0.78140199 -0.3633244  -1.59068879  1.36733143  1.09856826]\n",
      " [ 0.37420836  0.0166773  -1.24357443  1.17532332 -0.39557632 -0.19936619]\n",
      " [-0.97738937  0.56809948  0.34032031  0.24426142 -0.3166968   0.07578634]\n",
      " [-0.99324723  0.67248198  0.23172864  0.71572762 -0.38564842 -0.70743656]]\n",
      "Matrix Rank of A is: 4\n",
      "[[-0.29394854 -0.78140199 -0.3633244  -1.59068879  1.36733143  1.36733143]\n",
      " [ 0.37420836  0.0166773  -1.24357443  1.17532332 -0.39557632 -0.39557632]\n",
      " [-0.97738937  0.56809948  0.34032031  0.24426142 -0.3166968  -0.3166968 ]\n",
      " [-0.99324723  0.67248198  0.23172864  0.71572762 -0.38564842 -0.38564842]]\n",
      "rank = 4\n"
     ]
    }
   ],
   "source": [
    "#FOR COLUMNS\n",
    "\n",
    "#make a matrix\n",
    "m = 4\n",
    "n = 6\n",
    "\n",
    "#Create a random matrix\n",
    "A = np.random.randn(m,n)\n",
    "print(A)\n",
    "\n",
    "#What is the largest possible rank?\n",
    "ra = np.linalg.matrix_rank(A)\n",
    "print(f'Matrix Rank of A is: {str(ra)}')\n",
    "\n",
    "#set last column to be repeat of penultimate column\n",
    "B = A\n",
    "B[:,-1] = B[:,-2]\n",
    "print(B)\n",
    "\n",
    "rb = np.linalg.matrix_rank(B)\n",
    "print(f'rank = {str(rb)}')\n"
   ]
  },
  {
   "cell_type": "code",
   "execution_count": 3,
   "id": "0a46e3f1-fc6c-4c7f-bb5f-4b2df45a3231",
   "metadata": {},
   "outputs": [
    {
     "name": "stdout",
     "output_type": "stream",
     "text": [
      "[[-0.04384453  1.51289172 -0.57433914 -0.25441648 -0.69339238 -1.2479896 ]\n",
      " [ 0.0867115   0.60379491  0.96268531 -1.20001524 -0.51887082 -1.66822505]\n",
      " [-0.00940717  0.46041954 -0.42754436  0.65748101  0.58773581 -1.55090969]\n",
      " [ 0.76610472 -1.14213615 -1.74477869  0.02479109  0.55316336 -0.72577724]]\n",
      "Matrix Rank of A is: 4\n",
      "[[-0.04384453  1.51289172 -0.57433914 -0.25441648 -0.69339238 -1.2479896 ]\n",
      " [ 0.0867115   0.60379491  0.96268531 -1.20001524 -0.51887082 -1.66822505]\n",
      " [-0.00940717  0.46041954 -0.42754436  0.65748101  0.58773581 -1.55090969]\n",
      " [-0.00940717  0.46041954 -0.42754436  0.65748101  0.58773581 -1.55090969]]\n",
      "rank = 3\n"
     ]
    }
   ],
   "source": [
    "#FOR ROWS\n",
    "\n",
    "#make a matrix\n",
    "m = 4\n",
    "n = 6\n",
    "\n",
    "#Create a random matrix\n",
    "A = np.random.randn(m,n)\n",
    "print(A)\n",
    "\n",
    "#What is the largest possible rank?\n",
    "ra = np.linalg.matrix_rank(A)\n",
    "print(f'Matrix Rank of A is: {str(ra)}')\n",
    "\n",
    "#set last column to be repeat of penultimate row\n",
    "B = A\n",
    "B[-1,:] = B[-2,:]\n",
    "print(B)\n",
    "\n",
    "rb = np.linalg.matrix_rank(B)\n",
    "print(f'rank = {str(rb)}')"
   ]
  },
  {
   "cell_type": "code",
   "execution_count": 4,
   "id": "967053a5-5ca8-419e-95b2-2d4249cf6162",
   "metadata": {},
   "outputs": [
    {
     "name": "stdout",
     "output_type": "stream",
     "text": [
      "A :\n",
      " [[ 11.   1.  -5. -23.]\n",
      " [ -4.   8.  20.  -1.]\n",
      " [  1.  16.   0. -13.]\n",
      " [  1.   3.  -3.  -8.]]\n",
      "A with the last 2 columns equal:\n",
      " [[11.  1. -5. -5.]\n",
      " [-4.  8. 20. 20.]\n",
      " [ 1. 16.  0.  0.]\n",
      " [ 1.  3. -3. -3.]]\n",
      "Rank with no noise: \n",
      "3\n",
      "Rank with noise: \n",
      "4\n"
     ]
    }
   ],
   "source": [
    "#adding noise to a rank-deficient matrix\n",
    "\n",
    "#square for convenience\n",
    "A = np.round(10*np.random.randn(m,m))\n",
    "print(f'A :\\n {A}')\n",
    "\n",
    "#reduce the rank\n",
    "A[:,-1] = A[:,-2]\n",
    "print(f'A with the last 2 columns equal:\\n {A}')\n",
    "\n",
    "#noise level\n",
    "noiseamp = 0.01\n",
    "\n",
    "#add the noise\n",
    "B = A + noiseamp*np.random.randn(m,m)\n",
    "\n",
    "print(f'Rank with no noise: \\n{str(np.linalg.matrix_rank(A))}')\n",
    "print(f'Rank with noise: \\n{str(np.linalg.matrix_rank(B))}')"
   ]
  },
  {
   "cell_type": "markdown",
   "id": "41da6953-c5d7-4695-8b1f-d7123a4af941",
   "metadata": {},
   "source": [
    "$$ rank(A+B) \\leq rank(A) + rank(B) $$\n",
    "$$\\text{rank}(A+B) \\leq \\min\\{\\text{rank}(A), \\text{rank}(B)\\}$$\n"
   ]
  },
  {
   "cell_type": "markdown",
   "id": "7d901805-4e62-4389-b352-0d5f51ef9b87",
   "metadata": {},
   "source": [
    "Consider the following matrices, all 10x10, and their ranks:\n",
    "\n",
    "A: r=3;  B: r=2;  C: r=1;  D: r=6\n",
    "\n",
    "If these matrices contained randomly generated numbers, what is the maximum possible rank of the matrix product (A+B)(C+D)?\n",
    "The maximum possible rank of (C+D) is 7. The maximum possible rank of (A+B) is 5. And the maximum possible rank of multiplied matrices is the smaller of their two ranks, which is 5. We assume that matrices of randomly generated numbers have maximum possible rank"
   ]
  },
  {
   "cell_type": "markdown",
   "id": "b36cbabe-600f-4421-990e-057d739da31b",
   "metadata": {},
   "source": [
    "## Challenge"
   ]
  },
  {
   "cell_type": "code",
   "execution_count": 5,
   "id": "8bd6e78d-1382-41a3-8094-7cc39d7de7de",
   "metadata": {},
   "outputs": [
    {
     "name": "stdout",
     "output_type": "stream",
     "text": [
      "A :\n",
      " [[ 0.35857868 -0.4064164   0.55663009 -1.76393676]\n",
      " [-1.31067166  0.60435204 -0.81840196  0.20822253]\n",
      " [ 3.33844412 -0.86137752  0.5584113  -1.70626821]\n",
      " [ 0.64428386 -0.56346309 -0.35451296 -0.72852471]\n",
      " [ 0.45855157 -0.03608371  1.30675717  1.14824522]\n",
      " [ 1.10380895  0.12005651 -0.14546178  0.58950434]\n",
      " [ 0.50339819 -1.17754946  0.54263653  0.66931225]\n",
      " [ 0.63994015  0.56702044  1.44976808  0.81030972]\n",
      " [-2.05919258  2.82027049  0.90435868  1.08091621]\n",
      " [-0.05196258  0.37716285  0.04334915  0.48679395]]\n",
      "B :\n",
      " [[-0.49517389  0.39431972 -0.12753002  1.7161536   0.15415628  1.14823498\n",
      "   0.44795149  0.55108374  1.16349255 -0.69520185]\n",
      " [ 0.55930214  2.06466647 -1.75029168 -1.47052341  0.38324982 -0.13074972\n",
      "  -1.20855141 -0.60474578  0.80062193 -0.66615888]\n",
      " [ 0.07815497  0.49063338  0.2737816  -0.27113746  0.87055479 -1.26038482\n",
      "   1.07110835 -0.21921194  0.62238074 -0.79798177]\n",
      " [-0.96166529  1.88573884 -0.87646916 -1.1677083  -0.50138821 -1.87570781\n",
      "  -1.37447135 -0.89000129  0.42342358 -1.2119834 ]]\n",
      "C :\n",
      " [[ 1.33495179 -3.75094242  2.36404894  3.12186124  1.26851223  3.07193325\n",
      "   3.67249264  1.89127151 -0.30863882  1.71513474]\n",
      " [ 0.72282322  0.72207969 -1.29720638 -3.15927145 -0.78729452 -0.94304111\n",
      "  -2.4803009  -1.09368401 -1.46229051  0.9092945 ]\n",
      " [-0.45037913 -3.40564396  2.73028427  8.83697603  1.52614973  6.44259066\n",
      "   5.47981581  3.75684716  2.81968739 -0.12471155]\n",
      " [ 0.03871131 -2.45705275  1.44552954  2.88110183 -0.05997598  2.62678414\n",
      "   1.59119658  1.42190768 -0.230618    1.09330334]\n",
      " [-1.24934247  2.9127444  -0.64395753 -0.85511942  0.61874663 -3.26954654\n",
      "   0.07046623 -1.03387471  1.80412652 -2.72917098]\n",
      " [-1.05770393  1.7234131  -0.90740981  1.06883083 -0.20603226  0.32933461\n",
      "  -0.61670375  0.04291483  1.53947079 -1.44574036]\n",
      " [-1.50912019 -0.70436333  1.55878899  1.6668321  -0.23688406 -1.2073814\n",
      "   1.30989903  0.27489144  0.26405725 -0.80973774]\n",
      " [-0.66568606  3.66238624 -1.3873544  -1.07487305  1.17178408 -2.68650605\n",
      "   0.04049999 -1.02922577  2.44394657 -2.96158372]\n",
      " [ 1.62824224  7.4929719  -5.37348006 -9.18856488  1.00876582 -5.90050945\n",
      "  -4.8478825  -4.00059725  0.88265598 -2.47890797]\n",
      " [-0.22806639  1.69746041 -1.06830989 -1.22398947 -0.0697977  -1.076699\n",
      "  -1.10175011 -0.69947326  0.47460648 -0.83970392]]\n",
      "Shape of C :(10, 10)\n",
      "Matrix Rank of C :4\n",
      " \n",
      "Shape of A :(8, 47)\n",
      "Matrix Rank of A :3\n"
     ]
    }
   ],
   "source": [
    "#create reduced-rank matrices using matrix multiplication\n",
    "\n",
    "#create a 10x10 matrix with rank 4 (use matrix multiplication)\n",
    "\n",
    "A = np.random.randn(10,4)\n",
    "B = np.random.randn(4,10)\n",
    "C = A@B\n",
    "print(f'A :\\n {A}')\n",
    "\n",
    "print(f'B :\\n {B}')\n",
    "\n",
    "print(f'C :\\n {C}')\n",
    "print(f'Shape of C :{np.shape(C)}')\n",
    "rc = np.linalg.matrix_rank(C)\n",
    "print(f'Matrix Rank of C :{rc}'), print(' ')\n",
    "\n",
    "\n",
    "#generalize the produce to create any MxN matrix with rank r\n",
    "m = 8\n",
    "n = 47\n",
    "r = 3\n",
    "\n",
    "A = np.random.randn(m,r) @ np.random.randn(r,n) #min of (8x3)(3x47) = 3\n",
    "print(f'Shape of A :{np.shape(A)}')\n",
    "ra = np.linalg.matrix_rank(A)\n",
    "print(f'Matrix Rank of A :{ra}')"
   ]
  },
  {
   "cell_type": "markdown",
   "id": "3b9abe41-36d6-4acc-9249-769dab878638",
   "metadata": {},
   "source": [
    "## Challenge"
   ]
  },
  {
   "cell_type": "code",
   "execution_count": 17,
   "id": "6f1340b6-0cd2-47a0-a68c-aa38f2f31b81",
   "metadata": {
    "scrolled": true
   },
   "outputs": [
    {
     "name": "stdout",
     "output_type": "stream",
     "text": [
      "Rank of Full: 5\n",
      "Rank of Reduced: 4\n",
      "Rank of Full with scalar: 5\n",
      "Rank of Reduced with scalar: 4\n",
      "5\n",
      "6.117\n",
      "Ok, Computer! They are different\n"
     ]
    }
   ],
   "source": [
    "# test whether the matrix rank is invariant to scalar multiplication\n",
    "    # rank(A) != rank(lambda.A)\n",
    "\n",
    "#create two matrices: full rank and recuded rank(random)\n",
    "\n",
    "F = np.random.randn(5,5)\n",
    "R = np.random.randn(5,4)\n",
    "\n",
    "rf = np.linalg.matrix_rank(F)\n",
    "rr = np.linalg.matrix_rank(R)\n",
    "\n",
    "#create the scalar :\n",
    "lamb = 1.2234\n",
    "\n",
    "FwS = np.multiply(F,lamb)\n",
    "RwS = np.multiply(R,lamb)\n",
    "\n",
    "rFwS = np.linalg.matrix_rank(FwS)\n",
    "rRwS = np.linalg.matrix_rank(RwS)\n",
    "\n",
    "# Print ranks of F, R, l*F, l* R\n",
    "print(f'Rank of Full: {rf}')\n",
    "print(f'Rank of Reduced: {rr}')\n",
    "print(f'Rank of Full with scalar: {rFwS}')\n",
    "print(f'Rank of Reduced with scalar: {rRwS}')\n",
    "\n",
    "#check wether rank (l*F) ==l*rank(F)\n",
    "\n",
    "rank_l_F = rFwS\n",
    "print(rank_l_F)\n",
    "l_rank_F = lamb*rf\n",
    "print(l_rank_F)\n",
    "if rank_l_F != l_rank_F:\n",
    "    print(\"Ok, Computer! They are different\")\n",
    "else:\n",
    "    print(\"Equals\")"
   ]
  },
  {
   "cell_type": "markdown",
   "id": "d447d4d5-b682-409e-9526-309f47aeed8e",
   "metadata": {},
   "source": [
    "# Rank of AtA and AAt\n",
    "\n",
    "## $$ rank(A) = rank(A^TA)= rank(A)= rank(AA^T)$$"
   ]
  },
  {
   "cell_type": "markdown",
   "id": "d59bb136-b703-48ef-bc40-571bdcbf8743",
   "metadata": {},
   "source": [
    "## Challenge"
   ]
  },
  {
   "cell_type": "code",
   "execution_count": 29,
   "id": "27e691e5-d27a-4984-a3db-0751e9001597",
   "metadata": {},
   "outputs": [
    {
     "name": "stdout",
     "output_type": "stream",
     "text": [
      "Rank of A: 2\n",
      "Rank of B: 2\n",
      "AtA: [[ 3.07289129  0.15876883  1.44968017  2.73324124 -1.34721869]\n",
      " [ 0.15876883  0.02124973  0.09947226  0.23959583 -0.05128049]\n",
      " [ 1.44968017  0.09947226  0.73018196  1.4747188  -0.6010539 ]\n",
      " [ 2.73324124  0.23959583  1.4747188   3.17292517 -1.06011629]\n",
      " [-1.34721869 -0.05128049 -0.6010539  -1.06011629  0.61639312]]\n",
      "BtB: [[ 1.08247715 -0.05577557  1.50276471  0.58583801 -1.66797041]\n",
      " [-0.05577557  0.17766291 -0.46637372  0.20447951  0.72210458]\n",
      " [ 1.50276471 -0.46637372  2.95171416  0.29111832 -3.7311767 ]\n",
      " [ 0.58583801  0.20447951  0.29111832  0.6321093  -0.04862142]\n",
      " [-1.66797041  0.72210458 -3.7311767  -0.04862142  4.88551406]]\n",
      "Rank of Ata: 2\n",
      "Rank of Btb: 2\n",
      "Rank of Sum: 4\n",
      "Rank of Multiplication: 2\n"
     ]
    }
   ],
   "source": [
    "#rules: rank of AB <=min(rank(A), rank(B))\n",
    "    #rank of A+B <=rank(A) + rank(B)\n",
    "\n",
    "#generate two matrices (A and B), 2x5\n",
    "m = 2\n",
    "n = 5\n",
    "\n",
    "A = np.random.randn(m,n)\n",
    "B = np.random.randn(m,n)\n",
    "\n",
    "ra = np.linalg.matrix_rank(A)\n",
    "rb = np.linalg.matrix_rank(B)\n",
    "print(f'Rank of A: {ra}')\n",
    "print(f'Rank of B: {rb}')\n",
    "\n",
    "#compute Ata and BtB\n",
    "AtA = A.T@A\n",
    "BtB = B.T@B\n",
    "\n",
    "print(f'AtA: {AtA}')\n",
    "print(f'BtB: {BtB}')\n",
    "\n",
    "#find ranks of AtA and BtB\n",
    "rAtA = np.linalg.matrix_rank(AtA)\n",
    "rBtB = np.linalg.matrix_rank(BtB)\n",
    "\n",
    "print(f'Rank of Ata: {rAtA}')\n",
    "print(f'Rank of Btb: {rBtB}')\n",
    "\n",
    "sum_rank = np.linalg.matrix_rank(AtA+BtB)\n",
    "mult_rank = np.linalg.matrix_rank(AtA@BtB)\n",
    "\n",
    "print(f'Rank of Sum: {sum_rank}') # should be 4, not 2\n",
    "print(f'Rank of Multiplication: {mult_rank}')"
   ]
  },
  {
   "cell_type": "markdown",
   "id": "cf18dcf9-653e-460f-8698-a90a7ccce7e0",
   "metadata": {},
   "source": [
    "# Making a Matrix Full-Rank by shifting"
   ]
  },
  {
   "cell_type": "code",
   "execution_count": null,
   "id": "2b3eb84f-a9a7-42a2-9a7a-620316bc8ff4",
   "metadata": {},
   "outputs": [],
   "source": []
  }
 ],
 "metadata": {
  "kernelspec": {
   "display_name": "Python 3 (ipykernel)",
   "language": "python",
   "name": "python3"
  },
  "language_info": {
   "codemirror_mode": {
    "name": "ipython",
    "version": 3
   },
   "file_extension": ".py",
   "mimetype": "text/x-python",
   "name": "python",
   "nbconvert_exporter": "python",
   "pygments_lexer": "ipython3",
   "version": "3.9.21"
  }
 },
 "nbformat": 4,
 "nbformat_minor": 5
}
