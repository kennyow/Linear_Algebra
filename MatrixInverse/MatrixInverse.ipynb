{
 "cells": [
  {
   "cell_type": "markdown",
   "id": "017d8e01-8406-4e61-9239-47eca0dc34c8",
   "metadata": {},
   "source": [
    "# $$\\framebox[3]{MATRIX INVERSE}$$"
   ]
  },
  {
   "cell_type": "markdown",
   "id": "0fc3bca2-7967-47c1-a14f-1b13bb03b3dd",
   "metadata": {},
   "source": [
    "conditions for having an inverse:\n",
    "- Square\n",
    "- Full Rank"
   ]
  },
  {
   "cell_type": "code",
   "execution_count": 50,
   "id": "1fb6d54c-b904-4297-b4c4-435ff81442cf",
   "metadata": {},
   "outputs": [],
   "source": [
    "import numpy as np\n",
    "from sympy import Matrix\n",
    "import matplotlib.pyplot as plt"
   ]
  },
  {
   "cell_type": "code",
   "execution_count": 17,
   "id": "a038bd83-a041-4ccf-8718-0dc6729569a8",
   "metadata": {},
   "outputs": [
    {
     "name": "stdout",
     "output_type": "stream",
     "text": [
      "Matrix Inverse of A should be the identity matrix: \n",
      " [[ 1.00000000e+00  0.00000000e+00 -3.33066907e-16]\n",
      " [ 5.55111512e-17  1.00000000e+00 -2.77555756e-17]\n",
      " [ 1.66533454e-16 -1.11022302e-16  1.00000000e+00]]\n"
     ]
    }
   ],
   "source": [
    "# size of square matrix\n",
    "m = 3\n",
    "\n",
    "#generate random matrix\n",
    "A = np.random.randn(m,m)\n",
    "\n",
    "#Compute its inverse\n",
    "Ainv = np.linalg.inv(A)\n",
    "\n",
    "#annd chech the multiplication\n",
    "idm = A@Ainv\n",
    "\n",
    "print(f'Matrix Inverse of A should be the identity matrix: \\n {idm}')"
   ]
  },
  {
   "cell_type": "markdown",
   "id": "b7d04c26-c911-41e5-8549-eb7265955371",
   "metadata": {},
   "source": [
    "If determinant = 0, it's not inversible"
   ]
  },
  {
   "cell_type": "markdown",
   "id": "2f32f64c-1085-452f-9f13-fe76350487c5",
   "metadata": {},
   "source": [
    "$$\n",
    "\\begin{bmatrix} \n",
    "a & b \\\\ \n",
    "c & d \n",
    "\\end{bmatrix}\n",
    "=>\n",
    "\\begin{bmatrix} \n",
    "d & b \\\\ \n",
    "c & a \n",
    "\\end{bmatrix}\n",
    "=>\n",
    "\\begin{bmatrix} \n",
    "d & -b \\\\ \n",
    "-c & a \n",
    "\\end{bmatrix}\n",
    "=>\n",
    "\\begin{bmatrix} \n",
    "d/det & -b/det \\\\ \n",
    "-c/det & a/det \n",
    "\\end{bmatrix}\n",
    "$$\n"
   ]
  },
  {
   "cell_type": "markdown",
   "id": "7770b3a8-528a-440d-8bfd-df6dce2ed6ab",
   "metadata": {},
   "source": [
    "### MCA ALGORITHM"
   ]
  },
  {
   "cell_type": "markdown",
   "id": "eab457c3-0442-41f0-a478-25227c33e0a4",
   "metadata": {},
   "source": [
    "- M: The minoirs matrix: a matrix of determinants\n",
    "- C: The cofactors matrix: the minors matrix Hadamard-multiplied by a grid od alternating pluses and minuses\n",
    "- A-1: The adjugate matrix: the transpose os the cofactors matrix, divided by the determinant"
   ]
  },
  {
   "cell_type": "markdown",
   "id": "3fac3770-c78b-4b4a-9cb5-b66cc23e80b4",
   "metadata": {},
   "source": [
    "## Challenge"
   ]
  },
  {
   "cell_type": "code",
   "execution_count": 25,
   "id": "bfef1b7a-f3b7-4163-b36e-5eec6a17ef9c",
   "metadata": {},
   "outputs": [
    {
     "name": "stdout",
     "output_type": "stream",
     "text": [
      "Matrix A: \n",
      " [[-0.12380385  0.82931705  0.212871    2.2974142 ]\n",
      " [-0.52650121  0.18723107 -0.48409478 -1.0284511 ]\n",
      " [-0.43960651 -1.5677057  -2.09364645 -0.35203144]\n",
      " [-1.34821533  0.42869166  0.47615072 -0.84595615]]\n",
      " \n",
      "Matrix Minors : \n",
      " [[0. 0. 0. 0.]\n",
      " [0. 0. 0. 0.]\n",
      " [0. 0. 0. 0.]\n",
      " [0. 0. 0. 0.]]\n",
      " \n",
      "Matrix H : \n",
      " [[ 1. -1.  1. -1.]\n",
      " [-1.  1. -1.  1.]\n",
      " [ 1. -1.  1. -1.]\n",
      " [-1.  1. -1.  1.]]\n",
      " \n",
      "Matrix C : \n",
      " [[ 0.92269995 -2.04778394  1.60908307 -1.60256538]\n",
      " [-1.64046219 -7.18392943  5.38646733  2.00574931]\n",
      " [ 1.36719451  1.98636511  0.80694883 -0.71812846]\n",
      " [ 3.93124826  2.34580629 -2.51438484 -0.40196229]]\n",
      " \n",
      "Matrix Ainv : \n",
      " [[-0.17910504  0.31842967 -0.26538576 -0.76309354]\n",
      " [ 0.39749479  1.3944706  -0.38557279 -0.45534383]\n",
      " [-0.31233868 -1.04556572 -0.15663662  0.48806656]\n",
      " [ 0.31107353 -0.38933546  0.13939572  0.07802479]]\n",
      " \n",
      "Matrix A@Ainv : \n",
      " [[ 1.00000000e+00  3.33066907e-16 -3.46944695e-17  2.77555756e-17]\n",
      " [ 2.77555756e-17  1.00000000e+00  0.00000000e+00  2.77555756e-17]\n",
      " [-1.11022302e-16 -4.44089210e-16  1.00000000e+00  3.33066907e-16]\n",
      " [ 0.00000000e+00  0.00000000e+00  5.55111512e-17  1.00000000e+00]]\n",
      " \n"
     ]
    },
    {
     "data": {
      "text/plain": [
       "(None, None)"
      ]
     },
     "execution_count": 25,
     "metadata": {},
     "output_type": "execute_result"
    }
   ],
   "source": [
    "#MCA algorithm in code\n",
    "\n",
    "m = 4\n",
    "A = np.random.randn(m,m)\n",
    "\n",
    "print(f\"Matrix A: \\n {A}\"), print(\" \")\n",
    "\n",
    "# Minors Matrix\n",
    "minors = np.zeros((m,m))\n",
    "H = np.zeros((m,m))\n",
    "print(f\"Matrix Minors : \\n {minors}\"), print(\" \")\n",
    "\n",
    "for i in range(m):\n",
    "    for j in range(m):\n",
    "\n",
    "        #select rows and columns\n",
    "        rows = [True]*m\n",
    "        rows[i] = False\n",
    "\n",
    "        cols = [True]*m\n",
    "        cols[j] = False\n",
    "\n",
    "        #compute the minors matrix\n",
    "        minors[i,j] = np.linalg.det(A[rows,:][:,cols])\n",
    "\n",
    "        #Compute H matrix\n",
    "        H[i,j] = (-1)**(i+j)\n",
    "\n",
    "print(f\"Matrix H : \\n {H}\"), print(\" \")\n",
    "\n",
    "## cofactor Matrix\n",
    "C = H*minors\n",
    "\n",
    "print(f\"Matrix C : \\n {C}\"), print(\" \")\n",
    "\n",
    "## Adjugate matrix\n",
    "Ainv = C.T/np.linalg.det(A)\n",
    "\n",
    "print(f\"Matrix Ainv : \\n {Ainv}\"), print(\" \")\n",
    "\n",
    "print(f\"Matrix A@Ainv : \\n {A@Ainv}\"), print(\" \")"
   ]
  },
  {
   "cell_type": "markdown",
   "id": "c31dec51-fa99-4b19-b340-8a7a8ae5c8ad",
   "metadata": {},
   "source": [
    "### Computing the Inverse via row reduction"
   ]
  },
  {
   "cell_type": "code",
   "execution_count": 136,
   "id": "ea298e3d-336f-46c6-8aca-bbb7f26a6d09",
   "metadata": {},
   "outputs": [
    {
     "name": "stdout",
     "output_type": "stream",
     "text": [
      "Matrix A: \n",
      " Matrix([[-18, -12, -17, -22], [-18, -10, 9, 4], [1, -6, 3, -5], [-5, -7, 8, -3]])\n",
      " \n",
      "Size of Aaug: \n",
      " (4, 8)\n",
      "Matrix Aaug: \n",
      " Matrix([[-18, -12, -17, -22, 1.00000000000000, 0.0, 0.0, 0.0], [-18, -10, 9, 4, 0.0, 1.00000000000000, 0.0, 0.0], [1, -6, 3, -5, 0.0, 0.0, 1.00000000000000, 0.0], [-5, -7, 8, -3, 0.0, 0.0, 0.0, 1.00000000000000]])\n",
      " \n"
     ]
    }
   ],
   "source": [
    "#matrix size\n",
    "m = 4\n",
    "\n",
    "\n",
    "# Random integers matrix\n",
    "A = Matrix(np.round(10 * np.random.randn(m, m)).astype(int))\n",
    "print(f'Matrix A: \\n {A}'), print(\" \")\n",
    "\n",
    "#argument A and identity\n",
    "Aaug = Matrix(np.concatenate((A, np.eye(m,m)), axis=1)) #Concatenate matrix A and Identity\n",
    "print('Size of Aaug: \\n', Aaug.shape)\n",
    "print(f'Matrix Aaug: \\n {Aaug}'), print(\" \")\n",
    "\n",
    "#rref row recude echelon form\n",
    "Asol = Aaug.rref()\n",
    "Asol = Asol[0]\n",
    "Ainvrref = Asol[:,m:m*2]\n",
    "Ainv = A.inv()"
   ]
  },
  {
   "cell_type": "code",
   "execution_count": 138,
   "id": "52a5798f-2d7d-4348-93ab-550559f96536",
   "metadata": {},
   "outputs": [
    {
     "data": {
      "text/plain": [
       "(Text(0.5, 1.0, 'A|I'), (-0.5, 7.5, 3.5, -0.5))"
      ]
     },
     "execution_count": 138,
     "metadata": {},
     "output_type": "execute_result"
    },
    {
     "data": {
      "image/png": "[encoded data removed]",
      "text/plain": [
       "<Figure size 640x480 with 1 Axes>"
      ]
     },
     "metadata": {},
     "output_type": "display_data"
    }
   ],
   "source": [
    "# Convertendo para um array numpy\n",
    "Aaug_np = np.array(Aaug).astype(float)\n",
    "\n",
    "#show the augemented matrices\n",
    "plt.subplot(212)\n",
    "plt.imshow(Aaug_np, vmin=-5, vmax = 5) #vmin and vmax calibrates the color\n",
    "plt.title(\"A|I\"), plt.axis('off')\n"
   ]
  },
  {
   "cell_type": "code",
   "execution_count": 140,
   "id": "0120a500-5d45-437e-b131-dcae9029ffd7",
   "metadata": {},
   "outputs": [
    {
     "data": {
      "image/png": "[encoded data removed]",
      "text/plain": [
       "<Figure size 640x480 with 1 Axes>"
      ]
     },
     "metadata": {},
     "output_type": "display_data"
    }
   ],
   "source": [
    "Asol_np = np.array(Asol).astype(float)\n",
    "\n",
    "plt.subplot(212)\n",
    "plt.imshow(Asol_np)\n",
    "plt.title(\"I|A$^{-1}$\"), plt.axis('off')\n",
    "\n",
    "plt.show()"
   ]
  },
  {
   "cell_type": "code",
   "execution_count": 142,
   "id": "f6d44f9b-e75a-4ff2-b584-86f9b03dd2ae",
   "metadata": {},
   "outputs": [
    {
     "data": {
      "text/plain": [
       "(Text(0.5, 1.0, 'A$^{-1}$ from inv()'), (-0.5, 3.5, 3.5, -0.5))"
      ]
     },
     "execution_count": 142,
     "metadata": {},
     "output_type": "execute_result"
    },
    {
     "data": {
      "image/png": "[encoded data removed]",
      "text/plain": [
       "<Figure size 640x480 with 3 Axes>"
      ]
     },
     "metadata": {},
     "output_type": "display_data"
    }
   ],
   "source": [
    "A_np = np.array(A).astype(float)\n",
    "Ainvrref_np = np.array(Ainvrref).astype(float)\n",
    "Ainv_np = np.array(Ainv).astype(float)\n",
    "#show the square matrices\n",
    "plt.subplot(131)\n",
    "plt.imshow(A_np)\n",
    "plt.title('Matrix A'), plt.axis('off')\n",
    "\n",
    "plt.subplot(132)\n",
    "plt.imshow(Ainvrref_np)\n",
    "plt.title('A$^{-1}$ from rref'), plt.axis('off')\n",
    "\n",
    "plt.subplot(133)\n",
    "plt.imshow(Ainv_np)\n",
    "plt.title('A$^{-1}$ from inv()'), plt.axis('off')"
   ]
  },
  {
   "cell_type": "markdown",
   "id": "290a73a0-c20f-46ef-b08c-0b765baf573c",
   "metadata": {},
   "source": [
    "## Challenge"
   ]
  },
  {
   "cell_type": "code",
   "execution_count": 163,
   "id": "7f4c65c4-8619-4d1f-8e87-26a9c23ab750",
   "metadata": {},
   "outputs": [
    {
     "name": "stdout",
     "output_type": "stream",
     "text": [
      "Matrix A: \n",
      " Matrix([[-6, 14], [-9, -16]])\n",
      " \n",
      "Matrix inverse of A: \n",
      " [[-0.07207207 -0.06306306]\n",
      " [ 0.04054054 -0.02702703]]\n",
      " \n"
     ]
    },
    {
     "data": {
      "text/plain": [
       "(None, None)"
      ]
     },
     "execution_count": 163,
     "metadata": {},
     "output_type": "execute_result"
    }
   ],
   "source": [
    "#Diagonal matrices and their inverses\n",
    "\n",
    "#Create some diagonal matrices. start with 2x2 integers, work up to larger matrices\n",
    "m = 2\n",
    "\n",
    "A = Matrix(np.round(10 * np.random.randn(m, m)).astype(int))\n",
    "print(f'Matrix A: \\n {A}'), print(\" \")\n",
    "\n",
    "#compute their inverses (condition on the diagonal matrix for invertibility)\n",
    "\n",
    "# Convertendo para numpy array\n",
    "A_np = np.array(A).astype(float)\n",
    "\n",
    "# Calculando a inversa\n",
    "Ainv = np.linalg.inv(A_np)\n",
    "\n",
    "print(f'Matrix inverse of A: \\n {Ainv}'), print(\" \")\n",
    "#think\n",
    "\n"
   ]
  },
  {
   "cell_type": "code",
   "execution_count": 173,
   "id": "6148abc2-ee15-41f9-bc2b-ecd14112e372",
   "metadata": {},
   "outputs": [
    {
     "name": "stdout",
     "output_type": "stream",
     "text": [
      "Matrix A: \n",
      " [[2 0]\n",
      " [0 3]]\n",
      " \n",
      "Matrix B: \n",
      " [[1 0 0 0 0]\n",
      " [0 2 0 0 0]\n",
      " [0 0 3 0 0]\n",
      " [0 0 0 4 0]\n",
      " [0 0 0 0 5]]\n",
      " \n",
      "Matrix inverse of A: \n",
      " [[0.5        0.        ]\n",
      " [0.         0.33333333]]\n",
      " \n",
      "Matrix inverse of B: \n",
      " [[1.         0.         0.         0.         0.        ]\n",
      " [0.         0.5        0.         0.         0.        ]\n",
      " [0.         0.         0.33333333 0.         0.        ]\n",
      " [0.         0.         0.         0.25       0.        ]\n",
      " [0.         0.         0.         0.         0.2       ]]\n",
      " \n"
     ]
    },
    {
     "data": {
      "text/plain": [
       "(None, None)"
      ]
     },
     "execution_count": 173,
     "metadata": {},
     "output_type": "execute_result"
    }
   ],
   "source": [
    "#Diagonal matrices and their inverses\n",
    "\n",
    "#Create some diagonal matrices. start with 2x2 integers, work up to larger matrices\n",
    "m = 2\n",
    "\n",
    "A = np.array([[2, 0], [0, 3]])\n",
    "print(f'Matrix A: \\n {A}'), print(\" \")\n",
    "\n",
    "B = np.diag(np.arange(1,6))\n",
    "print(f'Matrix B: \\n {B}'), print(\" \")\n",
    "#compute their inverses (condition on the diagonal matrix for invertibility)\n",
    "\n",
    "# Calculando a inversa\n",
    "Ainv = np.linalg.inv(A)\n",
    "\n",
    "print(f'Matrix inverse of A: \\n {Ainv}'), print(\" \")\n",
    "\n",
    "Binv = np.linalg.inv(B)\n",
    "\n",
    "print(f'Matrix inverse of B: \\n {Binv}'), print(\" \")\n",
    "#think\n"
   ]
  },
  {
   "cell_type": "markdown",
   "id": "393bd69c-50f1-4e66-bbb3-22f9f42b7e3d",
   "metadata": {},
   "source": [
    "## Left Inverse"
   ]
  },
  {
   "cell_type": "markdown",
   "id": "fce4ba81-ef55-4f54-bc50-05512f1a9281",
   "metadata": {},
   "source": [
    "## $$ (|A^TA)^{-1}A^T|A = I $$\n",
    "\n",
    "\n"
   ]
  },
  {
   "cell_type": "markdown",
   "id": "877686df-19fe-40ac-a1dd-767d3f7e5db9",
   "metadata": {},
   "source": [
    "## Right Inverse"
   ]
  },
  {
   "cell_type": "markdown",
   "id": "d45d73d3-db21-477f-822c-ece2509a49e0",
   "metadata": {},
   "source": [
    "## $$ A|A^T(AA^T)^{-1}|= I $$\n"
   ]
  },
  {
   "cell_type": "code",
   "execution_count": 214,
   "id": "8a6ec03c-e72b-4c6c-bca6-2a66d186ecba",
   "metadata": {},
   "outputs": [],
   "source": [
    "# m>n for left inverse\n",
    "# m<n for right inverse"
   ]
  },
  {
   "cell_type": "code",
   "execution_count": 228,
   "id": "68bb1ca8-5155-4c5b-a36e-5ce5c476f0d6",
   "metadata": {},
   "outputs": [
    {
     "name": "stdout",
     "output_type": "stream",
     "text": [
      "Matrix A: \n",
      " [[ 1.25681171 -0.30830099 -3.11838064]\n",
      " [-0.12145732  0.2402517   0.19694976]\n",
      " [ 0.44090669 -1.52625968  0.92054524]\n",
      " [ 1.18680229  0.46828829 -1.42726484]\n",
      " [-1.54912974 -0.53513314 -0.95058   ]\n",
      " [-1.9654044  -2.22135638  0.76263701]]\n",
      " \n",
      "Matrix AtA: \n",
      " [[ 9.45984336  4.66102515 -5.25746332]\n",
      " [ 4.66102515  7.92232455 -2.25004688]\n",
      " [-5.25746332 -2.25004688 14.132793  ]]\n",
      " \n",
      "Matrix AAt: \n",
      " [[11.39892297 -0.84088313 -1.84592638  5.79796832  1.18228792 -4.16348939]\n",
      " [-0.84088313  0.11126197 -0.23893666 -0.31273824 -0.12763    -0.14477071]\n",
      " [-1.84592638 -0.23893666  3.37127085 -1.50532231 -0.74132143  3.22584859]\n",
      " [ 5.79796832 -0.31273824 -1.50532231  3.66487853 -0.7323779  -4.46126662]\n",
      " [ 1.18228792 -0.12763    -0.74132143 -0.7323779   3.58977276  3.50844034]\n",
      " [-4.16348939 -0.14477071  3.22584859 -4.46126662  3.50844034  9.37885384]]\n",
      " \n",
      "Shape of A^TA: \n",
      " (3, 3)\n",
      "Rank of A^TA: \n",
      " 3\n",
      "Shape of AA^T: \n",
      " (6, 6)\n",
      "Rank of AA^T: \n",
      " 3\n"
     ]
    }
   ],
   "source": [
    "m = 6\n",
    "n = 3\n",
    "\n",
    "#Create matrices\n",
    "A = np.random.randn(m,n)\n",
    "AtA = A.T@A\n",
    "AAt = A@A.T\n",
    "\n",
    "print(f'Matrix A: \\n {A}'), print(\" \")\n",
    "print(f'Matrix AtA: \\n {AtA}'), print(\" \")\n",
    "print(f'Matrix AAt: \\n {AAt}'), print(\" \")\n",
    "\n",
    "#Print inspect ranks\n",
    "print('Shape of A^TA: \\n', np.shape(AtA))\n",
    "print('Rank of A^TA: \\n', np.linalg.matrix_rank(AtA))\n",
    "print('Shape of AA^T: \\n', np.shape(AAt))\n",
    "print('Rank of AA^T: \\n', np.linalg.matrix_rank(AAt))"
   ]
  },
  {
   "cell_type": "code",
   "execution_count": 233,
   "id": "3c167f36-bb8a-4d21-b4b7-607f08aec10e",
   "metadata": {},
   "outputs": [
    {
     "name": "stdout",
     "output_type": "stream",
     "text": [
      "Matrix Left Inverse: \n",
      " [[ 0.09040079 -0.0332986   0.26582283  0.09585416 -0.27925899 -0.11130913]\n",
      " [-0.15209516  0.05274142 -0.31678689 -0.01659008  0.05042412 -0.22134728]\n",
      " [-0.21123376  0.00994525  0.11358786 -0.06797266 -0.16311831 -0.02268543]]\n",
      " \n",
      "Matrix Right Inverse: \n",
      " [[ 0.25    -1.      -0.125    0.5     -0.75     0.     ]\n",
      " [-0.5      1.       0.125    0.       0.25    -0.125  ]\n",
      " [-0.75     2.25     0.1875  -0.375    0.       0.09375]]\n",
      " \n"
     ]
    },
    {
     "data": {
      "text/plain": [
       "(None, None)"
      ]
     },
     "execution_count": 233,
     "metadata": {},
     "output_type": "execute_result"
    }
   ],
   "source": [
    "#Left Inverse\n",
    "Aleft = np.linalg.inv(AtA)@A.T\n",
    "\n",
    "#Right Inverse\n",
    "Aright = A.T@np.linalg.inv(AAt)\n",
    "\n",
    "\n",
    "print(f'Matrix Left Inverse: \\n {Aleft}'), print(\" \")\n",
    "print(f'Matrix Right Inverse: \\n {Aright}'), print(\" \")"
   ]
  },
  {
   "cell_type": "code",
   "execution_count": 235,
   "id": "1399cbc0-7d7b-4c45-b4f8-dc9d401d8533",
   "metadata": {},
   "outputs": [
    {
     "name": "stdout",
     "output_type": "stream",
     "text": [
      "I Left Inverse: \n",
      " [[ 1.00000000e+00 -2.22044605e-16  3.05311332e-16]\n",
      " [-5.55111512e-17  1.00000000e+00 -1.66533454e-16]\n",
      " [ 7.63278329e-17 -9.71445147e-17  1.00000000e+00]]\n",
      " \n",
      "I Right Inverse: \n",
      " [[ 2.8071389  -8.58146913 -0.78033546  1.79779859 -1.01968403 -0.25381056]\n",
      " [-0.2982025   0.80484598  0.08214171 -0.13458482  0.15115592 -0.01156742]\n",
      " [ 0.18294758  0.10406041 -0.07329356 -0.12475112 -0.71224494  0.27708358]\n",
      " [ 1.13300506 -3.9298599  -0.35742641  1.12862546 -0.77302965 -0.19234212]\n",
      " [ 0.59321913 -1.12480839 -0.05148417 -0.41809737  1.02806402 -0.02222523]\n",
      " [ 0.04734933  1.45998129  0.11100044 -1.26869108  0.91871421  0.34916677]]\n",
      " \n"
     ]
    },
    {
     "data": {
      "text/plain": [
       "(None, None)"
      ]
     },
     "execution_count": 235,
     "metadata": {},
     "output_type": "execute_result"
    }
   ],
   "source": [
    "#now test\n",
    "i_left = Aleft@A\n",
    "i_right = A@Aright\n",
    "\n",
    "print(f'I Left Inverse: \\n {i_left}'), print(\" \")\n",
    "print(f'I Right Inverse: \\n {i_right}'), print(\" \")"
   ]
  },
  {
   "cell_type": "code",
   "execution_count": 237,
   "id": "51e77ea4-5c6c-4759-8005-5e037bc10bcc",
   "metadata": {},
   "outputs": [
    {
     "name": "stdout",
     "output_type": "stream",
     "text": [
      "I Left Inverse: \n",
      " [[ 1.00000000e+00 -1.11022302e-16  1.11022302e-16]\n",
      " [ 1.28369537e-16  1.00000000e+00 -5.55111512e-17]\n",
      " [-5.55111512e-17 -2.77555756e-17  1.00000000e+00]]\n",
      " \n",
      "I Right Inverse: \n",
      " [[ 4.62500000e+00 -6.30859375e-01  1.12500000e+00 -2.50000000e-01\n",
      "   3.68750000e+00  4.37500000e+00]\n",
      " [-1.45000000e+01 -3.25000000e+00  1.92500000e+01 -1.60000000e+01\n",
      "   2.87500000e+01  4.70000000e+01]\n",
      " [-2.75000000e+00 -1.32812500e-01  1.75000000e+00 -1.75000000e+00\n",
      "   2.25000000e+00  4.00000000e+00]\n",
      " [-4.06250000e+00  4.55078125e-01 -9.37500000e-01 -1.00000000e+00\n",
      "  -1.87500000e+00 -1.62500000e+00]\n",
      " [-5.00000000e-01  6.25000000e-02  2.50000000e-01 -5.00000000e-01\n",
      "   5.00000000e-01  0.00000000e+00]\n",
      " [ 0.00000000e+00  4.68750000e-02  0.00000000e+00 -5.00000000e-01\n",
      "   5.00000000e-01  1.00000000e+00]]\n",
      " \n"
     ]
    },
    {
     "data": {
      "text/plain": [
       "(None, None)"
      ]
     },
     "execution_count": 237,
     "metadata": {},
     "output_type": "execute_result"
    }
   ],
   "source": [
    "#and then test using the inverse function\n",
    "AtA_inv = np.linalg.inv(AtA)\n",
    "I_AtA = AtA_inv @ AtA\n",
    "\n",
    "AAt_inv = np.linalg.inv(AAt)\n",
    "I_AAt = AAt_inv @ AAt\n",
    "\n",
    "print(f'I Left Inverse: \\n {I_AtA}'), print(\" \")\n",
    "print(f'I Right Inverse: \\n {I_AAt}'), print(\" \")"
   ]
  },
  {
   "cell_type": "code",
   "execution_count": 241,
   "id": "46470b5b-7bb6-4264-8d34-058755a58754",
   "metadata": {},
   "outputs": [
    {
     "data": {
      "text/plain": [
       "Text(0.5, 1.0, '$A^T(AA^T)^{-1}$')"
      ]
     },
     "execution_count": 241,
     "metadata": {},
     "output_type": "execute_result"
    },
    {
     "data": {
      "image/png": "[encoded data removed]",
      "text/plain": [
       "<Figure size 640x480 with 5 Axes>"
      ]
     },
     "metadata": {},
     "output_type": "display_data"
    }
   ],
   "source": [
    "## show images plt.subplot(331) plt.imshow(A), plt.axis('off') plt.title('A') \n",
    "plt.subplot(331) \n",
    "plt.imshow(A), plt.axis('off') \n",
    "plt.title('A') \n",
    "\n",
    "\n",
    "plt.subplot(332) \n",
    "plt.imshow(AtA), plt.axis('off') \n",
    "plt.title('A$^T$A') \n",
    "          \n",
    "plt.subplot(333) \n",
    "plt.imshow(AAt), plt.axis('off') \n",
    "plt.title('AA$^T$')\n",
    "          \n",
    "plt.subplot(335) \n",
    "plt.imshow(Aleft), plt.axis('off') \n",
    "plt.title( '(A^TA)^{-1}A^T$') \n",
    "          \n",
    "plt.subplot(336) \n",
    "plt.imshow(Aright), plt.axis('off') \n",
    "plt.title( '$A^T(AA^T)^{-1}$') "
   ]
  },
  {
   "cell_type": "markdown",
   "id": "8b724c46-288c-48a3-9bca-663746b5c4cf",
   "metadata": {},
   "source": [
    "## Proof: The inverse is unique"
   ]
  },
  {
   "cell_type": "markdown",
   "id": "60e1b513-49a9-4d7d-8b48-8c411b594a4c",
   "metadata": {},
   "source": [
    "#### Proof 1\n",
    "## $$ A^{-1}AB = A^{-1}I \\to B = A^{-1}$$\n",
    "## $$ A^{-1}AC = A^{-1}I \\to C = A^{-1}$$\n",
    "## $$ B=  C $$"
   ]
  },
  {
   "cell_type": "markdown",
   "id": "7a7cdfd2-f9f3-49a1-8953-da97865a986c",
   "metadata": {},
   "source": [
    "#### Proof 2\n",
    "## $$ C = CI = CAB = IB = B $$"
   ]
  },
  {
   "cell_type": "markdown",
   "id": "fa8070b7-dc87-4494-af17-2512bab22420",
   "metadata": {},
   "source": [
    "## Pseudoinverse"
   ]
  },
  {
   "cell_type": "code",
   "execution_count": 257,
   "id": "70410da3-e788-45ee-8f5b-20c1dbe0ef61",
   "metadata": {},
   "outputs": [
    {
     "name": "stdout",
     "output_type": "stream",
     "text": [
      "Matrix A: \n",
      " [[ 1.25681171 -0.30830099 -3.11838064]\n",
      " [-0.12145732  0.2402517   0.19694976]\n",
      " [ 0.44090669 -1.52625968  0.92054524]\n",
      " [ 1.18680229  0.46828829 -1.42726484]\n",
      " [-1.54912974 -0.53513314 -0.95058   ]\n",
      " [-1.9654044  -2.22135638  0.76263701]]\n",
      " \n",
      "Pseudoinverse Matrix A: \n",
      " [[ 0.09040079 -0.0332986   0.26582283  0.09585416 -0.27925899 -0.11130913]\n",
      " [-0.15209516  0.05274142 -0.31678689 -0.01659008  0.05042412 -0.22134728]\n",
      " [-0.21123376  0.00994525  0.11358786 -0.06797266 -0.16311831 -0.02268543]]\n",
      " \n"
     ]
    },
    {
     "data": {
      "image/png": "[encoded data removed]",
      "text/plain": [
       "<Figure size 640x480 with 3 Axes>"
      ]
     },
     "metadata": {},
     "output_type": "display_data"
    }
   ],
   "source": [
    "#Pseudoinverse of rectangular matrix A\n",
    "print(f'Matrix A: \\n {A}'), print(\" \")\n",
    "\n",
    "pseudoInvA = np.linalg.pinv(A)\n",
    "print(f'Pseudoinverse Matrix A: \\n {pseudoInvA}'), print(\" \")\n",
    "\n",
    "plt.subplot(131) \n",
    "plt.imshow(A), plt.axis('off') \n",
    "plt.title('A') \n",
    "\n",
    "\n",
    "plt.subplot(132) \n",
    "plt.imshow(pseudoInvA), plt.axis('off') \n",
    "plt.title('Pseudoinverse of A') \n",
    "          \n",
    "plt.subplot(133) \n",
    "plt.imshow(AAt), plt.axis('off') \n",
    "plt.title('A$^*$A')\n",
    "          \n",
    "plt.show()\n"
   ]
  },
  {
   "cell_type": "code",
   "execution_count": 259,
   "id": "b4612636-2b75-4e6f-8848-483d8b345563",
   "metadata": {},
   "outputs": [
    {
     "name": "stdout",
     "output_type": "stream",
     "text": [
      "rank = 49\n"
     ]
    }
   ],
   "source": [
    "#create random matrix\n",
    "n = 50\n",
    "A = np.random.randn(n,n)\n",
    "\n",
    "#make rank deficient by repeating a column\n",
    "A[:,n-1] = A[:, n-2]\n",
    "\n",
    "#rank of A!\n",
    "print(f'rank = {np.linalg.matrix_rank(A)}')"
   ]
  },
  {
   "cell_type": "code",
   "execution_count": 280,
   "id": "9a8d94f9-541f-4410-a545-392b7a54dcdb",
   "metadata": {},
   "outputs": [
    {
     "data": {
      "image/png": "[encoded data removed]",
      "text/plain": [
       "<Figure size 640x480 with 4 Axes>"
      ]
     },
     "metadata": {},
     "output_type": "display_data"
    }
   ],
   "source": [
    "#compute the pseudoinverse\n",
    "Ai = np.linalg.pinv(A)\n",
    "\n",
    "#and show the matrices\n",
    "plt.subplot(221)\n",
    "plt.imshow(A), plt.axis('off')\n",
    "plt.title('A')\n",
    "\n",
    "plt.subplot(222)\n",
    "plt.imshow(Ai), plt.axis('off')\n",
    "plt.title('A$^*$')\n",
    "\n",
    "plt.subplot(223)\n",
    "plt.imshow(Ai@A), plt.axis('off')\n",
    "plt.title('A$^*$A')\n",
    "\n",
    "plt.subplot(224)\n",
    "plt.imshow(A@Ai), plt.axis('off')\n",
    "plt.title('AA$^*$')\n",
    "\n",
    "plt.show()"
   ]
  },
  {
   "cell_type": "markdown",
   "id": "36d1d407-d7fe-4ed8-a2d4-b01755f7bc07",
   "metadata": {},
   "source": [
    "## Challenge"
   ]
  },
  {
   "cell_type": "code",
   "execution_count": 293,
   "id": "d50a4ff3-c2d0-4b70-850e-74fbad0302b2",
   "metadata": {},
   "outputs": [
    {
     "name": "stdout",
     "output_type": "stream",
     "text": [
      "Matrix A: \n",
      " [[-0.541 -0.137  2.036 -0.789 -1.048]\n",
      " [ 1.132  0.891 -0.044  0.922  0.849]\n",
      " [-2.738 -0.622  0.18  -0.659 -1.111]\n",
      " [ 1.002  0.323 -1.168 -0.042  0.164]\n",
      " [-0.692  0.664 -0.751 -0.685  1.541]]\n",
      " \n",
      "Inverse of A: \n",
      " [[ 0.102 -0.261 -0.401  0.188 -0.095]\n",
      " [ 0.625  1.224  0.726  1.052  0.162]\n",
      " [ 0.234  0.042 -0.221 -0.504  0.03 ]\n",
      " [-0.438  0.567  0.236 -0.501 -0.387]\n",
      " [-0.304 -0.372 -0.495 -0.836  0.379]]\n",
      " \n",
      "Pseudoinverse of A: \n",
      " [[ 0.102 -0.261 -0.401  0.188 -0.095]\n",
      " [ 0.625  1.224  0.726  1.052  0.162]\n",
      " [ 0.234  0.042 -0.221 -0.504  0.03 ]\n",
      " [-0.438  0.567  0.236 -0.501 -0.387]\n",
      " [-0.304 -0.372 -0.495 -0.836  0.379]]\n",
      " \n",
      "[[-0. -0.  0.  0. -0.]\n",
      " [ 0. -0. -0.  0. -0.]\n",
      " [-0. -0.  0.  0. -0.]\n",
      " [-0. -0.  0.  0. -0.]\n",
      " [ 0.  0.  0. -0.  0.]]\n"
     ]
    }
   ],
   "source": [
    "#Pseudoinverse is the same as the \"real\" inverse for an invertible matrix?\n",
    "\n",
    "m = 5\n",
    "A = np.random.randn(m,m)\n",
    "\n",
    "AinvF = np.linalg.inv(A)\n",
    "AinvP = np.linalg.pinv(A)\n",
    "\n",
    "print(f'Matrix A: \\n {np.round(A,3)}'), print(\" \")\n",
    "print(f'Inverse of A: \\n {np.round(AinvF,3)}'), print(\" \")\n",
    "print(f'Pseudoinverse of A: \\n {np.round(AinvP,3)}'), print(\" \")\n",
    "\n",
    "print(np.round(AinvP-AinvF,5))\n",
    "\n",
    "#they a"
   ]
  },
  {
   "cell_type": "code",
   "execution_count": null,
   "id": "8c4495a4-4cfb-425f-ac64-cbed7836c092",
   "metadata": {},
   "outputs": [],
   "source": []
  }
 ],
 "metadata": {
  "kernelspec": {
   "display_name": "Python 3 (ipykernel)",
   "language": "python",
   "name": "python3"
  },
  "language_info": {
   "codemirror_mode": {
    "name": "ipython",
    "version": 3
   },
   "file_extension": ".py",
   "mimetype": "text/x-python",
   "name": "python",
   "nbconvert_exporter": "python",
   "pygments_lexer": "ipython3",
   "version": "3.12.7"
  }
 },
 "nbformat": 4,
 "nbformat_minor": 5
}
