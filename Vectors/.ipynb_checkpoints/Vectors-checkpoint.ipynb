{
 "cells": [
  {
   "cell_type": "code",
   "execution_count": 1,
   "id": "b3416341",
   "metadata": {},
   "outputs": [],
   "source": [
    "import numpy as np\n",
    "import matplotlib.pyplot as plt\n",
    "from mpl_toolkits.mplot3d import Axes3D"
   ]
  },
  {
   "cell_type": "markdown",
   "id": "53fdba27",
   "metadata": {},
   "source": [
    "#### Algebraic and Geometric Interpretations"
   ]
  },
  {
   "cell_type": "code",
   "execution_count": 2,
   "id": "26e066e3",
   "metadata": {},
   "outputs": [],
   "source": [
    "# 2-dimensional vector\n",
    "v2 = [ 3, -2]\n",
    "\n",
    "# 3- dimensional vector\n",
    "v3 = [4, -3, 2]\n",
    "\n",
    "# row to column ( or vice-versa): Transpose\n",
    "v3t = np.transpose(v3)"
   ]
  },
  {
   "cell_type": "code",
   "execution_count": 3,
   "id": "77ae27ec",
   "metadata": {},
   "outputs": [
    {
     "data": {
      "image/png": "[encoded data removed]",
      "text/plain": [
       "<Figure size 640x480 with 1 Axes>"
      ]
     },
     "metadata": {},
     "output_type": "display_data"
    }
   ],
   "source": [
    "#plot the 2d vectors\n",
    "plt.plot([0, v2[0]], [0, v2[1]])\n",
    "plt.axis('equal')\n",
    "plt.plot([-4, 4], [0,0], 'k--') #Eixos pontilhados\n",
    "plt.plot([0,0],[-4, 4], 'k--')\n",
    "plt.grid() #tabulação\n",
    "plt.axis((-4, 4, -4, 4))\n",
    "plt.show()"
   ]
  },
  {
   "cell_type": "code",
   "execution_count": 4,
   "id": "0cf3ca61",
   "metadata": {},
   "outputs": [
    {
     "ename": "TypeError",
     "evalue": "gca() got an unexpected keyword argument 'projection'",
     "output_type": "error",
     "traceback": [
      "\u001b[1;31m---------------------------------------------------------------------------\u001b[0m",
      "\u001b[1;31mTypeError\u001b[0m                                 Traceback (most recent call last)",
      "Cell \u001b[1;32mIn[4], line 3\u001b[0m\n\u001b[0;32m      1\u001b[0m \u001b[38;5;66;03m# plot the 3d vectos\u001b[39;00m\n\u001b[0;32m      2\u001b[0m fig \u001b[38;5;241m=\u001b[39m plt\u001b[38;5;241m.\u001b[39mfigure(figsize\u001b[38;5;241m=\u001b[39mplt\u001b[38;5;241m.\u001b[39mfigaspect(\u001b[38;5;241m1\u001b[39m))\n\u001b[1;32m----> 3\u001b[0m ax \u001b[38;5;241m=\u001b[39m \u001b[43mfig\u001b[49m\u001b[38;5;241;43m.\u001b[39;49m\u001b[43mgca\u001b[49m\u001b[43m(\u001b[49m\u001b[43mprojection\u001b[49m\u001b[38;5;241;43m=\u001b[39;49m\u001b[38;5;124;43m'\u001b[39;49m\u001b[38;5;124;43m3d\u001b[39;49m\u001b[38;5;124;43m'\u001b[39;49m\u001b[43m)\u001b[49m \u001b[38;5;66;03m# Projeta o espaço tabular em 3d\u001b[39;00m\n\u001b[0;32m      4\u001b[0m ax\u001b[38;5;241m.\u001b[39mplot([\u001b[38;5;241m0\u001b[39m, v3[\u001b[38;5;241m0\u001b[39m]], [\u001b[38;5;241m0\u001b[39m, v3[\u001b[38;5;241m1\u001b[39m]], [\u001b[38;5;241m0\u001b[39m, v3[\u001b[38;5;241m2\u001b[39m]], linewidth\u001b[38;5;241m=\u001b[39m\u001b[38;5;241m3\u001b[39m) \u001b[38;5;66;03m#projetando a reta\u001b[39;00m\n\u001b[0;32m      6\u001b[0m \u001b[38;5;66;03m# make a plot look nicer\u001b[39;00m\n",
      "\u001b[1;31mTypeError\u001b[0m: gca() got an unexpected keyword argument 'projection'"
     ]
    },
    {
     "data": {
      "text/plain": [
       "<Figure size 480x480 with 0 Axes>"
      ]
     },
     "metadata": {},
     "output_type": "display_data"
    }
   ],
   "source": [
    "# plot the 3d vectos\n",
    "fig = plt.figure(figsize=plt.figaspect(1))\n",
    "ax = fig.gca(projection='3d') # Projeta o espaço tabular em 3d\n",
    "ax.plot([0, v3[0]], [0, v3[1]], [0, v3[2]], linewidth=3) #projetando a reta\n",
    "\n",
    "# make a plot look nicer\n",
    "ax.plot([0,0], [0,0], [-4,4], 'k--') #projetando o pontilhado no eixo z\n",
    "ax.plot([0,0], [-4,4], [0,0],  'k--') #projetando o pontilhado no eixo x\n",
    "ax.plot([-4,4], [0,0],  [0,0],  'k--') #projetando o pontilhado no eixo y"
   ]
  },
  {
   "cell_type": "markdown",
   "id": "73791986",
   "metadata": {},
   "source": [
    "### VectorAdditionSubtraction"
   ]
  },
  {
   "cell_type": "code",
   "execution_count": null,
   "id": "f9a1672c",
   "metadata": {},
   "outputs": [],
   "source": [
    "# two vectors in R2\n",
    "v1 = np.array([3 , -1])\n",
    "v2 = np.array([2, 4])\n",
    "\n",
    "v3 = v1 + v2\n",
    "\n",
    "v3"
   ]
  },
  {
   "cell_type": "code",
   "execution_count": null,
   "id": "fbfbf893",
   "metadata": {},
   "outputs": [],
   "source": [
    "# plotting the vectors\n",
    "\n",
    "plt.plot([0, v1[0]], [0, v1[1]], 'b', label = 'v1') #linha v1 b - blue\n",
    "plt.plot([0, v2[0]] + v1[0], [0, v2[1]] + v1[1], 'r', label = 'v2') #linha v2 soma\n",
    "plt.plot([0, v3[0]], [0, v3[1]], 'k', label = 'v1+v2') #vetor resultante\n",
    "\n",
    "plt.legend() # legenda no canto superior\n",
    "plt.axis('square') # redimensiona a imagem para um quadrado\n",
    "plt.axis((-6, 6, -6, 6)) # redimensiona o quadrado em 6 por 6\n",
    "plt.grid() #tabulação\n",
    "plt.show()"
   ]
  },
  {
   "cell_type": "markdown",
   "id": "6a12aa0d",
   "metadata": {},
   "source": [
    "### VectorScalarMultiplication"
   ]
  },
  {
   "cell_type": "code",
   "execution_count": null,
   "id": "e5e35938",
   "metadata": {},
   "outputs": [],
   "source": [
    "# Vector and scalar\n",
    "v1 = np.array([3, -1])\n",
    "l = -.3\n",
    "v1m = v1*l # Scalar modulated\n",
    "\n",
    "#plot\n",
    "plt.plot([0, v1[0]], [0, v1[1]], 'b', label='v_1') #linha v1 azul (b)\n",
    "plt.plot([0, v1m[0]], [0, v1m[1]], 'r', label='\\lambda v_1') #vetor modulado vermelho\n",
    "\n",
    "plt.axis('square') # redimensiona a imagem para quadrada\n",
    "axlim = max([abs(max(v1)), abs(max(v1m))])*1.5 \n",
    "plt.axis((-axlim, axlim, -axlim, axlim))\n",
    "plt.grid() #tabulação\n",
    "plt.show()"
   ]
  },
  {
   "cell_type": "markdown",
   "id": "e5e33061",
   "metadata": {},
   "source": [
    "#### VectorMultiplication: The dot product"
   ]
  },
  {
   "cell_type": "code",
   "execution_count": null,
   "id": "1147caed",
   "metadata": {},
   "outputs": [],
   "source": [
    "# Various ways of doing vector multiplication\n",
    "\n",
    "v1 = np.array([1, 2, 3, 4, 5])\n",
    "v2 = np.array([0, -4, -3, 6, 5 ])\n",
    "\n",
    "#method 1\n",
    "dp1 = sum(np.multiply(v1, v2))\n",
    "print(f\"Método 1: {dp1}\")\n",
    "\n",
    "#method 2\n",
    "dp2 = np.dot(v1, v2)\n",
    "print(f\"Método 2: {dp2}\")\n",
    "\n",
    "#method 3\n",
    "dp3 = np.matmul(v1, v2)\n",
    "print(f\"Método 3: {dp3}\")\n",
    "\n",
    "#method 4\n",
    "dp4 = 0\n",
    "\n",
    "#Loop over elements \n",
    "for i in range (0, len(v1)):\n",
    "    \n",
    "    #mltiply corresponding element and sum\n",
    "    dp4 = dp4 + v1[i]*v2[i]\n",
    "    \n",
    "print(f\"Método 4: {dp4}\")"
   ]
  },
  {
   "cell_type": "markdown",
   "id": "cbdd53a9",
   "metadata": {},
   "source": [
    "#### Dot Product Properties: Associative and Distributive"
   ]
  },
  {
   "cell_type": "code",
   "execution_count": null,
   "id": "f18fbb59",
   "metadata": {},
   "outputs": [],
   "source": [
    "## Distributive Property\n",
    "\n",
    "#Create random vectors\n",
    "\n",
    "n = 10\n",
    "a = np.random.randn(n)\n",
    "print(f\"ponto a: {a}\")\n",
    "print()\n",
    "b = np.random.randn(n)\n",
    "print(f\"ponto b: {b}\")\n",
    "print()\n",
    "c = np.random.randn(n)\n",
    "print(f\"ponto c: {c}\")\n",
    "print()\n",
    "\n",
    "# the two results\n",
    "res1 = np.dot(a, (b+c))\n",
    "res2 = np.dot(a,b) + np.dot(a,c)\n",
    "\n",
    "#compare them\n",
    "print([res1, res2])"
   ]
  },
  {
   "cell_type": "code",
   "execution_count": null,
   "id": "ad0a1191",
   "metadata": {},
   "outputs": [],
   "source": [
    "matriz1 = np.random.rand(4, 6)  # Valores aleatórios entre 0 e 1\n",
    "print(matriz1)\n",
    "print()\n",
    "\n",
    "matriz2 = np.random.rand(4, 6)  # Valores aleatórios entre 0 e 1\n",
    "print(matriz2)\n",
    "print()\n",
    "\n",
    "dps = np.zeros(6)\n",
    "print(dps)\n",
    "\n",
    "for i in range(6):\n",
    "    dps[i] = np.dot(matriz1[:,i], matriz2[:,i])\n",
    "    \n",
    "print()\n",
    "print(dps)"
   ]
  },
  {
   "cell_type": "markdown",
   "id": "e891a45d",
   "metadata": {},
   "source": [
    "#### Is dot product commutative?\n"
   ]
  },
  {
   "cell_type": "code",
   "execution_count": null,
   "id": "2370346e",
   "metadata": {},
   "outputs": [],
   "source": [
    "v1 = np.random.randn(100)\n",
    "v2 = np.random.randn(100)\n",
    "\n",
    "res1 = np.dot(v1, v2)\n",
    "res2 = np.dot(v2, v1)\n",
    "print(res1, res2, res1-res2)\n",
    "\n",
    "if res1 == res2:\n",
    "    print(\"São iguais\")\n",
    "    \n",
    "#Test with 2-element random vectors\n",
    "v = [2,4]\n",
    "w = [3, 5]\n",
    "print(np.dot(v,w), np.dot(w,v))"
   ]
  },
  {
   "cell_type": "markdown",
   "id": "5d955813",
   "metadata": {},
   "source": [
    "#### Vector Length\n",
    "\n",
    "$$\n",
    "\\|v\\| = \\sqrt{v^T v}\n",
    "$$\n",
    "\n"
   ]
  },
  {
   "cell_type": "code",
   "execution_count": null,
   "id": "02b18d77",
   "metadata": {},
   "outputs": [],
   "source": [
    "# a vector\n",
    "v1 = np.array([1, 2, 3, 4, 5, 6])\n",
    "\n",
    "# #methods 1-4, just like with the regular dot product, e.g.:\n",
    "vl1 = np.sqrt(sum(np.multiply(v1,v1)))\n",
    "\n",
    "#method 2\n",
    "vl2 = np.sqrt(np.dot(v1, v1))\n",
    "print(f\"Método 2: {vl2}\")\n",
    "\n",
    "#method 3\n",
    "vl3 = np.sqrt(np.matmul(v1, v1))\n",
    "print(f\"Método 3: {vl3}\")\n",
    "\n",
    "#method 4 using for loop\n",
    "\n",
    "#method 5: take the norm\n",
    "vl5 = np.linalg.norm(v1)\n",
    "print(f\"Método 5: {vl5}\")\n"
   ]
  },
  {
   "cell_type": "markdown",
   "id": "197b6edf",
   "metadata": {},
   "source": [
    "##### The dot product from a geometric perspective\n",
    "\n",
    "$$ \\alpha = |a||b|cos(\\theta_{ab} = a^Tb)$$"
   ]
  },
  {
   "cell_type": "markdown",
   "id": "6f8e3f51",
   "metadata": {},
   "source": [
    "| Thetha < 90° | Theta > 90° | Theta = 90° | Theta = 0° |\n",
    "|--------------|-------------|-------------|------------|\n",
    "| Cos(theta) > 0 | Cos(theta) < 0 | Cos(theta) = 0 | Cos(theta) = 1 |\n",
    "| alfa > 0       | alfa < 0       | alfa = 0       | alfa = (\\|a\\|\\|b\\|) |\n",
    "\n",
    "\n"
   ]
  },
  {
   "cell_type": "code",
   "execution_count": null,
   "id": "d4238cac",
   "metadata": {},
   "outputs": [],
   "source": [
    "# two vectors\n",
    "v1 = np.array([2, 4, -3])\n",
    "v2 = np.array([0, -3, -3])\n",
    "\n",
    "# Compute the angle (radians) between two vectors\n",
    "ang = np.arccos(np.dot(v1, v2)/(np.linalg.norm(v1)*np.linalg.norm(v2)))\n",
    "\n",
    "#draw them\n",
    "\n",
    "fig = plt.figure()\n",
    "ax = fig.gca(projection='3d')\n",
    "ax.plot([0, v1[0]], [0, v1[1]], [0,v1[2]], 'b')\n",
    "ax.plot([0, v2[0]], [0, v2[1]], [0,v2[2]], 'r')\n",
    "\n",
    "\n",
    "plt.axis((-6, 6, -6, 6))\n",
    "plt.title(f'Angle between vectors: {ang} rad.')\n",
    "plt.show()"
   ]
  },
  {
   "cell_type": "code",
   "execution_count": null,
   "id": "73d74e6e",
   "metadata": {},
   "outputs": [],
   "source": [
    "# equivalence of algebraic and geometric dot product formulas\n",
    "v1 = np.array([2, 4, -3])\n",
    "v2 = np.array([0, -3, -3])\n",
    "\n",
    "# algebraic\n",
    "dp_a = np.dot(v1, v2)\n",
    "\n",
    "#geometric\n",
    "dp_g = np.linalg.norm(v1)*np.linalg.norm(v2)*np.cos(ang)\n",
    "\n",
    "print(dp_a)\n",
    "print(dp_g)\n"
   ]
  },
  {
   "cell_type": "markdown",
   "id": "ac03ee18",
   "metadata": {},
   "source": [
    "#Cauchy-Schwarz Inequality\n",
    "$$|a^Tb| \\leq ||a||*||b||$$\n",
    "#Prove\n",
    "$$||a||*||b||*|cos(\\Theta_{ab})| \\leq ||a||*||b|| $$\n",
    "$$|cos(\\Theta_{ab})| \\leq 1 $$\n",
    "$$ 0\\leq |cos(\\Theta_{ab})| \\leq 1 $$"
   ]
  },
  {
   "cell_type": "code",
   "execution_count": null,
   "id": "5eb95483",
   "metadata": {},
   "outputs": [],
   "source": [
    "#create three vectors, one of which is dependent on another\n",
    "\n",
    "a = np.random.randn(5)\n",
    "b = np.random.randn(5)\n",
    "c = np.random.randn(1) * a\n",
    "\n",
    "#compute their dot products\n",
    "aTb = np.dot(a,b)\n",
    "aTc = np.dot(a,c)\n",
    "\n",
    "#demonstrate the (in)equalities. Multiplying for the norm\n",
    "print(\"The left is always less than or equal to the right\")\n",
    "print(f'{np.abs(aTb):.4f}, {np.linalg.norm(a)*np.linalg.norm(b):.4f}') #np.abs = absolute value\n",
    "print(\"The left is always equal to the right\")\n",
    "print(f'{np.abs(aTc):.4f}, {np.linalg.norm(a)*np.linalg.norm(c):.4f}')"
   ]
  },
  {
   "cell_type": "code",
   "execution_count": null,
   "id": "91becba3",
   "metadata": {},
   "outputs": [],
   "source": [
    "#challenge\n",
    "\n",
    "#Generate two vectors\n",
    "a = np.array([-3,4,5])\n",
    "b = np.array([3,6,-3])\n",
    "\n",
    "#Generate two scalars\n",
    "s1 = 2\n",
    "s2 = 3\n",
    "\n",
    "#compute dot product between the vectors\n",
    "product = np.dot(a,b)\n",
    "\n",
    "#compute dot product between scaled vectors\n",
    "product_vectors = np.dot(s1*a, s2*b)\n",
    "print(f'Original dot product: {product}')\n",
    "print(f'Scaled dot product: {product_vectors}')"
   ]
  },
  {
   "cell_type": "markdown",
   "id": "20a2a09e",
   "metadata": {},
   "source": [
    "## Vector Hadamard Multiplication"
   ]
  },
  {
   "cell_type": "code",
   "execution_count": null,
   "id": "a22c8dc4",
   "metadata": {},
   "outputs": [],
   "source": [
    "W1 = [1, 3, 5]\n",
    "W2 = [3,4,2]\n",
    "\n",
    "W3 = np.multiply(W1,W2)\n",
    "W3"
   ]
  },
  {
   "cell_type": "markdown",
   "id": "7e42cf2f",
   "metadata": {},
   "source": [
    "### Dot Product and Outer Product"
   ]
  },
  {
   "cell_type": "markdown",
   "id": "7011b677",
   "metadata": {},
   "source": [
    "$$\\text{Dot Product: } V_{N \\times 1}^T W_{N \\times 1} = 1 \\times 1$$\n",
    "\n",
    "$$\\text{Outer Product: } V_{N \\times 1} W_{M \\times 1}^T = N \\times M$$"
   ]
  },
  {
   "cell_type": "code",
   "execution_count": null,
   "id": "c7d001f5",
   "metadata": {},
   "outputs": [],
   "source": [
    "#Computing the outer product\n",
    "\n",
    "v1 = np.array([1, 2, 3])\n",
    "v2 = np.array([-1, 0, 1])\n",
    "\n",
    "#Outer product\n",
    "\n",
    "op1 = np.outer(v1, v2)\n",
    "\n",
    "#Terrible programing, but helps conceptually:\n",
    "op2 = np.zeros((len(v1), len(v2))) \n",
    "for i in range(0, len(v1)):\n",
    "    for j in range(0, len(v2)):\n",
    "        op2[i,j] = v1[i]*v2[j]\n",
    "        \n",
    "print(op1)\n",
    "print('')\n",
    "print(op2)"
   ]
  },
  {
   "cell_type": "markdown",
   "id": "e8cdc0b4",
   "metadata": {},
   "source": [
    "## Vector Cross Product"
   ]
  },
  {
   "cell_type": "code",
   "execution_count": null,
   "id": "a095006b",
   "metadata": {},
   "outputs": [],
   "source": [
    "#  Create vectors\n",
    "v1 = [-3, 2 , 5]\n",
    "v2 = [4, -3, 0]\n",
    "\n",
    "#Python's cross-product-function\n",
    "v3a = np.cross(v1, v2)\n",
    "\n",
    "#\"Manual\" method\n",
    "v3b = [\n",
    "    [v1[1]*v2[2] - v1[2]*v2[1]],\n",
    "    [v1[2]*v2[0] - v1[0]*v2[2]],\n",
    "    [v1[0]*v2[1] - v1[1]*v2[0]]\n",
    "]\n",
    "print(f'V3a: {v3a}\\nV3b: {v3b}')\n",
    "\n",
    "fig = plt.figure()\n",
    "ax = fig.gca(projection='3d')\n",
    "\n",
    "#draw plane defined by span of v1 and v2\n",
    "xx, yy = np.meshgrid(np.linspace(-10, 10, 10), np.linspace(-10, 10, 10))\n",
    "z1 = (-v3a[0]*xx - v3a[1]*yy)/v3a[2]\n",
    "ax.plot_surface(xx,yy,z1)\n",
    "\n",
    "# Plot the two vectors\n",
    "ax.plot([0, v1[0]], [0, v1[1]], [0, v1[2]], 'k')\n",
    "ax.plot([0, v2[0]], [0, v2[1]], [0, v2[2]], 'k')\n",
    "ax.plot([0, v3a[0]], [0, v3a[1]], [0, v3a[2]], 'r')\n",
    "\n",
    "ax.view_init(azim=150, elev=45)\n",
    "plt.show()"
   ]
  },
  {
   "cell_type": "markdown",
   "id": "14685e57",
   "metadata": {},
   "source": [
    "## Complex Numbers - Hermitian transpose"
   ]
  },
  {
   "cell_type": "code",
   "execution_count": null,
   "id": "b59de38e",
   "metadata": {},
   "outputs": [],
   "source": [
    "#Hermitian transpose:  conjugado dos números complexos. Em caso de transposição, apenas os números complexos são afetados, sendo trocados pelos seus respectivos conjugados\n",
    "\n",
    "#create a complex number\n",
    "z = np.complex(3,4)\n",
    "print(z)\n",
    "#magnitude\n",
    "print(np.linalg.norm(z))\n",
    "\n",
    "#by transpose?\n",
    "print(np.transpose(z)*z)\n",
    "\n",
    "#by Hermitian transpose\n",
    "print(np.transpose(z.conjugate())*z)\n",
    "\n",
    "#create a complex vector\n",
    "v = np.array([3, 4j, 5+2j, np.complex(2,-5)])\n",
    "print(v.T)\n",
    "print(np.transpose(v))\n",
    "print(np.transpose(v.conjugate())) #o conjugado invertendo os sinais apenas nos números complexos"
   ]
  },
  {
   "cell_type": "markdown",
   "id": "34a5ffee",
   "metadata": {},
   "source": [
    "## Unit Vector"
   ]
  },
  {
   "cell_type": "code",
   "execution_count": null,
   "id": "d0fc57b0",
   "metadata": {},
   "outputs": [],
   "source": [
    "#vector\n",
    "v1 = np.array([-.3, .6])/10\n",
    "\n",
    "#mi (mu)\n",
    "mu = 1/np.linalg.norm(v1)\n",
    "\n",
    "v1n = v1*mu\n",
    "\n",
    "#Plot\n",
    "\n",
    "plt.plot([0, v1n[0]], [0, v1n[1]], 'r',  label = 'v1-norm', linewidth=5)\n",
    "plt.plot([0,v1[0]], [0, v1[1]], 'b', label='v1')\n",
    "\n",
    "#axis square\n",
    "plt.axis('square')\n",
    "plt.axis((-6,6,-6,6))\n",
    "plt.grid()\n",
    "plt.legend()\n",
    "plt.show()"
   ]
  },
  {
   "cell_type": "markdown",
   "id": "d7eb2bd4",
   "metadata": {},
   "source": [
    "## Challenge"
   ]
  },
  {
   "cell_type": "code",
   "execution_count": null,
   "id": "2bf67b3f",
   "metadata": {},
   "outputs": [],
   "source": [
    "# create two random vectors\n",
    "n = 4\n",
    "v1 = np.round(20*np.random.randn(n))\n",
    "v2 = np.round(20*np.random.randn(n))\n",
    "print(f'Vector1: {v1}\\nVector 2:{v2}')\n",
    "\n",
    "#compute the lengths of the individuals vectors, and magnitude their dot product\n",
    "v1m = np.sqrt(np.dot(v1,v1))\n",
    "print(f'Length of Vector 1: {v1m}')\n",
    "v2m = np.sqrt(np.dot(v2,v2))\n",
    "print(f'Length of Vector 2: {v2m}')\n",
    "# dot product magnitude\n",
    "dpm = np.abs(np.dot(v1,v2))\n",
    "print(f'Dot Product Magnitude: {dpm}')\n",
    "print(' ') #Always larger than the length of the dot products alone\n",
    "#normalize the vectors\n",
    "v1u = v1/v1m\n",
    "v2u = v2/v2m\n",
    "print(f'v1u: {v1u}, v2u: { v2u}')\n",
    "print(' ')\n",
    "#compute the magnitude od that dot product\n",
    "dpm = np.abs(np.dot(v1u, v2u))\n",
    "print(f'Magnitude of dot product: {dpm:.3f}')"
   ]
  },
  {
   "cell_type": "markdown",
   "id": "6895d43a",
   "metadata": {},
   "source": [
    "## Dimensions"
   ]
  },
  {
   "cell_type": "markdown",
   "id": "2b1ec23d-ff29-4521-a41d-4fab81aab132",
   "metadata": {},
   "source": [
    "## Subspaces\n"
   ]
  },
  {
   "cell_type": "markdown",
   "id": "39acaeb8-7e97-40aa-b771-9bd4011bea06",
   "metadata": {},
   "source": [
    "$$\\text Linear \\,Combination$$\n",
    "### $$\\lambda v, \\lambda \\in R$$\n",
    "### $$\\lambda v + \\beta w$$\n",
    "### $$\\forall v, w \\in V; \\quad \\forall \\lambda, \\alpha \\in R; \\quad \\lambda v + \\alpha w \\in V$$\n"
   ]
  },
  {
   "cell_type": "markdown",
   "id": "097ec2dd-771c-418e-afc9-c93049926dfe",
   "metadata": {},
   "source": [
    "## Span"
   ]
  },
  {
   "cell_type": "code",
   "execution_count": 7,
   "id": "1831c986-4314-42de-85ba-6ec74b7768e9",
   "metadata": {},
   "outputs": [
    {
     "data": {
      "text/plain": [
       "<mpl_toolkits.mplot3d.art3d.Poly3DCollection at 0x2168f9fddf0>"
      ]
     },
     "execution_count": 7,
     "metadata": {},
     "output_type": "execute_result"
    },
    {
     "data": {
      "image/png": "[encoded data removed]",
      "text/plain": [
       "<Figure size 640x480 with 1 Axes>"
      ]
     },
     "metadata": {},
     "output_type": "display_data"
    }
   ],
   "source": [
    "#set S\n",
    "S1 = np.array([1 ,1, 0])\n",
    "S2 = np.array([1, 7, 0])\n",
    "\n",
    "#vectors v and w\n",
    "v = np.array([1, 2, 0])\n",
    "w = np.array([3, 2, 1])\n",
    "\n",
    "#draw vectors\n",
    "fig = plt.figure()\n",
    "ax = fig.add_subplot(111, projection='3d')\n",
    "ax.plot([0, S1[0]], [0, S1[1]], [0.1, S1[2]+0.1], 'r', linewidth=3)\n",
    "ax.plot([0, S2[0]], [0, S2[1]], [0.1, S2[2]+0.1], 'r', linewidth=3)\n",
    "\n",
    "ax.plot([0, v[0]], [0, v[1]], [0.1, v[2]+0.1], 'g', linewidth=3)\n",
    "ax.plot([0, w[0]], [0, w[1]], [0.1, w[2]], 'b', linewidth=3)\n",
    "\n",
    "#now draw plane\n",
    "xx, yy = np.meshgrid(range(-15, 16), range(-15,16))\n",
    "cp = np.cross(S1, S2)\n",
    "z1 = (-cp[0]*xx - cp[1]*yy)*1./cp[2]\n",
    "ax.plot_surface(xx,yy,z1)"
   ]
  },
  {
   "cell_type": "markdown",
   "id": "79b15203-4a07-4dd8-b834-01225a66c36b",
   "metadata": {},
   "source": [
    "## Linear dependence\n",
    "\n",
    "## $$0 = \\lambda_{1}v_{1} + \\lambda_{2}v_{2} + ...  \\lambda_{n}v_{n}, \\quad \\lambda \\in R $$\n",
    "\n",
    "#### A set of M vectors is independent iof each vector points ina geometric dimension not reachable using other vectors in the set. \n",
    "\n",
    "#### $$ \\text{Any set of M} > \\text{N vectors in } R^{N} \\text{ is dependent.} $$\n",
    "#### $$ \\text{Any set of M} \\leq \\text{N vectors in } R^{N} \\text{ could be independent.} $$\n",
    "\n",
    "## How to determine whether a set is independent\n",
    "\n",
    "* Step 1: Count vectors and compare with $R^N$\n",
    "* Step 2: Check for 0's in corresponding (or all) elements.\n",
    "* Step 3: Educated guess and test\n",
    "* Step 4: Matrix rank method (comes later)"
   ]
  },
  {
   "cell_type": "markdown",
   "id": "0d99eb38-c686-4a7f-b251-135e603964fc",
   "metadata": {},
   "source": [
    "## Basis\n"
   ]
  },
  {
   "cell_type": "code",
   "execution_count": null,
   "id": "7eec5909-3c66-4a6e-ab4c-65c834b2f7c4",
   "metadata": {},
   "outputs": [],
   "source": []
  }
 ],
 "metadata": {
  "kernelspec": {
   "display_name": "Python 3 (ipykernel)",
   "language": "python",
   "name": "python3"
  },
  "language_info": {
   "codemirror_mode": {
    "name": "ipython",
    "version": 3
   },
   "file_extension": ".py",
   "mimetype": "text/x-python",
   "name": "python",
   "nbconvert_exporter": "python",
   "pygments_lexer": "ipython3",
   "version": "3.9.21"
  }
 },
 "nbformat": 4,
 "nbformat_minor": 5
}
