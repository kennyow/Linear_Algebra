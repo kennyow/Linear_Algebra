{
 "cells": [
  {
   "cell_type": "markdown",
   "id": "9c70ff00-4fdb-49de-8fc6-99b139506f1b",
   "metadata": {},
   "source": [
    "# Matrix Determinant"
   ]
  },
  {
   "cell_type": "code",
   "execution_count": 129,
   "id": "6ceb855a-3228-4406-9768-913ce264862f",
   "metadata": {},
   "outputs": [],
   "source": [
    "import sympy as sp\n",
    "import numpy as np\n",
    "import matplotlib.pyplot as plt\n"
   ]
  },
  {
   "cell_type": "markdown",
   "id": "5c911f73-d2d2-4145-bc97-de7ee7a60b2b",
   "metadata": {},
   "source": [
    "$$\n",
    "det(A) \\  or \\ \n",
    "\\begin{vmatrix} \n",
    "a & b \\\\ \n",
    "c & d \n",
    "\\end{vmatrix}\n",
    "$$\n",
    "\n"
   ]
  },
  {
   "cell_type": "markdown",
   "id": "c09ba57e-fd13-47ac-9d83-b5e1766c5139",
   "metadata": {},
   "source": [
    "Only square matrices have a determinant!  \n",
    "Single number that reflects the entire matrix.  \n",
    "det(A) = 0 if lineartly dependent columns.   \n",
    "Matrix Inverse: divide by determinant(no inverse if determinant is zero!)\n"
   ]
  },
  {
   "cell_type": "markdown",
   "id": "3277733f-b706-452f-b8a1-c53d6d7a16fd",
   "metadata": {},
   "source": [
    "$$\\det(A) = \n",
    "\\begin{vmatrix} \n",
    "a_{11} & a_{12} & \\dots & a_{1n} \\\\ \n",
    "a_{21} & a_{22} & \\dots & a_{2n} \\\\ \n",
    "\\vdots & \\vdots & \\ddots & \\vdots \\\\ \n",
    "a_{n1} & a_{n2} & \\dots & a_{nn}\n",
    "\\end{vmatrix}\n",
    "$$\n"
   ]
  },
  {
   "cell_type": "markdown",
   "id": "7ad5102c-26d1-4d0d-9df9-a149c2551c88",
   "metadata": {},
   "source": [
    "### Determinant of a 2x2 matrix\n",
    "\n",
    "$$\n",
    "det(A) \\  = \\  \n",
    "\\begin{vmatrix} \n",
    "a & b \\\\ \n",
    "c & d \n",
    "\\end{vmatrix}\n",
    "\\ = \\ ad - bc\n",
    "$$"
   ]
  },
  {
   "cell_type": "markdown",
   "id": "453356eb-1804-4d2b-9a57-8a8d5f9d5687",
   "metadata": {},
   "source": [
    "### Determinant of matrix with linearly dependent columns\n",
    "\n",
    "$$\n",
    "det(A) \\  = \\  \n",
    "\\begin{vmatrix} \n",
    "a & \\lambda a \\\\ \n",
    "c & \\lambda c \n",
    "\\end{vmatrix}\n",
    "\\ = \\ a\\lambda c - \\lambda ac \n",
    "\\ = \\ 0\n",
    "$$"
   ]
  },
  {
   "cell_type": "markdown",
   "id": "2218b6c0-cbec-490f-a91e-bdccc2337faf",
   "metadata": {},
   "source": [
    "$$\n",
    "det(I) \\  = \\  \n",
    "\\begin{vmatrix} \n",
    "1 & 0 \\\\ \n",
    "0 & 1 \n",
    "\\end{vmatrix}\n",
    "\\ = 1 \n",
    "$$\n",
    "\n",
    "Determinant of Identity Matrix is always 1"
   ]
  },
  {
   "cell_type": "markdown",
   "id": "fd98a69a-66d7-44e8-9100-9587cd86f5da",
   "metadata": {},
   "source": [
    "## Challenge"
   ]
  },
  {
   "cell_type": "code",
   "execution_count": 59,
   "id": "2c0678f5-cfab-4eb3-b165-c137d0a86387",
   "metadata": {},
   "outputs": [
    {
     "name": "stdout",
     "output_type": "stream",
     "text": [
      "Matrix A: \n",
      " [[1 3]\n",
      " [1 3]]\n",
      "0.00\n",
      "Matrix B: \n",
      " [[14  3 13]\n",
      " [-1  1 -7]\n",
      " [ 4 -3 -6]]\n",
      "-493.00\n"
     ]
    }
   ],
   "source": [
    "# Singular matrix (recuded-rank matrix) has a determinant of 0\n",
    "\n",
    "# Generate a 2x2 matrix of integers, and with linear dependencies\n",
    "# A = 10 * np.random.randn(2, 2)\n",
    "# A_int = np.round(A).astype(int)\n",
    "# print(A_int)\n",
    "\n",
    "A = np.array([ [1, 3], [ 1, 3]])\n",
    "print(f'Matrix A: \\n {A}')\n",
    "\n",
    "# compute the determinant\n",
    "print(f'{np.linalg.det(A):.2f}')\n",
    "\n",
    "#generate mxm matrices\n",
    "#small m and for large m\n",
    "m = 3\n",
    "B = np.round(10*np.random.randn(m,m)).astype(int)\n",
    "print(f'Matrix B: \\n {B}')\n",
    "\n",
    "# compute the determinant\n",
    "print(f'{np.linalg.det(B):.2f}')\n",
    "\n",
    "\n",
    "#linear dependency\n",
    "B[:,0] = B[:,1]\n"
   ]
  },
  {
   "cell_type": "markdown",
   "id": "d66d45ec-6085-43a8-8549-a0a55a5d695a",
   "metadata": {},
   "source": [
    "### Determinant of a 3x3 matrix\n",
    "\n",
    "$$\n",
    "det(A) \\  = \\  \n",
    "\\begin{vmatrix} \n",
    "a & b & c\\\\ \n",
    "d & e & f\\\\\n",
    "g & h & i\n",
    "\\end{vmatrix}\n",
    "\\ = \\ aei + bfg  + cdh - ceg - bdi - afh \\\n",
    "$$"
   ]
  },
  {
   "cell_type": "markdown",
   "id": "1dd438dc-7672-4e65-bcc7-8f3499aa8620",
   "metadata": {},
   "source": [
    "### Determinant of 3x3 rank deficient matrix\n",
    "\n",
    "$$\n",
    "det(A) \\  = \\  \n",
    "\\begin{vmatrix} \n",
    "a & b & \\lambda a \\\\ \n",
    "d & e & \\lambda d \\\\ \n",
    "g & h & \\lambda g \n",
    "\\end{vmatrix}\n",
    "\\ = \\ \\lambda aeg + \\lambda bdg + \\lambda adh - \\lambda aeg - \\lambda bdgg - \\lambda adh \n",
    "\\ = \\ 0\n",
    "$$"
   ]
  },
  {
   "cell_type": "markdown",
   "id": "19724909-c266-4780-baab-d8430ba94b96",
   "metadata": {},
   "source": [
    "## Challenge"
   ]
  },
  {
   "cell_type": "code",
   "execution_count": 110,
   "id": "5fc31487-c060-4401-a232-6063b9228110",
   "metadata": {},
   "outputs": [
    {
     "name": "stdout",
     "output_type": "stream",
     "text": [
      "[[  5   0  13  -3  -1  -5]\n",
      " [-12  -2  -1  -4  -6  13]\n",
      " [-10   3   1  -7   6   2]\n",
      " [-13  21   3  -6   8  -1]\n",
      " [-14 -11   8   0  20   0]\n",
      " [-14   6  -5 -15 -11   5]]\n",
      "Before row swap: \n",
      " 5623936\n",
      "After 1 row swap: \n",
      " -5623936\n",
      "After 2 row swaps: \n",
      " -5623936\n"
     ]
    }
   ],
   "source": [
    "#Generate a 6x6 matrix\n",
    "A = 10 * np.random.randn(6, 6)  # Garante que A tem dtype float64\n",
    "A = np.round(A).astype(int)  # Arredonda e converte para inteiro\n",
    "print(A)\n",
    "#compute the determinant\n",
    "print(f'Before row swap: \\n {int(np.linalg.det(A))}')\n",
    "\n",
    "# swap one row, det again\n",
    "As = A[[1,0,2,3,4,5], :]\n",
    "print(f'After 1 row swap: \\n {int(np.linalg.det(As))}')\n",
    "\n",
    "# swap 2 rows, det again\n",
    "Ass = A[[1,0,2,3,4,5], :]\n",
    "print(f'After 2 row swaps: \\n {int(np.linalg.det(Ass))}')"
   ]
  },
  {
   "cell_type": "code",
   "execution_count": 115,
   "id": "2032010b-97ff-4250-a1a2-1aecb1ed1439",
   "metadata": {},
   "outputs": [
    {
     "name": "stdout",
     "output_type": "stream",
     "text": [
      "Matriz A:\n",
      "[[ -6  -6   6  -9 -13  -2]\n",
      " [ 11   8  15  -8 -16  10]\n",
      " [ -9 -10 -11   2   1  -8]\n",
      " [-16   1   7 -23   1  13]\n",
      " [-14   0 -21  12 -27  14]\n",
      " [  9  -1  18  13   1  -6]]\n",
      "Before row swap: -11440432\n",
      "After 1 row swap: 11440432\n",
      "After 2 row swaps: -11440432\n"
     ]
    }
   ],
   "source": [
    "\n",
    "# Gerar matriz 6x6 com inteiros arredondados\n",
    "A = 10 * np.random.randn(6, 6)\n",
    "A = np.round(A).astype(int)  \n",
    "print(\"Matriz A:\")\n",
    "print(A)\n",
    "\n",
    "# Determinante antes da troca\n",
    "det_A = int(np.linalg.det(A))\n",
    "print(f'Before row swap: {det_A}')\n",
    "\n",
    "# Swap entre as linhas 0 e 1\n",
    "As = A.copy()\n",
    "As[[0, 1]] = As[[1, 0]]  # Troca entre as linhas 0 e 1\n",
    "det_As = int(np.linalg.det(As))\n",
    "print(f'After 1 row swap: {det_As}')\n",
    "\n",
    "# Segunda troca para inverter o sinal novamente (exemplo: troca entre as linhas 2 e 3)\n",
    "Ass = As.copy()\n",
    "Ass[[2, 3]] = Ass[[3, 2]]  # Troca entre as linhas 2 e 3\n",
    "det_Ass = int(np.linalg.det(Ass))\n",
    "print(f'After 2 row swaps: {det_Ass}')\n"
   ]
  },
  {
   "cell_type": "markdown",
   "id": "c4881046-e47b-4bf2-a74a-12a1ac029eea",
   "metadata": {},
   "source": [
    "## Challenge"
   ]
  },
  {
   "cell_type": "code",
   "execution_count": 131,
   "id": "0be877de-f4b1-4183-850b-26e48d7a235f",
   "metadata": {},
   "outputs": [
    {
     "name": "stdout",
     "output_type": "stream",
     "text": [
      "[0.         0.00344828 0.00689655 0.01034483 0.0137931  0.01724138\n",
      " 0.02068966 0.02413793 0.02758621 0.03103448 0.03448276 0.03793103\n",
      " 0.04137931 0.04482759 0.04827586 0.05172414 0.05517241 0.05862069\n",
      " 0.06206897 0.06551724 0.06896552 0.07241379 0.07586207 0.07931034\n",
      " 0.08275862 0.0862069  0.08965517 0.09310345 0.09655172 0.1       ]\n",
      " \n",
      "[0. 0. 0. 0. 0. 0. 0. 0. 0. 0. 0. 0. 0. 0. 0. 0. 0. 0. 0. 0. 0. 0. 0. 0.\n",
      " 0. 0. 0. 0. 0. 0. 0. 0. 0. 0. 0. 0. 0. 0. 0. 0. 0. 0. 0. 0. 0. 0. 0. 0.\n",
      " 0. 0. 0. 0. 0. 0. 0. 0. 0. 0. 0. 0. 0. 0. 0. 0. 0. 0. 0. 0. 0. 0. 0. 0.\n",
      " 0. 0. 0. 0. 0. 0. 0. 0. 0. 0. 0. 0. 0. 0. 0. 0. 0. 0. 0. 0. 0. 0. 0. 0.\n",
      " 0. 0. 0. 0. 0. 0. 0. 0. 0. 0. 0. 0. 0. 0. 0. 0. 0. 0. 0. 0. 0. 0. 0. 0.\n",
      " 0. 0. 0. 0. 0. 0. 0. 0. 0. 0. 0. 0. 0. 0. 0. 0. 0. 0. 0. 0. 0. 0. 0. 0.\n",
      " 0. 0. 0. 0. 0. 0. 0. 0. 0. 0. 0. 0. 0. 0. 0. 0. 0. 0. 0. 0. 0. 0. 0. 0.\n",
      " 0. 0. 0. 0. 0. 0. 0. 0. 0. 0. 0. 0. 0. 0. 0. 0. 0. 0. 0. 0. 0. 0. 0. 0.\n",
      " 0. 0. 0. 0. 0. 0. 0. 0. 0. 0. 0. 0. 0. 0. 0. 0. 0. 0. 0. 0. 0. 0. 0. 0.\n",
      " 0. 0. 0. 0. 0. 0. 0. 0. 0. 0. 0. 0. 0. 0. 0. 0. 0. 0. 0. 0. 0. 0. 0. 0.\n",
      " 0. 0. 0. 0. 0. 0. 0. 0. 0. 0. 0. 0. 0. 0. 0. 0. 0. 0. 0. 0. 0. 0. 0. 0.\n",
      " 0. 0. 0. 0. 0. 0. 0. 0. 0. 0. 0. 0. 0. 0. 0. 0. 0. 0. 0. 0. 0. 0. 0. 0.\n",
      " 0. 0. 0. 0. 0. 0. 0. 0. 0. 0. 0. 0. 0. 0. 0. 0. 0. 0. 0. 0. 0. 0. 0. 0.\n",
      " 0. 0. 0. 0. 0. 0. 0. 0. 0. 0. 0. 0. 0. 0. 0. 0. 0. 0. 0. 0. 0. 0. 0. 0.\n",
      " 0. 0. 0. 0. 0. 0. 0. 0. 0. 0. 0. 0. 0. 0. 0. 0. 0. 0. 0. 0. 0. 0. 0. 0.\n",
      " 0. 0. 0. 0. 0. 0. 0. 0. 0. 0. 0. 0. 0. 0. 0. 0. 0. 0. 0. 0. 0. 0. 0. 0.\n",
      " 0. 0. 0. 0. 0. 0. 0. 0. 0. 0. 0. 0. 0. 0. 0. 0. 0. 0. 0. 0. 0. 0. 0. 0.\n",
      " 0. 0. 0. 0. 0. 0. 0. 0. 0. 0. 0. 0. 0. 0. 0. 0. 0. 0. 0. 0. 0. 0. 0. 0.\n",
      " 0. 0. 0. 0. 0. 0. 0. 0. 0. 0. 0. 0. 0. 0. 0. 0. 0. 0. 0. 0. 0. 0. 0. 0.\n",
      " 0. 0. 0. 0. 0. 0. 0. 0. 0. 0. 0. 0. 0. 0. 0. 0. 0. 0. 0. 0. 0. 0. 0. 0.\n",
      " 0. 0. 0. 0. 0. 0. 0. 0. 0. 0. 0. 0. 0. 0. 0. 0. 0. 0. 0. 0. 0. 0. 0. 0.\n",
      " 0. 0. 0. 0. 0. 0. 0. 0. 0. 0. 0. 0. 0. 0. 0. 0. 0. 0. 0. 0. 0. 0. 0. 0.\n",
      " 0. 0. 0. 0. 0. 0. 0. 0. 0. 0. 0. 0. 0. 0. 0. 0. 0. 0. 0. 0. 0. 0. 0. 0.\n",
      " 0. 0. 0. 0. 0. 0. 0. 0. 0. 0. 0. 0. 0. 0. 0. 0. 0. 0. 0. 0. 0. 0. 0. 0.\n",
      " 0. 0. 0. 0. 0. 0. 0. 0. 0. 0. 0. 0. 0. 0. 0. 0. 0. 0. 0. 0. 0. 0. 0. 0.\n",
      " 0. 0. 0. 0. 0. 0. 0. 0. 0. 0. 0. 0. 0. 0. 0. 0. 0. 0. 0. 0. 0. 0. 0. 0.\n",
      " 0. 0. 0. 0. 0. 0. 0. 0. 0. 0. 0. 0. 0. 0. 0. 0. 0. 0. 0. 0. 0. 0. 0. 0.\n",
      " 0. 0. 0. 0. 0. 0. 0. 0. 0. 0. 0. 0. 0. 0. 0. 0. 0. 0. 0. 0. 0. 0. 0. 0.\n",
      " 0. 0. 0. 0. 0. 0. 0. 0. 0. 0. 0. 0. 0. 0. 0. 0. 0. 0. 0. 0. 0. 0. 0. 0.\n",
      " 0. 0. 0. 0. 0. 0. 0. 0. 0. 0. 0. 0. 0. 0. 0. 0. 0. 0. 0. 0. 0. 0. 0. 0.\n",
      " 0. 0. 0. 0. 0. 0. 0. 0. 0. 0. 0. 0. 0. 0. 0. 0. 0. 0. 0. 0. 0. 0. 0. 0.\n",
      " 0. 0. 0. 0. 0. 0. 0. 0. 0. 0. 0. 0. 0. 0. 0. 0. 0. 0. 0. 0. 0. 0. 0. 0.\n",
      " 0. 0. 0. 0. 0. 0. 0. 0. 0. 0. 0. 0. 0. 0. 0. 0. 0. 0. 0. 0. 0. 0. 0. 0.\n",
      " 0. 0. 0. 0. 0. 0. 0. 0. 0. 0. 0. 0. 0. 0. 0. 0. 0. 0. 0. 0. 0. 0. 0. 0.\n",
      " 0. 0. 0. 0. 0. 0. 0. 0. 0. 0. 0. 0. 0. 0. 0. 0. 0. 0. 0. 0. 0. 0. 0. 0.\n",
      " 0. 0. 0. 0. 0. 0. 0. 0. 0. 0. 0. 0. 0. 0. 0. 0. 0. 0. 0. 0. 0. 0. 0. 0.\n",
      " 0. 0. 0. 0. 0. 0. 0. 0. 0. 0. 0. 0. 0. 0. 0. 0. 0. 0. 0. 0. 0. 0. 0. 0.\n",
      " 0. 0. 0. 0. 0. 0. 0. 0. 0. 0. 0. 0. 0. 0. 0. 0. 0. 0. 0. 0. 0. 0. 0. 0.\n",
      " 0. 0. 0. 0. 0. 0. 0. 0. 0. 0. 0. 0. 0. 0. 0. 0. 0. 0. 0. 0. 0. 0. 0. 0.\n",
      " 0. 0. 0. 0. 0. 0. 0. 0. 0. 0. 0. 0. 0. 0. 0. 0. 0. 0. 0. 0. 0. 0. 0. 0.\n",
      " 0. 0. 0. 0. 0. 0. 0. 0. 0. 0. 0. 0. 0. 0. 0. 0. 0. 0. 0. 0. 0. 0. 0. 0.\n",
      " 0. 0. 0. 0. 0. 0. 0. 0. 0. 0. 0. 0. 0. 0. 0. 0.]\n",
      " \n",
      "[0. 0. 0. 0. 0. 0. 0. 0. 0. 0. 0. 0. 0. 0. 0. 0. 0. 0. 0. 0. 0. 0. 0. 0.\n",
      " 0. 0. 0. 0. 0. 0.]\n",
      " \n"
     ]
    },
    {
     "data": {
      "image/png": "[encoded data removed]",
      "text/plain": [
       "<Figure size 640x480 with 1 Axes>"
      ]
     },
     "metadata": {},
     "output_type": "display_data"
    }
   ],
   "source": [
    "#generate  a square rando matrix(20x20)\n",
    "\n",
    "#impose a linear dependence\n",
    "\n",
    "#shift the matrix (0-> .1 times the identity matrix)\n",
    "\n",
    "#compute the abs(determinant) of the shifted matrix\n",
    "\n",
    "# repeat 1000 times, take the average abs(det)\n",
    "\n",
    "# plot of det as a functiuon of lambda\n",
    "\n",
    "lambdas = np.linspace(0, .1,30)\n",
    "print(lambdas),print(' ')\n",
    "\n",
    "#initialize\n",
    "tmp = np.zeros(1000)\n",
    "print(tmp),print(' ')\n",
    "dets = np.zeros(len(lambdas))\n",
    "print(dets),print(' ')\n",
    "\n",
    "for deti in range(len(lambdas)):\n",
    "\n",
    "    #run 1000 iterations\n",
    "    for i in range(1000):\n",
    "\n",
    "        #generate a matrix:\n",
    "        M = np.random.randn(20,20)\n",
    "        M[:,0] = M[:,1]\n",
    "\n",
    "        #compute the determinant\n",
    "        tmp[i] = abs(np.linalg.det(M+lambdas[deti]*np.eye(20)))\n",
    "\n",
    "    #compute average determinant\n",
    "    dets[deti] = np.mean(tmp)\n",
    "\n",
    "plt.plot(lambdas, dets, 's-')\n",
    "plt.xlabel('Fraction of identity for shifting')\n",
    "plt.ylabel('Determinant')\n",
    "plt.show()\n"
   ]
  },
  {
   "cell_type": "markdown",
   "id": "393f41fb-27bd-4313-983c-239ca088f795",
   "metadata": {},
   "source": [
    "# Challenge"
   ]
  },
  {
   "cell_type": "code",
   "execution_count": 134,
   "id": "de41ede5-ad47-4e6d-9f70-ef7376c717bd",
   "metadata": {},
   "outputs": [
    {
     "name": "stdout",
     "output_type": "stream",
     "text": [
      "-0.8683510510964902 0.8510678656088866 -0.7390256756559231 -0.7390256756559233\n"
     ]
    }
   ],
   "source": [
    "#illustrate that det(AB) = det(A) * det(B)\n",
    "# 1 For a random 3x3 matrix\n",
    "# 2 in a loop over rando matrix sizes up to 40x40\n",
    "\n",
    "A = np.random.randn(3,3)\n",
    "B = np.random.randn(3,3)\n",
    "AB = A@B\n",
    "\n",
    "print(np.linalg.det(A), np.linalg.det(B), np.linalg.det(A)*np.linalg.det(B), np.linalg.det(AB))"
   ]
  },
  {
   "cell_type": "code",
   "execution_count": 140,
   "id": "ad659257-9e12-4029-8505-9c4596530d31",
   "metadata": {},
   "outputs": [
    {
     "ename": "IndexError",
     "evalue": "index 10 is out of bounds for axis 0 with size 10",
     "output_type": "error",
     "traceback": [
      "\u001b[1;31m---------------------------------------------------------------------------\u001b[0m",
      "\u001b[1;31mIndexError\u001b[0m                                Traceback (most recent call last)",
      "Cell \u001b[1;32mIn[140], line 6\u001b[0m\n\u001b[0;32m      3\u001b[0m     B \u001b[38;5;241m=\u001b[39m np\u001b[38;5;241m.\u001b[39mrandom\u001b[38;5;241m.\u001b[39mrandn(k,k)\n\u001b[0;32m      4\u001b[0m     AB \u001b[38;5;241m=\u001b[39m A\u001b[38;5;129m@B\u001b[39m\n\u001b[1;32m----> 6\u001b[0m     \u001b[43mdets\u001b[49m\u001b[43m[\u001b[49m\u001b[43mk\u001b[49m\u001b[43m,\u001b[49m\u001b[38;5;241;43m0\u001b[39;49m\u001b[43m]\u001b[49m \u001b[38;5;241m=\u001b[39m np\u001b[38;5;241m.\u001b[39mlinalg\u001b[38;5;241m.\u001b[39mdet(A)\u001b[38;5;241m*\u001b[39mnp\u001b[38;5;241m.\u001b[39mlinalg\u001b[38;5;241m.\u001b[39mdet(B)\n\u001b[0;32m      7\u001b[0m     dets[k,\u001b[38;5;241m1\u001b[39m] \u001b[38;5;241m=\u001b[39m np\u001b[38;5;241m.\u001b[39mlinalg\u001b[38;5;241m.\u001b[39mdet(AB)\n\u001b[0;32m      9\u001b[0m plt\u001b[38;5;241m.\u001b[39mplot(dets[:,\u001b[38;5;241m0\u001b[39m]\u001b[38;5;241m-\u001b[39mdets[:,\u001b[38;5;241m1\u001b[39m],  \u001b[38;5;124m'\u001b[39m\u001b[38;5;124ms-\u001b[39m\u001b[38;5;124m'\u001b[39m)\n",
      "\u001b[1;31mIndexError\u001b[0m: index 10 is out of bounds for axis 0 with size 10"
     ]
    }
   ],
   "source": [
    "for k in range(40):\n",
    "    A = np.random.randn(k,k)\n",
    "    B = np.random.randn(k,k)\n",
    "    AB = A@B\n",
    "\n",
    "    dets[k,0] = np.linalg.det(A)*np.linalg.det(B)\n",
    "    dets[k,1] = np.linalg.det(AB)\n",
    "\n",
    "plt.plot(dets[:,0]-dets[:,1],  's-')\n",
    "plt.ylim([-1,1])\n",
    "plt.show()"
   ]
  },
  {
   "cell_type": "code",
   "execution_count": null,
   "id": "6c3cad87-99d6-467f-b19a-3b1f04fac6be",
   "metadata": {},
   "outputs": [],
   "source": []
  }
 ],
 "metadata": {
  "kernelspec": {
   "display_name": "Python 3 (ipykernel)",
   "language": "python",
   "name": "python3"
  },
  "language_info": {
   "codemirror_mode": {
    "name": "ipython",
    "version": 3
   },
   "file_extension": ".py",
   "mimetype": "text/x-python",
   "name": "python",
   "nbconvert_exporter": "python",
   "pygments_lexer": "ipython3",
   "version": "3.12.7"
  }
 },
 "nbformat": 4,
 "nbformat_minor": 5
}
