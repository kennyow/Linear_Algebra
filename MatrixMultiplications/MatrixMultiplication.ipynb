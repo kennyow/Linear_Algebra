{
 "cells": [
  {
   "cell_type": "markdown",
   "id": "796c18df-bb2b-47e5-9231-a2ebd031bd8a",
   "metadata": {},
   "source": [
    "# Matrix Multiplication"
   ]
  },
  {
   "cell_type": "code",
   "execution_count": 2,
   "id": "3bdcf9bc-9911-41f8-9ebc-72aa77904c1c",
   "metadata": {},
   "outputs": [],
   "source": [
    "import numpy as np\n",
    "import matplotlib.pyplot as plt"
   ]
  },
  {
   "cell_type": "code",
   "execution_count": 8,
   "id": "2109b148-0cc9-4756-93e3-1e865882c53c",
   "metadata": {},
   "outputs": [
    {
     "data": {
      "text/plain": [
       "array([[ 1.0542921 , -0.25421699,  0.26050259, -1.14155278,  0.44726667,\n",
       "         1.61129737],\n",
       "       [-0.25421699,  1.74995029, -1.03756223, -0.41156276,  1.96793415,\n",
       "        -1.02238573],\n",
       "       [ 0.26050259, -1.03756223,  0.64113198,  0.33585872, -1.12521587,\n",
       "         0.71256264],\n",
       "       [-1.14155278, -0.41156276,  0.33585872,  4.99228764, -1.91756046,\n",
       "        -2.29467342],\n",
       "       [ 0.44726667,  1.96793415, -1.12521587, -1.91756046,  2.84118609,\n",
       "         0.04123959],\n",
       "       [ 1.61129737, -1.02238573,  0.71256264, -2.29467342,  0.04123959,\n",
       "         2.8881983 ]])"
      ]
     },
     "execution_count": 8,
     "metadata": {},
     "output_type": "execute_result"
    }
   ],
   "source": [
    "## Rules for multiplication validity\n",
    "\n",
    "m = 4\n",
    "n = 3\n",
    "k = 6\n",
    "\n",
    "#make some matrices\n",
    "A = np.random.randn(m,n)\n",
    "B = np.random.randn(n,k)\n",
    "C = np.random.randn(m,k)\n",
    "\n",
    "#test whitch multiplications are valid.\n",
    "#think of your answer first, then test\n",
    "\n",
    "np.matmul(A,B) #(4,3)x(3x6) = (4x6)\n",
    "#np.matmul(A,A) #don't\n",
    "np.matmul(A.T, C) #(3x4)x(4x6) = (3x6)\n",
    "np.matmul(np.matrix.transpose(B),B) #(6x3)x(3x6) = (6x6)"
   ]
  },
  {
   "cell_type": "markdown",
   "id": "c1ceca9b-7bae-4e9e-a6d6-cfc6fe38c670",
   "metadata": {},
   "source": [
    "## Challenge"
   ]
  },
  {
   "cell_type": "code",
   "execution_count": 24,
   "id": "c416d994-eb30-4103-a2b1-bd8f4e432d4a",
   "metadata": {},
   "outputs": [
    {
     "name": "stdout",
     "output_type": "stream",
     "text": [
      "[[ 0.03455602 -2.18333597 -1.17172298 -0.21443794]\n",
      " [-0.36450753  0.1483093  -0.10953727  0.12297168]\n",
      " [-0.03568563  0.00508205  0.79425716 -0.35479318]\n",
      " [ 4.97241187  1.21059511  0.37863002 -0.07526871]]\n",
      "\n",
      "As matrizes C1 e C2 são iguais dentro de uma margem numérica.\n",
      "Elementos iguais em posição (0, 0): 0.03455601841881217\n",
      "Elementos iguais em posição (0, 1): -2.183335967084571\n",
      "Elementos iguais em posição (0, 2): -1.1717229819173132\n",
      "Elementos iguais em posição (0, 3): -0.21443794281894873\n",
      "Elementos iguais em posição (1, 0): -0.36450752953679305\n",
      "Elementos iguais em posição (1, 1): 0.1483092954853294\n",
      "Elementos iguais em posição (1, 2): -0.10953726548546439\n",
      "Elementos iguais em posição (1, 3): 0.12297167554792345\n",
      "Elementos iguais em posição (2, 0): -0.03568562788648241\n",
      "Elementos iguais em posição (2, 1): 0.005082047586446203\n",
      "Elementos iguais em posição (2, 2): 0.7942571595183601\n",
      "Elementos iguais em posição (2, 3): -0.35479318445065927\n",
      "Elementos iguais em posição (3, 0): 4.97241186747486\n",
      "Elementos iguais em posição (3, 1): 1.2105951111721454\n",
      "Elementos iguais em posição (3, 2): 0.37863001714241296\n",
      "Elementos iguais em posição (3, 3): -0.0752687074761021\n"
     ]
    }
   ],
   "source": [
    "# implement matrix multiplication via layers\n",
    "m = 4\n",
    "n = 3\n",
    "\n",
    "#generate 2 matrices (A,B)\n",
    "A = np.random.randn(m,n)\n",
    "B = np.random.randn(n,m)\n",
    "#build the product matrix layer-wise (for-loop)\n",
    "C1 = np.zeros((m,m))\n",
    "              \n",
    "for i in range(n):\n",
    "    C1 += np.outer(A[:,i], B[i,:])\n",
    "\n",
    "print(C1)\n",
    "#implement the matrix multiplication directly\n",
    "C2 = np.matmul(A,B)\n",
    "\n",
    "#compare the results\n",
    "\n",
    "if np.allclose(C1, C2):\n",
    "    print(\"\\nAs matrizes C1 e C2 são iguais dentro de uma margem numérica.\")\n",
    "else:\n",
    "    print(\"\\nAs matrizes C1 e C2 são diferentes.\")\n",
    "    print(\"Diferença:\")\n",
    "    print(C1 - C2)\n",
    "\n",
    "for i in range(C1.shape[0]):  # Itera sobre as linhas\n",
    "    for j in range(C1.shape[1]):  # Itera sobre as colunas\n",
    "        if C1[i, j] == C2[i, j]:\n",
    "            print(f\"Elementos iguais em posição ({i}, {j}): {C1[i, j]}\")\n",
    "        else:\n",
    "            print(f\"Elementos diferentes em posição ({i}, {j}): C1={C1[i, j]}, C2={C2[i, j]}\")\n",
    "    \n",
    "#print(direct)\n"
   ]
  },
  {
   "cell_type": "markdown",
   "id": "c2970477-7cc9-4f1e-90e0-1ed2364a6eca",
   "metadata": {},
   "source": [
    "## Order Operation"
   ]
  },
  {
   "cell_type": "markdown",
   "id": "a8a35700-e82f-4814-93a1-75380319ea0a",
   "metadata": {},
   "source": [
    "$$ (LIVE)^T = E^TV^TI^TL^T$$"
   ]
  },
  {
   "cell_type": "code",
   "execution_count": 32,
   "id": "5cd9bca4-5a79-4ce5-bf63-235cb8a2256f",
   "metadata": {},
   "outputs": [
    {
     "name": "stdout",
     "output_type": "stream",
     "text": [
      "[[ 6.65710732  7.85574662]\n",
      " [-2.5035678  -2.77318793]]\n",
      " \n",
      "[[ 6.65710732  7.85574662]\n",
      " [-2.5035678  -2.77318793]]\n"
     ]
    },
    {
     "data": {
      "text/plain": [
       "array([[8.8817842e-16, 8.8817842e-16],\n",
       "       [4.4408921e-16, 4.4408921e-16]])"
      ]
     },
     "execution_count": 32,
     "metadata": {},
     "output_type": "execute_result"
    }
   ],
   "source": [
    "n = 2\n",
    "L = np.random.randn(n,n)\n",
    "I = np.random.randn(n,n)\n",
    "V = np.random.randn(n,n)\n",
    "E = np.random.randn(n,n)\n",
    "\n",
    "#result of forward multiplication and then transpose\n",
    "res1 = np.matrix.transpose( L @ I @ V @ E )\n",
    "print(res1)\n",
    "print(\" \")\n",
    "#result of flipped multiplication of transposed matrices\n",
    "res2 = E.T @ V.T @ I.T @ L.T\n",
    "print(res2) \n",
    "\n",
    "#test equality by subtracting (ignore possible computer rounding errors)\n",
    "res1-res2"
   ]
  },
  {
   "cell_type": "markdown",
   "id": "79a0d9e6-3c7e-4021-a4fa-3f658fcaf2f4",
   "metadata": {},
   "source": [
    "## Matrix Vector Multiplication"
   ]
  },
  {
   "cell_type": "code",
   "execution_count": 44,
   "id": "5b0f9194-a387-4dfd-8d1e-521169059339",
   "metadata": {},
   "outputs": [
    {
     "name": "stdout",
     "output_type": "stream",
     "text": [
      "[[ 7 -2 -9  6]\n",
      " [ 2  2  3 10]\n",
      " [-9  6 -1  8]\n",
      " [-2 10  8  4]]\n",
      " \n",
      "[[ 3. -0.  5. -1.]\n",
      " [-0.  0.  1.  6.]\n",
      " [ 5.  1.  0.  4.]\n",
      " [-1.  6.  4.  1.]]\n",
      " \n",
      "[-1  0  1  2]\n",
      " \n",
      "1-[ 0. 13.  3.  7.]\n",
      " \n",
      "2-[ 0. 13.  3.  7.]\n",
      " \n",
      "3-[ 0. 13.  3.  7.]\n",
      " \n",
      "4-[ 0. 13.  3.  7.]\n",
      " \n",
      "5-[ 0. 13.  3.  7.]\n",
      " \n"
     ]
    }
   ],
   "source": [
    "m = 4\n",
    "\n",
    "#create matrices\n",
    "N = np.random.randint(-10,11,(m,m))\n",
    "print(N)\n",
    "print(\" \")\n",
    "S = np.round(N.T*N /m**2) #scaled symmetric\n",
    "print(S)\n",
    "print(\" \")\n",
    "\n",
    "#and vector\n",
    "w = np.array([-1, 0, 1, 2])\n",
    "print(w)\n",
    "print(\" \")\n",
    "\n",
    "#with symmetric matrix\n",
    "print(f\"1-{S@w}\")\n",
    "print(\" \")\n",
    "print(f\"2-{S.T@w}\")\n",
    "print(\" \")\n",
    "print(f\"3-{w@S}\")\n",
    "print(\" \")\n",
    "print(f\"4-{w.T@S.T}\")\n",
    "print(\" \")\n",
    "print(f\"5-{w.T@S}\")\n",
    "print(\" \")"
   ]
  },
  {
   "cell_type": "code",
   "execution_count": null,
   "id": "16df2dde-c461-4ba4-9430-ed6678cfc69e",
   "metadata": {},
   "outputs": [],
   "source": []
  }
 ],
 "metadata": {
  "kernelspec": {
   "display_name": "Python 3 (ipykernel)",
   "language": "python",
   "name": "python3"
  },
  "language_info": {
   "codemirror_mode": {
    "name": "ipython",
    "version": 3
   },
   "file_extension": ".py",
   "mimetype": "text/x-python",
   "name": "python",
   "nbconvert_exporter": "python",
   "pygments_lexer": "ipython3",
   "version": "3.9.21"
  }
 },
 "nbformat": 4,
 "nbformat_minor": 5
}
