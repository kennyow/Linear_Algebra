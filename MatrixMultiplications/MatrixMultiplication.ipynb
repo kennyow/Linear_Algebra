{
 "cells": [
  {
   "cell_type": "markdown",
   "id": "796c18df-bb2b-47e5-9231-a2ebd031bd8a",
   "metadata": {},
   "source": [
    "# Matrix Multiplication"
   ]
  },
  {
   "cell_type": "code",
   "execution_count": 54,
   "id": "3bdcf9bc-9911-41f8-9ebc-72aa77904c1c",
   "metadata": {},
   "outputs": [],
   "source": [
    "import numpy as np\n",
    "import matplotlib.pyplot as plt\n",
    "import math"
   ]
  },
  {
   "cell_type": "code",
   "execution_count": 8,
   "id": "2109b148-0cc9-4756-93e3-1e865882c53c",
   "metadata": {},
   "outputs": [
    {
     "data": {
      "text/plain": [
       "array([[ 1.0542921 , -0.25421699,  0.26050259, -1.14155278,  0.44726667,\n",
       "         1.61129737],\n",
       "       [-0.25421699,  1.74995029, -1.03756223, -0.41156276,  1.96793415,\n",
       "        -1.02238573],\n",
       "       [ 0.26050259, -1.03756223,  0.64113198,  0.33585872, -1.12521587,\n",
       "         0.71256264],\n",
       "       [-1.14155278, -0.41156276,  0.33585872,  4.99228764, -1.91756046,\n",
       "        -2.29467342],\n",
       "       [ 0.44726667,  1.96793415, -1.12521587, -1.91756046,  2.84118609,\n",
       "         0.04123959],\n",
       "       [ 1.61129737, -1.02238573,  0.71256264, -2.29467342,  0.04123959,\n",
       "         2.8881983 ]])"
      ]
     },
     "execution_count": 8,
     "metadata": {},
     "output_type": "execute_result"
    }
   ],
   "source": [
    "## Rules for multiplication validity\n",
    "\n",
    "m = 4\n",
    "n = 3\n",
    "k = 6\n",
    "\n",
    "#make some matrices\n",
    "A = np.random.randn(m,n)\n",
    "B = np.random.randn(n,k)\n",
    "C = np.random.randn(m,k)\n",
    "\n",
    "#test whitch multiplications are valid.\n",
    "#think of your answer first, then test\n",
    "\n",
    "np.matmul(A,B) #(4,3)x(3x6) = (4x6)\n",
    "#np.matmul(A,A) #don't\n",
    "np.matmul(A.T, C) #(3x4)x(4x6) = (3x6)\n",
    "np.matmul(np.matrix.transpose(B),B) #(6x3)x(3x6) = (6x6)"
   ]
  },
  {
   "cell_type": "markdown",
   "id": "c1ceca9b-7bae-4e9e-a6d6-cfc6fe38c670",
   "metadata": {},
   "source": [
    "## Challenge"
   ]
  },
  {
   "cell_type": "code",
   "execution_count": 24,
   "id": "c416d994-eb30-4103-a2b1-bd8f4e432d4a",
   "metadata": {},
   "outputs": [
    {
     "name": "stdout",
     "output_type": "stream",
     "text": [
      "[[ 0.03455602 -2.18333597 -1.17172298 -0.21443794]\n",
      " [-0.36450753  0.1483093  -0.10953727  0.12297168]\n",
      " [-0.03568563  0.00508205  0.79425716 -0.35479318]\n",
      " [ 4.97241187  1.21059511  0.37863002 -0.07526871]]\n",
      "\n",
      "As matrizes C1 e C2 são iguais dentro de uma margem numérica.\n",
      "Elementos iguais em posição (0, 0): 0.03455601841881217\n",
      "Elementos iguais em posição (0, 1): -2.183335967084571\n",
      "Elementos iguais em posição (0, 2): -1.1717229819173132\n",
      "Elementos iguais em posição (0, 3): -0.21443794281894873\n",
      "Elementos iguais em posição (1, 0): -0.36450752953679305\n",
      "Elementos iguais em posição (1, 1): 0.1483092954853294\n",
      "Elementos iguais em posição (1, 2): -0.10953726548546439\n",
      "Elementos iguais em posição (1, 3): 0.12297167554792345\n",
      "Elementos iguais em posição (2, 0): -0.03568562788648241\n",
      "Elementos iguais em posição (2, 1): 0.005082047586446203\n",
      "Elementos iguais em posição (2, 2): 0.7942571595183601\n",
      "Elementos iguais em posição (2, 3): -0.35479318445065927\n",
      "Elementos iguais em posição (3, 0): 4.97241186747486\n",
      "Elementos iguais em posição (3, 1): 1.2105951111721454\n",
      "Elementos iguais em posição (3, 2): 0.37863001714241296\n",
      "Elementos iguais em posição (3, 3): -0.0752687074761021\n"
     ]
    }
   ],
   "source": [
    "# implement matrix multiplication via layers\n",
    "m = 4\n",
    "n = 3\n",
    "\n",
    "#generate 2 matrices (A,B)\n",
    "A = np.random.randn(m,n)\n",
    "B = np.random.randn(n,m)\n",
    "#build the product matrix layer-wise (for-loop)\n",
    "C1 = np.zeros((m,m))\n",
    "              \n",
    "for i in range(n):\n",
    "    C1 += np.outer(A[:,i], B[i,:])\n",
    "\n",
    "print(C1)\n",
    "#implement the matrix multiplication directly\n",
    "C2 = np.matmul(A,B)\n",
    "\n",
    "#compare the results\n",
    "\n",
    "if np.allclose(C1, C2):\n",
    "    print(\"\\nAs matrizes C1 e C2 são iguais dentro de uma margem numérica.\")\n",
    "else:\n",
    "    print(\"\\nAs matrizes C1 e C2 são diferentes.\")\n",
    "    print(\"Diferença:\")\n",
    "    print(C1 - C2)\n",
    "\n",
    "for i in range(C1.shape[0]):  # Itera sobre as linhas\n",
    "    for j in range(C1.shape[1]):  # Itera sobre as colunas\n",
    "        if C1[i, j] == C2[i, j]:\n",
    "            print(f\"Elementos iguais em posição ({i}, {j}): {C1[i, j]}\")\n",
    "        else:\n",
    "            print(f\"Elementos diferentes em posição ({i}, {j}): C1={C1[i, j]}, C2={C2[i, j]}\")\n",
    "    \n",
    "#print(direct)\n"
   ]
  },
  {
   "cell_type": "markdown",
   "id": "c2970477-7cc9-4f1e-90e0-1ed2364a6eca",
   "metadata": {},
   "source": [
    "## Order Operation"
   ]
  },
  {
   "cell_type": "markdown",
   "id": "a8a35700-e82f-4814-93a1-75380319ea0a",
   "metadata": {},
   "source": [
    "$$ (LIVE)^T = E^TV^TI^TL^T$$"
   ]
  },
  {
   "cell_type": "code",
   "execution_count": 32,
   "id": "5cd9bca4-5a79-4ce5-bf63-235cb8a2256f",
   "metadata": {},
   "outputs": [
    {
     "name": "stdout",
     "output_type": "stream",
     "text": [
      "[[ 6.65710732  7.85574662]\n",
      " [-2.5035678  -2.77318793]]\n",
      " \n",
      "[[ 6.65710732  7.85574662]\n",
      " [-2.5035678  -2.77318793]]\n"
     ]
    },
    {
     "data": {
      "text/plain": [
       "array([[8.8817842e-16, 8.8817842e-16],\n",
       "       [4.4408921e-16, 4.4408921e-16]])"
      ]
     },
     "execution_count": 32,
     "metadata": {},
     "output_type": "execute_result"
    }
   ],
   "source": [
    "n = 2\n",
    "L = np.random.randn(n,n)\n",
    "I = np.random.randn(n,n)\n",
    "V = np.random.randn(n,n)\n",
    "E = np.random.randn(n,n)\n",
    "\n",
    "#result of forward multiplication and then transpose\n",
    "res1 = np.matrix.transpose( L @ I @ V @ E )\n",
    "print(res1)\n",
    "print(\" \")\n",
    "#result of flipped multiplication of transposed matrices\n",
    "res2 = E.T @ V.T @ I.T @ L.T\n",
    "print(res2) \n",
    "\n",
    "#test equality by subtracting (ignore possible computer rounding errors)\n",
    "res1-res2"
   ]
  },
  {
   "cell_type": "markdown",
   "id": "79a0d9e6-3c7e-4021-a4fa-3f658fcaf2f4",
   "metadata": {},
   "source": [
    "## Matrix Vector Multiplication"
   ]
  },
  {
   "cell_type": "code",
   "execution_count": 44,
   "id": "5b0f9194-a387-4dfd-8d1e-521169059339",
   "metadata": {},
   "outputs": [
    {
     "name": "stdout",
     "output_type": "stream",
     "text": [
      "[[ 7 -2 -9  6]\n",
      " [ 2  2  3 10]\n",
      " [-9  6 -1  8]\n",
      " [-2 10  8  4]]\n",
      " \n",
      "[[ 3. -0.  5. -1.]\n",
      " [-0.  0.  1.  6.]\n",
      " [ 5.  1.  0.  4.]\n",
      " [-1.  6.  4.  1.]]\n",
      " \n",
      "[-1  0  1  2]\n",
      " \n",
      "1-[ 0. 13.  3.  7.]\n",
      " \n",
      "2-[ 0. 13.  3.  7.]\n",
      " \n",
      "3-[ 0. 13.  3.  7.]\n",
      " \n",
      "4-[ 0. 13.  3.  7.]\n",
      " \n",
      "5-[ 0. 13.  3.  7.]\n",
      " \n"
     ]
    }
   ],
   "source": [
    "m = 4\n",
    "\n",
    "#create matrices\n",
    "N = np.random.randint(-10,11,(m,m))\n",
    "print(N)\n",
    "print(\" \")\n",
    "S = np.round(N.T*N /m**2) #scaled symmetric\n",
    "print(S)\n",
    "print(\" \")\n",
    "\n",
    "#and vector\n",
    "w = np.array([-1, 0, 1, 2])\n",
    "print(w)\n",
    "print(\" \")\n",
    "\n",
    "#with symmetric matrix\n",
    "print(f\"1-{S@w}\")\n",
    "print(\" \")\n",
    "print(f\"2-{S.T@w}\")\n",
    "print(\" \")\n",
    "print(f\"3-{w@S}\")\n",
    "print(\" \")\n",
    "print(f\"4-{w.T@S.T}\")\n",
    "print(\" \")\n",
    "print(f\"5-{w.T@S}\")\n",
    "print(\" \")"
   ]
  },
  {
   "cell_type": "markdown",
   "id": "2fea8141-ab90-405d-9cb5-dcd71bed6340",
   "metadata": {},
   "source": [
    "## 2D Transformation matrices"
   ]
  },
  {
   "cell_type": "code",
   "execution_count": 50,
   "id": "c5c328e3-57d4-4d80-b787-e84f2b6ac0cd",
   "metadata": {},
   "outputs": [
    {
     "name": "stdout",
     "output_type": "stream",
     "text": [
      "[[ 1 -1]\n",
      " [ 2  1]]\n",
      " \n",
      "[-5 -4]\n",
      " \n"
     ]
    },
    {
     "data": {
      "image/png": "[encoded data removed]",
      "text/plain": [
       "<Figure size 640x480 with 1 Axes>"
      ]
     },
     "metadata": {},
     "output_type": "display_data"
    }
   ],
   "source": [
    "#2D input vector\n",
    "v = np.array([-3, 2])\n",
    "\n",
    "#2x2 transformation matrix\n",
    "A = np.array([[1,-1], [2,1]])\n",
    "print(A)\n",
    "print(\" \")\n",
    "\n",
    "#outputvector is Av (convert v to column)\n",
    "w = A@(np.matrix.transpose(v))\n",
    "print(w)\n",
    "print(\" \")\n",
    "\n",
    "#plot them\n",
    "plt.plot([0, v[0]], [0,v[1]], label='v')\n",
    "plt.plot([0, w[0]], [0,w[1]], label='Av')\n",
    "\n",
    "plt.grid()\n",
    "plt.axis((-6,6,-6,6)) #-x,+x, -y,+y\n",
    "plt.legend()\n",
    "plt.title('Rotation + Stretching')\n",
    "plt.show()"
   ]
  },
  {
   "cell_type": "code",
   "execution_count": 59,
   "id": "c0049911-227e-43b4-a8cb-2f0d71612259",
   "metadata": {},
   "outputs": [
    {
     "name": "stdout",
     "output_type": "stream",
     "text": [
      "th: 0.06283185307179587\n",
      "A: [[ 0.99802673 -0.06279052]\n",
      " [ 0.06279052  0.99802673]]\n",
      " \n",
      "[ 3.11966122 -1.8076819 ]\n",
      " \n"
     ]
    },
    {
     "data": {
      "image/png": "[encoded data removed]",
      "text/plain": [
       "<Figure size 640x480 with 1 Axes>"
      ]
     },
     "metadata": {},
     "output_type": "display_data"
    }
   ],
   "source": [
    "## pure rotetion\n",
    "\n",
    "#2D input vector\n",
    "v = np.array([3, -2])\n",
    "th = np.pi/50\n",
    "print(f'th: {th}')\n",
    "A = np.array([[math.cos(th), -math.sin(th)], [math.sin(th), math.cos(th)]])\n",
    "print(f'A: {A}')\n",
    "print(\" \")\n",
    "\n",
    "#outputvector is Av (convert v to column)\n",
    "w = A@(np.matrix.transpose(v))\n",
    "print(w)\n",
    "print(\" \")\n",
    "\n",
    "#plot them\n",
    "plt.plot([0, v[0]], [0,v[1]], label='v')\n",
    "plt.plot([0, w[0]], [0,w[1]], label='Av')\n",
    "\n",
    "plt.grid()\n",
    "plt.axis((-4,4,-4,4)) #-x,+x, -y,+y\n",
    "plt.legend()\n",
    "plt.title('Pure Rotation')\n",
    "plt.show()"
   ]
  },
  {
   "cell_type": "markdown",
   "id": "ec93417c-11a0-4431-b706-f2ffd8eef94c",
   "metadata": {},
   "source": [
    "## Challenge"
   ]
  },
  {
   "cell_type": "code",
   "execution_count": 68,
   "id": "87ed0988-f92c-4e1f-b45f-435387aa1ccf",
   "metadata": {},
   "outputs": [
    {
     "name": "stdout",
     "output_type": "stream",
     "text": [
      "thetas: [0.         0.06346652 0.12693304 0.19039955 0.25386607 0.31733259\n",
      " 0.38079911 0.44426563 0.50773215 0.57119866 0.63466518 0.6981317\n",
      " 0.76159822 0.82506474 0.88853126 0.95199777 1.01546429 1.07893081\n",
      " 1.14239733 1.20586385 1.26933037 1.33279688 1.3962634  1.45972992\n",
      " 1.52319644 1.58666296 1.65012947 1.71359599 1.77706251 1.84052903\n",
      " 1.90399555 1.96746207 2.03092858 2.0943951  2.15786162 2.22132814\n",
      " 2.28479466 2.34826118 2.41172769 2.47519421 2.53866073 2.60212725\n",
      " 2.66559377 2.72906028 2.7925268  2.85599332 2.91945984 2.98292636\n",
      " 3.04639288 3.10985939 3.17332591 3.23679243 3.30025895 3.36372547\n",
      " 3.42719199 3.4906585  3.55412502 3.61759154 3.68105806 3.74452458\n",
      " 3.8079911  3.87145761 3.93492413 3.99839065 4.06185717 4.12532369\n",
      " 4.1887902  4.25225672 4.31572324 4.37918976 4.44265628 4.5061228\n",
      " 4.56958931 4.63305583 4.69652235 4.75998887 4.82345539 4.88692191\n",
      " 4.95038842 5.01385494 5.07732146 5.14078798 5.2042545  5.26772102\n",
      " 5.33118753 5.39465405 5.45812057 5.52158709 5.58505361 5.64852012\n",
      " 5.71198664 5.77545316 5.83891968 5.9023862  5.96585272 6.02931923\n",
      " 6.09278575 6.15625227 6.21971879 6.28318531]\n",
      " \n",
      "\n"
     ]
    },
    {
     "data": {
      "image/png": "[encoded data removed]",
      "text/plain": [
       "<Figure size 640x480 with 1 Axes>"
      ]
     },
     "metadata": {},
     "output_type": "display_data"
    }
   ],
   "source": [
    "thetas = np.linspace(0,2*np.pi, 100)\n",
    "print(f'thetas: {thetas}')\n",
    "print(\" \")\n",
    "\n",
    "vecmags = np.zeros((len(thetas),2))\n",
    "#print(f'vecmags: {vecmags}')\n",
    "print()\n",
    "\n",
    "for i in range(len(thetas)):\n",
    "    th = thetas[i]\n",
    "    A1 = np.array([[2*math.cos(th), -math.sin(th)], [math.sin(th), math.cos(th)]])\n",
    "    A2 = np.array([[math.cos(th), -math.sin(th)], [math.sin(th), math.cos(th)]])\n",
    "\n",
    "    #cmopute vector magnitures\n",
    "    vecmags[i,0] = np.linalg.norm(A1@v.T)\n",
    "    vecmags[i,1] = np.linalg.norm(A2@v.T)\n",
    "\n",
    "plt.plot(thetas, vecmags, 'o-') \n",
    "plt.xlabel(\"Rotation Angle (rad.)\")\n",
    "plt.ylabel(\"Av magnitude\")\n",
    "plt.legend(['Impure Rotation', 'Pure Rotation'])\n",
    "plt.show()"
   ]
  },
  {
   "cell_type": "markdown",
   "id": "098ba479-4efb-42c6-97e8-5159bbd93ce2",
   "metadata": {},
   "source": [
    "## Challenge 2"
   ]
  },
  {
   "cell_type": "code",
   "execution_count": 83,
   "id": "6903a56a-7acf-4a57-bc1f-9e21187d9c8f",
   "metadata": {},
   "outputs": [
    {
     "name": "stdout",
     "output_type": "stream",
     "text": [
      " \n",
      "(100, 2)\n",
      " \n",
      " \n",
      "[[1 2]\n",
      " [2 1]]\n",
      " \n",
      " \n"
     ]
    },
    {
     "data": {
      "image/png": "[encoded data removed]",
      "text/plain": [
       "<Figure size 640x480 with 1 Axes>"
      ]
     },
     "metadata": {},
     "output_type": "display_data"
    }
   ],
   "source": [
    "# generate (X,y) coordinates for a circle\n",
    "x = np.linspace(-np.pi, np.pi, 100) #min, max e quantity\n",
    "#print(x)\n",
    "print(\" \")\n",
    "\n",
    "xy = np.vstack((np.cos(x), np.sin(x))).T\n",
    "#print(xy)\n",
    "print(np.shape(xy))\n",
    "print(\" \")\n",
    "\n",
    "#plot the circle\n",
    "plt.plot(xy[:,0], xy[:,1], 'o')\n",
    "print(\" \")\n",
    "\n",
    "#create a 2x2 matrix, starting with I\n",
    "T = np.array([[1,2], [2,1]])\n",
    "print(T)\n",
    "print(\" \")\n",
    "\n",
    "#multiply matrix by coordinates\n",
    "newxy = xy@T\n",
    "\n",
    "#plot the new coords. \n",
    "plt.plot(newxy[:,0], newxy[:,1], 'o')\n",
    "print(\" \")\n",
    "plt.axis('square')\n",
    "plt.show()\n",
    "#try with various matrices\n",
    "\n",
    "#try with a singular matrix (columns form a linearly dependent set)"
   ]
  },
  {
   "cell_type": "markdown",
   "id": "fe2076bc-7dd1-4bf9-aedc-45c1043b9e1c",
   "metadata": {},
   "source": [
    "## Additive and multiplicative matrix identities"
   ]
  },
  {
   "cell_type": "markdown",
   "id": "29dd48f4-de3b-4e89-9fd5-e6ac1e1b8e2a",
   "metadata": {},
   "source": [
    "## $$AI = IA = A || A+I \\neq A$$\n",
    "## $$A0 = 0A \\neq A || A+0 = A$$"
   ]
  },
  {
   "cell_type": "code",
   "execution_count": 90,
   "id": "332440fb-1323-4e80-9640-ee5cbb2f60a6",
   "metadata": {},
   "outputs": [
    {
     "name": "stdout",
     "output_type": "stream",
     "text": [
      "[[  3.  -9.   2.   5.]\n",
      " [-16. -17. -22.  -1.]\n",
      " [ 17.  -2.   7.  -4.]\n",
      " [  6.  -7.  11. -13.]]\n",
      " \n"
     ]
    },
    {
     "data": {
      "text/plain": [
       "True"
      ]
     },
     "execution_count": 90,
     "metadata": {},
     "output_type": "execute_result"
    }
   ],
   "source": [
    "#size of matrices \n",
    "n = 4\n",
    "\n",
    "#create matrices\n",
    "A = np.round(10*np.random.randn( n,n))\n",
    "print(A)\n",
    "print(\" \")\n",
    "I = np.eye(n,n)\n",
    "Z = np.zeros((n,n))\n",
    "\n",
    "#testing both identities\n",
    "np.array_equal(A@I, A)\n",
    "np.array_equal(A, A@I)\n",
    "np.array_equal(A, A+I)\n",
    "np.array_equal(A+Z, A@I)"
   ]
  },
  {
   "cell_type": "markdown",
   "id": "cf4e56c1-43ce-436d-b0bd-2a3efdd793df",
   "metadata": {},
   "source": [
    "## Additive and multiplicative symmetric matrices"
   ]
  },
  {
   "cell_type": "code",
   "execution_count": 94,
   "id": "a92e490a-ec97-4d85-8bef-e12e4d731f96",
   "metadata": {},
   "outputs": [
    {
     "name": "stdout",
     "output_type": "stream",
     "text": [
      "[[ -3.  -4.  -3. -12.  -2.]\n",
      " [ -1.   1.   3.   4.  -1.]\n",
      " [ -1.   0.   2. -10.   5.]\n",
      " [ -2.  -3.   4.  -2.  -4.]\n",
      " [  7.   1.  -4.   1.   3.]]\n",
      " \n",
      "[[-3.  -2.5 -2.  -7.   2.5]\n",
      " [-2.5  1.   1.5  0.5  0. ]\n",
      " [-2.   1.5  2.  -3.   0.5]\n",
      " [-7.   0.5 -3.  -2.  -1.5]\n",
      " [ 2.5  0.   0.5 -1.5  3. ]]\n",
      " \n",
      "[[0. 0. 0. 0. 0.]\n",
      " [0. 0. 0. 0. 0.]\n",
      " [0. 0. 0. 0. 0.]\n",
      " [0. 0. 0. 0. 0.]\n",
      " [0. 0. 0. 0. 0.]]\n"
     ]
    }
   ],
   "source": [
    "##the additive method\n",
    "\n",
    "#specify sizes\n",
    "m = 5\n",
    "n = 5\n",
    "\n",
    "A = np.round(5*np.random.randn(m,n))\n",
    "print(A)\n",
    "print(\" \")\n",
    "S = (A+A.T)/2\n",
    "print(S)\n",
    "print(\" \")\n",
    "\n",
    "#A symmetric matrix minus its transpose should be all zeros\n",
    "print(S-S.T)"
   ]
  },
  {
   "cell_type": "code",
   "execution_count": 99,
   "id": "4f144033-c291-4f88-b702-68e9b55cb539",
   "metadata": {},
   "outputs": [
    {
     "name": "stdout",
     "output_type": "stream",
     "text": [
      "Shape pf AtA: (3, 3)\n",
      "Shape pf AAt: (5, 5)\n",
      "[[0. 0. 0.]\n",
      " [0. 0. 0.]\n",
      " [0. 0. 0.]]\n",
      " \n",
      "[[0. 0. 0. 0. 0.]\n",
      " [0. 0. 0. 0. 0.]\n",
      " [0. 0. 0. 0. 0.]\n",
      " [0. 0. 0. 0. 0.]\n",
      " [0. 0. 0. 0. 0.]]\n"
     ]
    }
   ],
   "source": [
    "## the multiplicative method\n",
    "\n",
    "#specify sizes\n",
    "m = 5\n",
    "n = 3\n",
    "\n",
    "# create matrices\n",
    "A = np.round(5*np.random.randn(m,n))\n",
    "AtA = A.T@A\n",
    "AAt = A@A.T\n",
    "\n",
    "#first show that they are squares\n",
    "print(f'Shape pf AtA: {AtA.shape}')\n",
    "print(f'Shape pf AAt: {AAt.shape}')\n",
    "\n",
    "#show that they are symmetric\n",
    "print(AtA-AtA.T), print(\" \")\n",
    "\n",
    "print(AAt-AAt.T)"
   ]
  },
  {
   "cell_type": "code",
   "execution_count": null,
   "id": "bd3e3f63-dee1-478f-ae0c-c5d22ff5f3bb",
   "metadata": {},
   "outputs": [],
   "source": []
  }
 ],
 "metadata": {
  "kernelspec": {
   "display_name": "Python 3 (ipykernel)",
   "language": "python",
   "name": "python3"
  },
  "language_info": {
   "codemirror_mode": {
    "name": "ipython",
    "version": 3
   },
   "file_extension": ".py",
   "mimetype": "text/x-python",
   "name": "python",
   "nbconvert_exporter": "python",
   "pygments_lexer": "ipython3",
   "version": "3.9.21"
  }
 },
 "nbformat": 4,
 "nbformat_minor": 5
}
