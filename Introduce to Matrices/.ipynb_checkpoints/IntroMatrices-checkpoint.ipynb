{
 "cells": [
  {
   "cell_type": "code",
   "execution_count": 1,
   "id": "d50debbd-2371-43ea-b361-681926bf98b3",
   "metadata": {},
   "outputs": [],
   "source": [
    "import numpy as np"
   ]
  },
  {
   "cell_type": "markdown",
   "id": "b0c8335c-e8f9-41df-98e8-c726c74ce463",
   "metadata": {},
   "source": [
    "## Zoo of Matrices"
   ]
  },
  {
   "cell_type": "code",
   "execution_count": 13,
   "id": "7cb0fa83-c1de-407b-a8c9-4264b5925806",
   "metadata": {},
   "outputs": [
    {
     "name": "stdout",
     "output_type": "stream",
     "text": [
      "Square 5x5\n",
      "[[-1.14182002 -0.98569336 -1.83892352 -1.1769146  -0.02021038]\n",
      " [-0.80018669 -0.98873282 -0.92012473 -2.08854067  2.41688095]\n",
      " [ 0.89127934 -0.35457045  0.20126395  0.05087446 -0.4604588 ]\n",
      " [-0.24318208  0.04281261  1.70912591  0.01984704  0.86397725]\n",
      " [ 0.12293325  0.19811607  1.19816953 -0.47248306 -1.28474864]]\n",
      " \n",
      "Rectangular 5x2\n",
      "[[-1.11284887  0.35059071]\n",
      " [-0.73850114 -0.43758468]\n",
      " [-0.71875141  1.65182255]\n",
      " [-0.25059337  0.05072686]\n",
      " [-2.10145607 -0.24497146]]\n",
      "Identity\n",
      "[[1. 0. 0.]\n",
      " [0. 1. 0.]\n",
      " [0. 0. 1.]]\n",
      " \n",
      "Zeros\n",
      "[[0. 0. 0. 0.]\n",
      " [0. 0. 0. 0.]\n",
      " [0. 0. 0. 0.]\n",
      " [0. 0. 0. 0.]]\n",
      " \n",
      "Diagonal\n",
      "[[ 1  0  0  0  0]\n",
      " [ 0  2  0  0  0]\n",
      " [ 0  0 34  0  0]\n",
      " [ 0  0  0  6  0]\n",
      " [ 0  0  0  0  2]]\n",
      " \n",
      "Upper\n",
      "[[-0.82991627 -0.49137293 -0.31327455  0.8260617  -1.08283096]\n",
      " [ 0.          0.10368257  0.19015219 -0.36681516  1.77124749]\n",
      " [ 0.          0.          1.10488588 -0.70651435  0.26483053]\n",
      " [ 0.          0.          0.          0.1273731   0.62794119]\n",
      " [ 0.          0.          0.          0.         -0.25422394]]\n",
      " \n",
      "Upper\n",
      "[[-0.82991627  0.          0.          0.          0.        ]\n",
      " [ 0.28840973  0.10368257  0.          0.          0.        ]\n",
      " [-1.6618555   0.27187419  1.10488588  0.          0.        ]\n",
      " [ 0.0989042   0.42526372 -1.16516854  0.1273731   0.        ]\n",
      " [ 0.54323367  0.28145023 -0.51547113 -0.94336136 -0.25422394]]\n",
      " \n",
      "Concatenate\n",
      "[[-1.88138652 -0.42016122  0.10280386  2.17920263  0.2292688  -1.37324932]\n",
      " [ 0.02221884 -0.9545866   0.82239077 -0.34619171  0.13600647  0.57614901]\n",
      " [ 2.04215598  1.02549718 -0.99769778 -1.74156994  0.51584608 -0.09640105]]\n"
     ]
    }
   ],
   "source": [
    "#square vs. rectangular\n",
    "S = np.random.randn(5,5)\n",
    "print(\"Square 5x5\")\n",
    "print(S)\n",
    "print(\" \")\n",
    "R = np.random.randn(5,2)\n",
    "print(\"Rectangular 5x2\")\n",
    "print(R)\n",
    "\n",
    "#identity\n",
    "I = np.eye(3)\n",
    "print(\"Identity\")\n",
    "print(I)\n",
    "print(\" \")\n",
    "\n",
    "#zeros\n",
    "Z = np.zeros((4,4))\n",
    "print(\"Zeros\")\n",
    "print(Z)\n",
    "print(\" \")\n",
    "\n",
    "#diagonal\n",
    "\n",
    "D = np.diag([1, 2 ,34, 6, 2])\n",
    "print(\"Diagonal\")\n",
    "print(D)\n",
    "print(\" \")\n",
    "\n",
    "#triangular matrix from full matrices\n",
    "S = np.random.randn(5,5)\n",
    "U = np.triu(S)\n",
    "print(\"Upper\")\n",
    "print(U)\n",
    "print(\" \")\n",
    "L = np.tril(S)\n",
    "print(\"Upper\")\n",
    "print(L)\n",
    "print(\" \")\n",
    "\n",
    "#concatenate matrices (sizes must match!)\n",
    "A = np.random.randn(3,2)\n",
    "B = np.random.randn(3,4) \n",
    "C = np.concatenate((A,B), axis = 1)\n",
    "print(\"Concatenate\")\n",
    "print(C)"
   ]
  },
  {
   "cell_type": "markdown",
   "id": "8248efde-0a82-4daa-a4ce-e43c9f87f365",
   "metadata": {},
   "source": [
    "## Matrix addition and subtraction"
   ]
  },
  {
   "cell_type": "code",
   "execution_count": 21,
   "id": "d1572bae-a85e-43f9-8aaa-7709f7df75db",
   "metadata": {},
   "outputs": [
    {
     "name": "stdout",
     "output_type": "stream",
     "text": [
      "Add A+C\n",
      "[[-1.28739591  0.33236966  0.33441739  1.87211271]\n",
      " [-2.79907107  1.59058669 -2.29914927 -0.22443926]\n",
      " [-0.45570698 -0.70664465  0.47356121  3.46781311]\n",
      " [ 0.37037755 -2.33131859 -0.76489823 -0.10767443]\n",
      " [-1.25372091  0.82082204 -1.08246203 -1.01828934]]\n",
      " \n",
      "Random Matrix D\n",
      "[[-0.59783179 -1.47652473 -0.03007667  0.46565198 -0.06373037]\n",
      " [-0.97060348  0.49703576  0.93728825 -0.39763171 -0.11855314]\n",
      " [-1.00399766 -0.40624753  1.31977412  0.9579033   0.21406803]\n",
      " [ 0.19278189  0.08856624 -1.44068916  1.52476837  0.56426999]\n",
      " [-0.75846462 -1.17770868 -0.04455083  0.88570694  0.24843912]]\n",
      " \n",
      "Random Matrix D + lambda(0.3)*Identity Matrix\n",
      "[[-0.29783179 -1.47652473 -0.03007667  0.46565198 -0.06373037]\n",
      " [-0.97060348  0.79703576  0.93728825 -0.39763171 -0.11855314]\n",
      " [-1.00399766 -0.40624753  1.61977412  0.9579033   0.21406803]\n",
      " [ 0.19278189  0.08856624 -1.44068916  1.82476837  0.56426999]\n",
      " [-0.75846462 -1.17770868 -0.04455083  0.88570694  0.54843912]]\n"
     ]
    }
   ],
   "source": [
    "#create random matrices\n",
    "\n",
    "A = np.random.randn(5,4)\n",
    "B = np.random.randn(5,3)\n",
    "C = np.random.randn(5,4)\n",
    "\n",
    "#Try to add\n",
    "#A+B #gives an error\n",
    "print(\"Add A+C\")\n",
    "print(A+C)\n",
    "print(\" \")\n",
    "\n",
    "#Shifting a matrix\n",
    "\n",
    "l = 0.3 #lambda\n",
    "N = 5 #size of square matrix\n",
    "D = np.random.randn(N,N) #can only shift a square matrix\n",
    "\n",
    "Ds = D + l*np.eye(N)\n",
    "print(\"Random Matrix D\")\n",
    "print(D), print(\" \")\n",
    "print(\"Random Matrix D + lambda(0.3)*Identity Matrix\")\n",
    "print(Ds)"
   ]
  },
  {
   "cell_type": "markdown",
   "id": "7df4ee8c-78ed-4f54-984b-5e6159783fbb",
   "metadata": {},
   "source": [
    "## Matrix Scalar Multiplication"
   ]
  },
  {
   "cell_type": "code",
   "execution_count": 23,
   "id": "5a8dfa1b-43a1-489a-b184-cb3f889bd860",
   "metadata": {},
   "outputs": [
    {
     "name": "stdout",
     "output_type": "stream",
     "text": [
      "[[1 2]\n",
      " [2 5]]\n",
      " \n",
      "[[ 2  4]\n",
      " [ 4 10]]\n",
      "[[ 2  4]\n",
      " [ 4 10]]\n"
     ]
    }
   ],
   "source": [
    "#define matrix and scalar\n",
    "M = np.array([ [1,2], [2,5] ])\n",
    "s = 2\n",
    "\n",
    "print(M)\n",
    "print(\" \")\n",
    "#pre-and post-mutiplication is the same:\n",
    "print(M*s)\n",
    "print(s*M)"
   ]
  },
  {
   "cell_type": "markdown",
   "id": "46231d17-15d8-422a-9f00-07eb931c57ab",
   "metadata": {},
   "source": [
    "## Challenge"
   ]
  },
  {
   "cell_type": "code",
   "execution_count": 32,
   "id": "68f421c4-d5ee-466d-b835-2751c0db2b50",
   "metadata": {},
   "outputs": [
    {
     "name": "stdout",
     "output_type": "stream",
     "text": [
      "[[-3.6337243   1.48303158  3.35955386  0.00650761]\n",
      " [ 1.04583026  1.07465138  0.30513242 -3.31546714]\n",
      " [-1.31098169  2.78124495 -3.45262715 -0.88103922]\n",
      " [ 3.7592865   0.40651533 -0.50629955  2.35683046]\n",
      " [ 0.36750105 -1.85795424 -1.96477437 -5.57474656]]\n",
      "[[-3.6337243   1.48303158  3.35955386  0.00650761]\n",
      " [ 1.04583026  1.07465138  0.30513242 -3.31546714]\n",
      " [-1.31098169  2.78124495 -3.45262715 -0.88103922]\n",
      " [ 3.7592865   0.40651533 -0.50629955  2.35683046]\n",
      " [ 0.36750105 -1.85795424 -1.96477437 -5.57474656]]\n",
      "Equals!\n"
     ]
    }
   ],
   "source": [
    "# Test for some random MxN matrices whether s(A+B) = sA + sB\n",
    "\n",
    "A = np.random.randn(5,4)\n",
    "#print(A)\n",
    "B = np.random.randn(5,4)\n",
    "#print(B)\n",
    "\n",
    "scalar = 2\n",
    "\n",
    "matrix_add = scalar*(A+B)\n",
    "print(matrix_add)\n",
    "\n",
    "sum_total = scalar*A + scalar*B\n",
    "print(sum_total)\n",
    "\n",
    "all_equal = True  # Variável de controle para verificar igualdade\n",
    "\n",
    "for i, row in enumerate(matrix_add):\n",
    "    for j, value in enumerate(row):\n",
    "        if matrix_add[i][j] != sum_total[i][j]:  # Verifica se algum elemento é diferente\n",
    "            all_equal = False\n",
    "            break  # Sai do loop interno\n",
    "    if not all_equal:  # Sai do loop externo se já encontrou diferenças\n",
    "        break\n",
    "\n",
    "if all_equal:\n",
    "    print(\"Equals!\")\n",
    "else:\n",
    "    print(\"Fail\")\n",
    "\n"
   ]
  },
  {
   "cell_type": "markdown",
   "id": "7a1c6b4e-998c-4a1a-906c-3cc704fd0c60",
   "metadata": {},
   "source": [
    "## Transpose"
   ]
  },
  {
   "cell_type": "code",
   "execution_count": 36,
   "id": "ad679091-a330-4fb8-98c4-5d166a81324c",
   "metadata": {},
   "outputs": [
    {
     "name": "stdout",
     "output_type": "stream",
     "text": [
      "[[1 2 3]\n",
      " [2 3 4]]\n",
      " \n",
      "[[1 2]\n",
      " [2 3]\n",
      " [3 4]]\n",
      " \n",
      "[[1 2 3]\n",
      " [2 3 4]]\n",
      " \n",
      "using Numpy Transpose\n",
      "[[1 2]\n",
      " [2 3]\n",
      " [3 4]]\n"
     ]
    }
   ],
   "source": [
    "M = np.array([ [1,2, 3], [2,3, 4] ])\n",
    "print(M), print(\" \")\n",
    "print(M.T), print(\" \") #Transpose\n",
    "print(M.T.T), print(\" \")\n",
    "\n",
    "#using function\n",
    "print('using Numpy Transpose')\n",
    "print(np.transpose(M))"
   ]
  },
  {
   "cell_type": "code",
   "execution_count": 39,
   "id": "dbf30655-a140-4455-87da-82de4fa7d632",
   "metadata": {},
   "outputs": [
    {
     "name": "stdout",
     "output_type": "stream",
     "text": [
      "[[4.+1.j 3.+0.j 2.-4.j]]\n",
      " \n",
      "[[4.+1.j]\n",
      " [3.+0.j]\n",
      " [2.-4.j]]\n",
      " \n",
      "[[4.+1.j]\n",
      " [3.+0.j]\n",
      " [2.-4.j]]\n",
      " \n",
      "Hermitian Transpose\n",
      "[[4.-1.j]\n",
      " [3.-0.j]\n",
      " [2.+4.j]]\n"
     ]
    }
   ],
   "source": [
    "# warning! be careful when  using complex matrices\n",
    "C = np.array([[4+1j, 3 , 2-4j]])\n",
    "print(C), print(\" \")\n",
    "print(C.T), print(\" \")\n",
    "print(np.transpose(C)), print(\" \")\n",
    "\n",
    "#Hermition transpose:\n",
    "print(\"Hermitian Transpose\")\n",
    "print(np.matrix(C).H)"
   ]
  },
  {
   "cell_type": "markdown",
   "id": "48891693-246a-4ad8-b608-b82a692c35f1",
   "metadata": {},
   "source": [
    "## Diagonal and Trace"
   ]
  },
  {
   "cell_type": "markdown",
   "id": "f58e405c-a088-4b39-8797-fc43a8c4af13",
   "metadata": {},
   "source": [
    "#### Diagonal\n",
    "\n",
    "## $$v_i = A_{i,i}, \\quad i=\\{1,2,...,min(m,n)\\}$$\n",
    "\n",
    "#### Trace\n",
    "\n",
    "## $$tr(A) = \\sum_{i=1}^m A_{i,i}$$"
   ]
  },
  {
   "cell_type": "code",
   "execution_count": 45,
   "id": "bf33dfa1-7e79-45f0-b5c1-a23f56c17f6d",
   "metadata": {},
   "outputs": [
    {
     "name": "stdout",
     "output_type": "stream",
     "text": [
      "[[ 1. -5. -8.  8.]\n",
      " [ 1. -2.  1.  4.]\n",
      " [ 9.  8. -8.  1.]\n",
      " [ 0.  7.  9.  6.]]\n",
      "Diagonal\n",
      "[ 1. -2. -8.  6.]\n",
      "Matrix\n",
      "[[ 1.  0.  0.  0.]\n",
      " [ 0. -2.  0.  0.]\n",
      " [ 0.  0. -8.  0.]\n",
      " [ 0.  0.  0.  6.]]\n",
      "-3.0 -3.0\n"
     ]
    }
   ],
   "source": [
    "M = np.round(5*np.random.randn(4,4) )\n",
    "print(M)\n",
    "\n",
    "#extract diagonal\n",
    "print(\"Diagonal\")\n",
    "d = np.diag(M)\n",
    "print(d)\n",
    "D = np.diag(d) #input is the vector, output is matrix\n",
    "print(\"Matrix\")\n",
    "print(D)\n",
    "\n",
    "#trace as sum of diagonal elements\n",
    "tr = np.trace(M)\n",
    "tr2 = sum(np.diag(M))\n",
    "print(tr, tr2)"
   ]
  },
  {
   "cell_type": "markdown",
   "id": "d2195449-f2e8-45f0-9c91-d3e3c34f8a13",
   "metadata": {},
   "source": [
    "## Challenge"
   ]
  },
  {
   "cell_type": "code",
   "execution_count": 66,
   "id": "bb62c659-c93b-481b-b5c6-dc7240acea14",
   "metadata": {},
   "outputs": [
    {
     "name": "stdout",
     "output_type": "stream",
     "text": [
      "[[ 3.  3.  3. -6.]\n",
      " [ 3.  4. -7. -5.]\n",
      " [-6.  3.  1. -7.]\n",
      " [ 6.  5. -4. -2.]]\n",
      " \n",
      "6.0 -8.0\n",
      "-2.0\n",
      "[[ -1.   7.   3.  -7.]\n",
      " [  4.   4. -10.  -8.]\n",
      " [ -9.   4.   6. -11.]\n",
      " [  9.   8.  -9. -11.]]\n",
      "-2.0\n",
      "0.5813813244929236\n",
      "tr(l*A) = 3.4882879469575414\n",
      "l*tr(A) = 3.4882879469575414\n"
     ]
    }
   ],
   "source": [
    "#wheter the trace is linear\n",
    "\n",
    "#tr(A) + tr(B) == tr(A+B)?\n",
    "\n",
    "M = 4\n",
    "N = 4\n",
    "A = np.round(5*np.random.randn(M, N))\n",
    "B = np.round(5*np.random.randn(M, N))\n",
    "\n",
    "#L QUEST\n",
    "print(A)\n",
    "print(\" \")\n",
    "#Diagonal\n",
    "trA = sum(np.diag(A))\n",
    "trB = sum(np.diag(B))\n",
    "\n",
    "\n",
    "print(trA, trB)\n",
    "LQuest = (trA+ trB)\n",
    "print(LQuest)\n",
    "\n",
    "\n",
    "# R QUEST\n",
    "C = A + B\n",
    "print(C)\n",
    "print(sum(np.diag(C)))\n",
    "\n",
    "\n",
    "\n",
    "#tr(l*A) == L* tr(A)?\n",
    "\n",
    "l = np.random.rand()\n",
    "print(l)\n",
    "\n",
    "print(f\"tr(l*A) = {sum(np.diag(l*A))}\")\n",
    "print(f\"l*tr(A) = {l*sum(np.diag(A))}\")"
   ]
  },
  {
   "cell_type": "markdown",
   "id": "5454361a-6fb0-4e9b-a3f6-a25dcd7156aa",
   "metadata": {},
   "source": [
    "## BroadCasting"
   ]
  },
  {
   "cell_type": "code",
   "execution_count": 75,
   "id": "5b08f594-f752-473a-a1cf-2134205a42f4",
   "metadata": {
    "scrolled": true
   },
   "outputs": [
    {
     "name": "stdout",
     "output_type": "stream",
     "text": [
      "[[ 1  4  7 10]\n",
      " [ 2  5  8 11]\n",
      " [ 3  6  9 12]]\n",
      " \n",
      "[10, 20, 30, 40]\n",
      " \n",
      "[100, 200, 300]\n",
      " \n"
     ]
    },
    {
     "data": {
      "text/plain": [
       "(None, None)"
      ]
     },
     "execution_count": 75,
     "metadata": {},
     "output_type": "execute_result"
    }
   ],
   "source": [
    "#matrix\n",
    "A = np.reshape(np.arange(1,13),(3,4),'F') #F column, C= Row\n",
    "\n",
    "\n",
    "#two vectors\n",
    "r = [10, 20, 30, 40]\n",
    "c = [100, 200, 300]\n",
    "\n",
    "print(A), print(\" \")\n",
    "print(r), print(\" \")\n",
    "print(c), print(\" \")"
   ]
  },
  {
   "cell_type": "code",
   "execution_count": 81,
   "id": "949a22b3-58e4-419b-8a76-5bae2c632dfb",
   "metadata": {},
   "outputs": [
    {
     "name": "stdout",
     "output_type": "stream",
     "text": [
      "A+r\n",
      "[[11 24 37 50]\n",
      " [12 25 38 51]\n",
      " [13 26 39 52]]\n",
      " \n",
      "A+c\n",
      "[[101 104 107 110]\n",
      " [202 205 208 211]\n",
      " [303 306 309 312]]\n"
     ]
    }
   ],
   "source": [
    "#broadcast on the rows\n",
    "\n",
    "print(\"A+r\")\n",
    "print(A+r), print(\" \")\n",
    "\n",
    "#broadcast on the columns\n",
    "print(\"A+c\")\n",
    "print(A+np.reshape(c,(len(c),1)))"
   ]
  },
  {
   "cell_type": "code",
   "execution_count": null,
   "id": "3be60e51-b4e5-4136-bbdf-b945efb974bf",
   "metadata": {},
   "outputs": [],
   "source": []
  }
 ],
 "metadata": {
  "kernelspec": {
   "display_name": "Python 3 (ipykernel)",
   "language": "python",
   "name": "python3"
  },
  "language_info": {
   "codemirror_mode": {
    "name": "ipython",
    "version": 3
   },
   "file_extension": ".py",
   "mimetype": "text/x-python",
   "name": "python",
   "nbconvert_exporter": "python",
   "pygments_lexer": "ipython3",
   "version": "3.9.21"
  }
 },
 "nbformat": 4,
 "nbformat_minor": 5
}
